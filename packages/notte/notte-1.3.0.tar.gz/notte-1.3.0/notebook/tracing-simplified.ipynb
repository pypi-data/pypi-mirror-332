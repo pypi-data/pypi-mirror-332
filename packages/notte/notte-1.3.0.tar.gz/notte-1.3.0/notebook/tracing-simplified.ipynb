{
 "cells": [
  {
   "cell_type": "code",
   "execution_count": null,
   "metadata": {},
   "outputs": [],
   "source": [
    "\n",
    "class OffLineBrowserDriver(BrowserDriver):\n",
    "    def __init__(self, browser: Browser):\n",
    "        self.browser = browser\n",
    "\n",
    "    async def goto(self, url: str) -> BrowserSnapshot:\n",
    "        return await self.browser.goto(url)\n",
    "\n",
    "\n",
    "\n",
    "\n"
   ]
  }
 ],
 "metadata": {
  "language_info": {
   "name": "python"
  }
 },
 "nbformat": 4,
 "nbformat_minor": 2
}
