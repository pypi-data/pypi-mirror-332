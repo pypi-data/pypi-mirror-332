{
 "cells": [
  {
   "cell_type": "code",
   "execution_count": 1,
   "metadata": {},
   "outputs": [
    {
     "name": "stderr",
     "output_type": "stream",
     "text": [
      "/Users/lucasgiordano/miniconda3/envs/notte-dev-test/lib/python3.11/site-packages/pydantic/_internal/_config.py:345: UserWarning: Valid config keys have changed in V2:\n",
      "* 'fields' has been removed\n",
      "  warnings.warn(message, UserWarning)\n",
      "\u001b[32m2025-01-28 11:01:49.438\u001b[0m | \u001b[1mINFO    \u001b[0m | \u001b[36mnotte.llms.service\u001b[0m:\u001b[36m<module>\u001b[0m:\u001b[36m19\u001b[0m - \u001b[1mUsing default LLAMUX config path: /Users/lucasgiordano/Desktop/projects/notte/notte/llms/config/endpoints.csv\u001b[0m\n",
      "\u001b[32m2025-01-28 11:01:49.463\u001b[0m | \u001b[1mINFO    \u001b[0m | \u001b[36mnotte.browser.driver\u001b[0m:\u001b[36m__init__\u001b[0m:\u001b[36m43\u001b[0m - \u001b[1mUsing local browser pool. Consider using a shared pool for better resource management and performance by setting `browser_pool=BrowserPool(verbose=True)`\u001b[0m\n",
      "\u001b[32m2025-01-28 11:01:55.506\u001b[0m | \u001b[33m\u001b[1mWARNING \u001b[0m | \u001b[36mnotte.pipe.preprocessing.a11y.pruning\u001b[0m:\u001b[36mshould_prune\u001b[0m:\u001b[36m59\u001b[0m - \u001b[33m\u001b[1mRole `alert` has an empty name and no children. Please considered adding it to `prune_roles`\u001b[0m\n",
      "\u001b[32m2025-01-28 11:01:55.514\u001b[0m | \u001b[33m\u001b[1mWARNING \u001b[0m | \u001b[36mnotte.pipe.preprocessing.a11y.pruning\u001b[0m:\u001b[36mshould_prune\u001b[0m:\u001b[36m59\u001b[0m - \u001b[33m\u001b[1mRole `alert` has an empty name and no children. Please considered adding it to `prune_roles`\u001b[0m\n",
      "\u001b[32m2025-01-28 11:01:55.516\u001b[0m | \u001b[1mINFO    \u001b[0m | \u001b[36mnotte.common.logging\u001b[0m:\u001b[36mwrapper\u001b[0m:\u001b[36m16\u001b[0m - \u001b[1mfunction goto took 4.3108 seconds\u001b[0m\n",
      "\u001b[32m2025-01-28 11:01:55.516\u001b[0m | \u001b[34m\u001b[1mDEBUG   \u001b[0m | \u001b[36mnotte.env\u001b[0m:\u001b[36mobserve\u001b[0m:\u001b[36m142\u001b[0m - \u001b[34m\u001b[1mℹ️ previous actions IDs: []\u001b[0m\n",
      "\u001b[32m2025-01-28 11:01:55.517\u001b[0m | \u001b[34m\u001b[1mDEBUG   \u001b[0m | \u001b[36mnotte.env\u001b[0m:\u001b[36mobserve\u001b[0m:\u001b[36m143\u001b[0m - \u001b[34m\u001b[1mℹ️ context inodes IDs: ['L1', 'L2', 'L3', 'L4', 'L5', 'L6', 'L7', 'B1', 'I1', 'B2']\u001b[0m\n",
      "\u001b[32m2025-01-28 11:01:55.525\u001b[0m | \u001b[34m\u001b[1mDEBUG   \u001b[0m | \u001b[36mnotte.llms.service\u001b[0m:\u001b[36mget_base_model\u001b[0m:\u001b[36m44\u001b[0m - \u001b[34m\u001b[1mllm router 'fixed' selected 'ollama/llama3:instruct' for approx 1650 tokens\u001b[0m\n",
      "\u001b[32m2025-01-28 11:02:28.492\u001b[0m | \u001b[33m\u001b[1mWARNING \u001b[0m | \u001b[36mnotte.actions.parsing\u001b[0m:\u001b[36mparse_table\u001b[0m:\u001b[36m331\u001b[0m - \u001b[33m\u001b[1m[Markdown table parsing] Failed to parse action line: | L1 | Link to Notte - Web Browser for LLM Agents | None | Navigation | with error: Failed to parse LLM response. Name and type are required fields but not found in : None  Please try again later.\u001b[0m\n",
      "\u001b[32m2025-01-28 11:02:28.500\u001b[0m | \u001b[33m\u001b[1mWARNING \u001b[0m | \u001b[36mnotte.actions.parsing\u001b[0m:\u001b[36mparse_table\u001b[0m:\u001b[36m331\u001b[0m - \u001b[33m\u001b[1m[Markdown table parsing] Failed to parse action line: | L2 | Link to Visit Notte Blog | None | Help & Support | with error: Failed to parse LLM response. Name and type are required fields but not found in : None  Please try again later.\u001b[0m\n",
      "\u001b[32m2025-01-28 11:02:28.501\u001b[0m | \u001b[33m\u001b[1mWARNING \u001b[0m | \u001b[36mnotte.actions.parsing\u001b[0m:\u001b[36mparse_table\u001b[0m:\u001b[36m331\u001b[0m - \u001b[33m\u001b[1m[Markdown table parsing] Failed to parse action line: | L3 | Link to Visit Notte Roadmap | None | Settings & Preferences | with error: Failed to parse LLM response. Name and type are required fields but not found in : None  Please try again later.\u001b[0m\n",
      "\u001b[32m2025-01-28 11:02:28.502\u001b[0m | \u001b[33m\u001b[1mWARNING \u001b[0m | \u001b[36mnotte.actions.parsing\u001b[0m:\u001b[36mparse_table\u001b[0m:\u001b[36m331\u001b[0m - \u001b[33m\u001b[1m[Markdown table parsing] Failed to parse action line: | L4 | Link to Visit Notte on GitHub | None | Help & Support | with error: Failed to parse LLM response. Name and type are required fields but not found in : None  Please try again later.\u001b[0m\n",
      "\u001b[32m2025-01-28 11:02:28.502\u001b[0m | \u001b[33m\u001b[1mWARNING \u001b[0m | \u001b[36mnotte.actions.parsing\u001b[0m:\u001b[36mparse_table\u001b[0m:\u001b[36m331\u001b[0m - \u001b[33m\u001b[1m[Markdown table parsing] Failed to parse action line: | L5 | Link to Join Notte Discord | None | Navigation | with error: Failed to parse LLM response. Name and type are required fields but not found in : None  Please try again later.\u001b[0m\n",
      "\u001b[32m2025-01-28 11:02:28.503\u001b[0m | \u001b[33m\u001b[1mWARNING \u001b[0m | \u001b[36mnotte.actions.parsing\u001b[0m:\u001b[36mparse_table\u001b[0m:\u001b[36m331\u001b[0m - \u001b[33m\u001b[1m[Markdown table parsing] Failed to parse action line: | L6 | Link to Visit Notte on LinkedIn | None | Help & Support | with error: Failed to parse LLM response. Name and type are required fields but not found in : None  Please try again later.\u001b[0m\n",
      "\u001b[32m2025-01-28 11:02:28.503\u001b[0m | \u001b[33m\u001b[1mWARNING \u001b[0m | \u001b[36mnotte.actions.parsing\u001b[0m:\u001b[36mparse_table\u001b[0m:\u001b[36m331\u001b[0m - \u001b[33m\u001b[1m[Markdown table parsing] Failed to parse action line: | L7 | Link to Browse Notte Web Browser | None | Navigation | with error: Failed to parse LLM response. Name and type are required fields but not found in : None  Please try again later.\u001b[0m\n",
      "\u001b[32m2025-01-28 11:02:28.504\u001b[0m | \u001b[33m\u001b[1mWARNING \u001b[0m | \u001b[36mnotte.actions.parsing\u001b[0m:\u001b[36mparse_table\u001b[0m:\u001b[36m331\u001b[0m - \u001b[33m\u001b[1m[Markdown table parsing] Failed to parse action line: | B1 | Toggle theme button | None | Settings & Preferences | with error: Failed to parse LLM response. Name and type are required fields but not found in : None  Please try again later.\u001b[0m\n",
      "\u001b[32m2025-01-28 11:02:28.507\u001b[0m | \u001b[33m\u001b[1mWARNING \u001b[0m | \u001b[36mnotte.actions.parsing\u001b[0m:\u001b[36mparse_table\u001b[0m:\u001b[36m331\u001b[0m - \u001b[33m\u001b[1m[Markdown table parsing] Failed to parse action line: | B2 | Stay informed? button | None | Help & Support | with error: Failed to parse LLM response. Name and type are required fields but not found in : None  Please try again later.\u001b[0m\n",
      "\u001b[32m2025-01-28 11:02:28.509\u001b[0m | \u001b[33m\u001b[1mWARNING \u001b[0m | \u001b[36mnotte.pipe.validation\u001b[0m:\u001b[36mforward\u001b[0m:\u001b[36m26\u001b[0m - \u001b[33m\u001b[1mMissed actions: 9 : {'L4', 'L1', 'L6', 'L7', 'L2', 'L5', 'B1', 'B2', 'L3'}\u001b[0m\n",
      "\u001b[32m2025-01-28 11:02:28.512\u001b[0m | \u001b[33m\u001b[1mWARNING \u001b[0m | \u001b[36mnotte.pipe.main\u001b[0m:\u001b[36mcheck_enough_actions\u001b[0m:\u001b[36m120\u001b[0m - \u001b[33m\u001b[1mNot enough actions listed: 10 total, 9 required for completion but only 1 listed\u001b[0m\n",
      "\u001b[32m2025-01-28 11:02:28.513\u001b[0m | \u001b[1mINFO    \u001b[0m | \u001b[36mnotte.pipe.main\u001b[0m:\u001b[36mforward_unfiltered\u001b[0m:\u001b[36m158\u001b[0m - \u001b[1m[ActionListing] Retry listing actions with 3 trials left.\u001b[0m\n",
      "\u001b[32m2025-01-28 11:02:28.542\u001b[0m | \u001b[1mINFO    \u001b[0m | \u001b[36mnotte.pipe.listing\u001b[0m:\u001b[36mforward_incremental\u001b[0m:\u001b[36m154\u001b[0m - \u001b[1m🚀 Forward incremental reduces context length by 55.58%\u001b[0m\n",
      "\u001b[32m2025-01-28 11:02:28.550\u001b[0m | \u001b[34m\u001b[1mDEBUG   \u001b[0m | \u001b[36mnotte.llms.service\u001b[0m:\u001b[36mget_base_model\u001b[0m:\u001b[36m44\u001b[0m - \u001b[34m\u001b[1mllm router 'fixed' selected 'ollama/llama3:instruct' for approx 1631 tokens\u001b[0m\n",
      "\u001b[32m2025-01-28 11:02:59.600\u001b[0m | \u001b[33m\u001b[1mWARNING \u001b[0m | \u001b[36mnotte.actions.parsing\u001b[0m:\u001b[36mparse_table\u001b[0m:\u001b[36m331\u001b[0m - \u001b[33m\u001b[1m[Markdown table parsing] Failed to parse action line: | L1 | Visit Notte Web Browser | None | Navigation | with error: Failed to parse LLM response. Name and type are required fields but not found in : None  Please try again later.\u001b[0m\n",
      "\u001b[32m2025-01-28 11:02:59.603\u001b[0m | \u001b[33m\u001b[1mWARNING \u001b[0m | \u001b[36mnotte.actions.parsing\u001b[0m:\u001b[36mparse_table\u001b[0m:\u001b[36m331\u001b[0m - \u001b[33m\u001b[1m[Markdown table parsing] Failed to parse action line: | B1 | Toggle theme | None | Preferences | with error: Failed to parse LLM response. Name and type are required fields but not found in : None  Please try again later.\u001b[0m\n",
      "\u001b[32m2025-01-28 11:02:59.603\u001b[0m | \u001b[33m\u001b[1mWARNING \u001b[0m | \u001b[36mnotte.actions.parsing\u001b[0m:\u001b[36mparse_table\u001b[0m:\u001b[36m331\u001b[0m - \u001b[33m\u001b[1m[Markdown table parsing] Failed to parse action line: | L2 | Visit Notte Blog | None | Information | with error: Failed to parse LLM response. Name and type are required fields but not found in : None  Please try again later.\u001b[0m\n",
      "\u001b[32m2025-01-28 11:02:59.603\u001b[0m | \u001b[33m\u001b[1mWARNING \u001b[0m | \u001b[36mnotte.actions.parsing\u001b[0m:\u001b[36mparse_table\u001b[0m:\u001b[36m331\u001b[0m - \u001b[33m\u001b[1m[Markdown table parsing] Failed to parse action line: | L3 | Visit Notte Roadmap | None | Information | with error: Failed to parse LLM response. Name and type are required fields but not found in : None  Please try again later.\u001b[0m\n",
      "\u001b[32m2025-01-28 11:02:59.604\u001b[0m | \u001b[33m\u001b[1mWARNING \u001b[0m | \u001b[36mnotte.actions.parsing\u001b[0m:\u001b[36mparse_table\u001b[0m:\u001b[36m331\u001b[0m - \u001b[33m\u001b[1m[Markdown table parsing] Failed to parse action line: | L4 | Visit Notte on GitHub | None | Information | with error: Failed to parse LLM response. Name and type are required fields but not found in : None  Please try again later.\u001b[0m\n",
      "\u001b[32m2025-01-28 11:02:59.604\u001b[0m | \u001b[33m\u001b[1mWARNING \u001b[0m | \u001b[36mnotte.actions.parsing\u001b[0m:\u001b[36mparse_table\u001b[0m:\u001b[36m331\u001b[0m - \u001b[33m\u001b[1m[Markdown table parsing] Failed to parse action line: | L5 | Join Notte Discord | None | Interactions | with error: Failed to parse LLM response. Name and type are required fields but not found in : None  Please try again later.\u001b[0m\n",
      "\u001b[32m2025-01-28 11:02:59.604\u001b[0m | \u001b[33m\u001b[1mWARNING \u001b[0m | \u001b[36mnotte.actions.parsing\u001b[0m:\u001b[36mparse_table\u001b[0m:\u001b[36m331\u001b[0m - \u001b[33m\u001b[1m[Markdown table parsing] Failed to parse action line: | L6 | Visit Notte on LinkedIn | None | Information | with error: Failed to parse LLM response. Name and type are required fields but not found in : None  Please try again later.\u001b[0m\n",
      "\u001b[32m2025-01-28 11:02:59.604\u001b[0m | \u001b[33m\u001b[1mWARNING \u001b[0m | \u001b[36mnotte.actions.parsing\u001b[0m:\u001b[36mparse_table\u001b[0m:\u001b[36m331\u001b[0m - \u001b[33m\u001b[1m[Markdown table parsing] Failed to parse action line: | B2 | Stay informed? | None | Interactions | with error: Failed to parse LLM response. Name and type are required fields but not found in : None  Please try again later.\u001b[0m\n",
      "\u001b[32m2025-01-28 11:02:59.605\u001b[0m | \u001b[33m\u001b[1mWARNING \u001b[0m | \u001b[36mnotte.pipe.validation\u001b[0m:\u001b[36mforward\u001b[0m:\u001b[36m26\u001b[0m - \u001b[33m\u001b[1mMissed actions: 9 : {'L4', 'L1', 'L6', 'L7', 'L2', 'L5', 'B1', 'B2', 'L3'}\u001b[0m\n",
      "\u001b[32m2025-01-28 11:02:59.616\u001b[0m | \u001b[33m\u001b[1mWARNING \u001b[0m | \u001b[36mnotte.pipe.main\u001b[0m:\u001b[36mcheck_enough_actions\u001b[0m:\u001b[36m120\u001b[0m - \u001b[33m\u001b[1mNot enough actions listed: 10 total, 9 required for completion but only 1 listed\u001b[0m\n",
      "\u001b[32m2025-01-28 11:02:59.621\u001b[0m | \u001b[1mINFO    \u001b[0m | \u001b[36mnotte.pipe.main\u001b[0m:\u001b[36mforward_unfiltered\u001b[0m:\u001b[36m158\u001b[0m - \u001b[1m[ActionListing] Retry listing actions with 2 trials left.\u001b[0m\n",
      "\u001b[32m2025-01-28 11:02:59.632\u001b[0m | \u001b[1mINFO    \u001b[0m | \u001b[36mnotte.pipe.listing\u001b[0m:\u001b[36mforward_incremental\u001b[0m:\u001b[36m154\u001b[0m - \u001b[1m🚀 Forward incremental reduces context length by 55.58%\u001b[0m\n",
      "\u001b[32m2025-01-28 11:02:59.637\u001b[0m | \u001b[34m\u001b[1mDEBUG   \u001b[0m | \u001b[36mnotte.llms.service\u001b[0m:\u001b[36mget_base_model\u001b[0m:\u001b[36m44\u001b[0m - \u001b[34m\u001b[1mllm router 'fixed' selected 'ollama/llama3:instruct' for approx 1631 tokens\u001b[0m\n"
     ]
    }
   ],
   "source": [
    "%load_ext autoreload\n",
    "%autoreload 2\n",
    "import os \n",
    "os.environ[\"NOTTE_BASE_MODEL\"] = \"ollama/llama3:instruct\"\n",
    "\n",
    "from notte.env import NotteEnv\n",
    "\n",
    "async with NotteEnv() as env:\n",
    "    obs = await env.observe(\"https://www.notte.cc\")\n",
    "    print(obs)\n"
   ]
  }
 ],
 "metadata": {
  "kernelspec": {
   "display_name": "notte-dev-test",
   "language": "python",
   "name": "python3"
  },
  "language_info": {
   "codemirror_mode": {
    "name": "ipython",
    "version": 3
   },
   "file_extension": ".py",
   "mimetype": "text/x-python",
   "name": "python",
   "nbconvert_exporter": "python",
   "pygments_lexer": "ipython3",
   "version": "3.11.11"
  }
 },
 "nbformat": 4,
 "nbformat_minor": 2
}
