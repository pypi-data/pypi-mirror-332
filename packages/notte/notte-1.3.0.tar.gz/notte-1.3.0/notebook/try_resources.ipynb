{
 "cells": [
  {
   "cell_type": "code",
   "execution_count": 1,
   "metadata": {},
   "outputs": [
    {
     "name": "stderr",
     "output_type": "stream",
     "text": [
      "\u001b[32m2025-01-16 00:30:16.155\u001b[0m | \u001b[1mINFO    \u001b[0m | \u001b[36mnotte.browser.pool\u001b[0m:\u001b[36m__init__\u001b[0m:\u001b[36m77\u001b[0m - \u001b[1mInitializing BrowserPool with:\n",
      " - Container Memory: 4096MB\n",
      " - Available Memory: 3072MB\n",
      " - Max Contexts: 32\n",
      " - Max Browsers: 8\n",
      " - Contexts per Browser: 4\u001b[0m\n"
     ]
    },
    {
     "data": {
      "text/plain": [
       "{'open_browsers': 0, 'open_contexts': 0}"
      ]
     },
     "execution_count": 1,
     "metadata": {},
     "output_type": "execute_result"
    }
   ],
   "source": [
    "%load_ext autoreload\n",
    "%autoreload 2\n",
    "from notte.browser.pool import BrowserPool\n",
    "# from notte.browser.driver import BrowserDriver\n",
    "\n",
    "# driver = BrowserDriver()\n",
    "\n",
    "# await driver.start()\n",
    "# await driver.close()\n",
    "\n",
    "pool = BrowserPool()\n",
    "\n",
    "await pool.check_sessions()"
   ]
  },
  {
   "cell_type": "code",
   "execution_count": 5,
   "metadata": {},
   "outputs": [
    {
     "name": "stderr",
     "output_type": "stream",
     "text": [
      "\u001b[32m2025-01-16 00:31:39.062\u001b[0m | \u001b[1mINFO    \u001b[0m | \u001b[36mnotte.browser.pool\u001b[0m:\u001b[36mget_browser_resource\u001b[0m:\u001b[36m199\u001b[0m - \u001b[1mMaximum contexts per browser reached (4). Creating new browser...\u001b[0m\n",
      "\u001b[32m2025-01-16 00:31:39.404\u001b[0m | \u001b[1mINFO    \u001b[0m | \u001b[36mnotte.browser.pool\u001b[0m:\u001b[36mget_browser_resource\u001b[0m:\u001b[36m199\u001b[0m - \u001b[1mMaximum contexts per browser reached (4). Creating new browser...\u001b[0m\n"
     ]
    },
    {
     "data": {
      "text/plain": [
       "{'open_browsers': 5, 'open_contexts': 20}"
      ]
     },
     "execution_count": 5,
     "metadata": {},
     "output_type": "execute_result"
    }
   ],
   "source": [
    "rs = []\n",
    "for i in range(10):\n",
    "    rs.append(await pool.get_browser_resource(headless=True))\n",
    "\n",
    "\n",
    "\n",
    "pool.check_sessions()"
   ]
  },
  {
   "cell_type": "code",
   "execution_count": 3,
   "metadata": {},
   "outputs": [
    {
     "name": "stderr",
     "output_type": "stream",
     "text": [
      "\u001b[32m2025-01-16 00:30:23.103\u001b[0m | \u001b[1mINFO    \u001b[0m | \u001b[36mnotte.browser.pool\u001b[0m:\u001b[36m_close_browser\u001b[0m:\u001b[36m232\u001b[0m - \u001b[1mClosing browser fd87c688-d57f-44df-a542-ede15c4efd9e\u001b[0m\n",
      "\u001b[32m2025-01-16 00:30:23.175\u001b[0m | \u001b[1mINFO    \u001b[0m | \u001b[36mnotte.browser.pool\u001b[0m:\u001b[36m_close_browser\u001b[0m:\u001b[36m232\u001b[0m - \u001b[1mClosing browser 222c4146-6831-4928-82e7-fa24b51eaee5\u001b[0m\n",
      "\u001b[32m2025-01-16 00:30:23.218\u001b[0m | \u001b[1mINFO    \u001b[0m | \u001b[36mnotte.browser.pool\u001b[0m:\u001b[36m_close_browser\u001b[0m:\u001b[36m232\u001b[0m - \u001b[1mClosing browser 1e7e76fe-9843-4672-aa2e-37a05886d77b\u001b[0m\n"
     ]
    },
    {
     "name": "stdout",
     "output_type": "stream",
     "text": [
      "{'open_browsers': 3, 'open_contexts': 9}\n",
      "dict_keys(['fd87c688-d57f-44df-a542-ede15c4efd9e', '222c4146-6831-4928-82e7-fa24b51eaee5', '1e7e76fe-9843-4672-aa2e-37a05886d77b'])\n",
      "--------------------------------\n",
      "{'open_browsers': 3, 'open_contexts': 8}\n",
      "dict_keys(['fd87c688-d57f-44df-a542-ede15c4efd9e', '222c4146-6831-4928-82e7-fa24b51eaee5', '1e7e76fe-9843-4672-aa2e-37a05886d77b'])\n",
      "--------------------------------\n",
      "{'open_browsers': 3, 'open_contexts': 7}\n",
      "dict_keys(['fd87c688-d57f-44df-a542-ede15c4efd9e', '222c4146-6831-4928-82e7-fa24b51eaee5', '1e7e76fe-9843-4672-aa2e-37a05886d77b'])\n",
      "--------------------------------\n",
      "{'open_browsers': 2, 'open_contexts': 6}\n",
      "dict_keys(['222c4146-6831-4928-82e7-fa24b51eaee5', '1e7e76fe-9843-4672-aa2e-37a05886d77b'])\n",
      "--------------------------------\n",
      "{'open_browsers': 2, 'open_contexts': 5}\n",
      "dict_keys(['222c4146-6831-4928-82e7-fa24b51eaee5', '1e7e76fe-9843-4672-aa2e-37a05886d77b'])\n",
      "--------------------------------\n",
      "{'open_browsers': 2, 'open_contexts': 4}\n",
      "dict_keys(['222c4146-6831-4928-82e7-fa24b51eaee5', '1e7e76fe-9843-4672-aa2e-37a05886d77b'])\n",
      "--------------------------------\n",
      "{'open_browsers': 2, 'open_contexts': 3}\n",
      "dict_keys(['222c4146-6831-4928-82e7-fa24b51eaee5', '1e7e76fe-9843-4672-aa2e-37a05886d77b'])\n",
      "--------------------------------\n",
      "{'open_browsers': 1, 'open_contexts': 2}\n",
      "dict_keys(['1e7e76fe-9843-4672-aa2e-37a05886d77b'])\n",
      "--------------------------------\n",
      "{'open_browsers': 1, 'open_contexts': 1}\n",
      "dict_keys(['1e7e76fe-9843-4672-aa2e-37a05886d77b'])\n",
      "--------------------------------\n",
      "{'open_browsers': 0, 'open_contexts': 0}\n",
      "dict_keys([])\n",
      "--------------------------------\n"
     ]
    }
   ],
   "source": [
    "for r in rs:\n",
    "    await pool.release_browser_resource(r)\n",
    "    print(await pool.check_sessions())\n",
    "    print(pool.available_browsers().keys())\n",
    "    print(\"--------------------------------\")"
   ]
  },
  {
   "cell_type": "code",
   "execution_count": 9,
   "metadata": {},
   "outputs": [
    {
     "data": {
      "text/plain": [
       "{'open_browsers': 3, 'open_contexts': 10}"
      ]
     },
     "execution_count": 9,
     "metadata": {},
     "output_type": "execute_result"
    }
   ],
   "source": [
    "await pool.cleanup(except_resources=rs)\n",
    "pool.check_sessions()"
   ]
  },
  {
   "cell_type": "code",
   "execution_count": null,
   "metadata": {},
   "outputs": [],
   "source": [
    "[\n",
    "    (r.browser_id, ) for r in rs\n",
    "]"
   ]
  }
 ],
 "metadata": {
  "kernelspec": {
   "display_name": "notte-dev",
   "language": "python",
   "name": "python3"
  },
  "language_info": {
   "codemirror_mode": {
    "name": "ipython",
    "version": 3
   },
   "file_extension": ".py",
   "mimetype": "text/x-python",
   "name": "python",
   "nbconvert_exporter": "python",
   "pygments_lexer": "ipython3",
   "version": "3.11.11"
  }
 },
 "nbformat": 4,
 "nbformat_minor": 2
}
