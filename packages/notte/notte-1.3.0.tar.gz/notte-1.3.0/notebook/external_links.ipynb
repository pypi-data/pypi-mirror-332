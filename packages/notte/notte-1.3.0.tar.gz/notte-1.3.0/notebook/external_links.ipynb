{
 "cells": [
  {
   "cell_type": "code",
   "execution_count": 17,
   "metadata": {},
   "outputs": [
    {
     "name": "stderr",
     "output_type": "stream",
     "text": [
      "\u001b[32m2025-01-27 22:34:40.684\u001b[0m | \u001b[1mINFO    \u001b[0m | \u001b[36mnotte.browser.pool\u001b[0m:\u001b[36m__init__\u001b[0m:\u001b[36m100\u001b[0m - \u001b[1mInitializing BrowserPool with:\n",
      " - Container Memory: 4096MB\n",
      " - Available Memory: 3072MB\n",
      " - Max Contexts: 32\n",
      " - Max Browsers: 8\n",
      " - Contexts per Browser: 4\u001b[0m\n",
      "\u001b[32m2025-01-27 22:34:40.685\u001b[0m | \u001b[1mINFO    \u001b[0m | \u001b[36mnotte.browser.pool\u001b[0m:\u001b[36mget_browser_resource\u001b[0m:\u001b[36m219\u001b[0m - \u001b[1mMaximum contexts per browser reached (4). Creating new browser...\u001b[0m\n"
     ]
    },
    {
     "name": "stdout",
     "output_type": "stream",
     "text": [
      "The autoreload extension is already loaded. To reload it, use:\n",
      "  %reload_ext autoreload\n",
      "The autoreload extension is already loaded. To reload it, use:\n",
      "  %reload_ext autoreload\n"
     ]
    },
    {
     "name": "stderr",
     "output_type": "stream",
     "text": [
      "\u001b[32m2025-01-27 22:34:43.797\u001b[0m | \u001b[33m\u001b[1mWARNING \u001b[0m | \u001b[36mnotte.pipe.preprocessing.a11y.pruning\u001b[0m:\u001b[36mshould_prune\u001b[0m:\u001b[36m59\u001b[0m - \u001b[33m\u001b[1mRole `separator` has an empty name and no children. Please considered adding it to `prune_roles`\u001b[0m\n",
      "\u001b[32m2025-01-27 22:34:43.804\u001b[0m | \u001b[33m\u001b[1mWARNING \u001b[0m | \u001b[36mnotte.pipe.preprocessing.a11y.pruning\u001b[0m:\u001b[36mshould_prune\u001b[0m:\u001b[36m59\u001b[0m - \u001b[33m\u001b[1mRole `separator` has an empty name and no children. Please considered adding it to `prune_roles`\u001b[0m\n",
      "\u001b[32m2025-01-27 22:34:43.805\u001b[0m | \u001b[33m\u001b[1mWARNING \u001b[0m | \u001b[36mnotte.pipe.preprocessing.a11y.pruning\u001b[0m:\u001b[36mprune_text_child_in_interaction_nodes\u001b[0m:\u001b[36m161\u001b[0m - \u001b[33m\u001b[1mFound non-text children (i.e. {'option', 'MenuListPopup'}) in interaction node role combobox and name EN\u001b[0m\n",
      "\u001b[32m2025-01-27 22:34:43.806\u001b[0m | \u001b[31m\u001b[1mERROR   \u001b[0m | \u001b[36mnotte.pipe.preprocessing.a11y.id_generation\u001b[0m:\u001b[36mgenerate_sequential_ids\u001b[0m:\u001b[36m66\u001b[0m - \u001b[31m\u001b[1mUnsupported role to convert to ID: {'role': 'LabelText', 'name': '', 'children': [{'role': 'text', 'name': 'Search Wikipedia', 'children': []}]}. Please add this role to the ID generation logic ASAP.\u001b[0m\n",
      "\u001b[32m2025-01-27 22:34:43.807\u001b[0m | \u001b[31m\u001b[1mERROR   \u001b[0m | \u001b[36mnotte.pipe.preprocessing.a11y.id_generation\u001b[0m:\u001b[36mgenerate_sequential_ids\u001b[0m:\u001b[36m66\u001b[0m - \u001b[31m\u001b[1mUnsupported role to convert to ID: {'role': 'LabelText', 'name': '', 'children': [{'role': 'text', 'name': 'EN', 'children': []}]}. Please add this role to the ID generation logic ASAP.\u001b[0m\n",
      "\u001b[32m2025-01-27 22:34:43.863\u001b[0m | \u001b[33m\u001b[1mWARNING \u001b[0m | \u001b[36mnotte.pipe.preprocessing.a11y.pruning\u001b[0m:\u001b[36mshould_prune\u001b[0m:\u001b[36m59\u001b[0m - \u001b[33m\u001b[1mRole `separator` has an empty name and no children. Please considered adding it to `prune_roles`\u001b[0m\n",
      "\u001b[32m2025-01-27 22:34:43.874\u001b[0m | \u001b[33m\u001b[1mWARNING \u001b[0m | \u001b[36mnotte.pipe.preprocessing.a11y.pruning\u001b[0m:\u001b[36mshould_prune\u001b[0m:\u001b[36m59\u001b[0m - \u001b[33m\u001b[1mRole `separator` has an empty name and no children. Please considered adding it to `prune_roles`\u001b[0m\n",
      "\u001b[32m2025-01-27 22:34:43.878\u001b[0m | \u001b[33m\u001b[1mWARNING \u001b[0m | \u001b[36mnotte.pipe.preprocessing.a11y.pruning\u001b[0m:\u001b[36mprune_text_child_in_interaction_nodes\u001b[0m:\u001b[36m161\u001b[0m - \u001b[33m\u001b[1mFound non-text children (i.e. {'option', 'MenuListPopup'}) in interaction node role combobox and name EN\u001b[0m\n",
      "\u001b[32m2025-01-27 22:34:43.884\u001b[0m | \u001b[31m\u001b[1mERROR   \u001b[0m | \u001b[36mnotte.browser.node_type\u001b[0m:\u001b[36mfrom_a11y_node\u001b[0m:\u001b[36m545\u001b[0m - \u001b[31m\u001b[1mPre-Attribute 'keyshortcuts' should be added to the node attributes. Fix this ASAP.\u001b[0m\n",
      "\u001b[32m2025-01-27 22:34:43.886\u001b[0m | \u001b[1mINFO    \u001b[0m | \u001b[36mnotte.common.logging\u001b[0m:\u001b[36mwrapper\u001b[0m:\u001b[36m16\u001b[0m - \u001b[1mfunction goto took 2.1267 seconds\u001b[0m\n",
      "/var/folders/b8/2jd9x_r53sn9l_wjrtwg_0080000gn/T/ipykernel_92960/3023133995.py:25: RuntimeWarning: coroutine 'BrowserContext.wait_for_event' was never awaited\n",
      "  prom =  env._browser._resource.page.context.wait_for_event('page', timeout=3000)\n",
      "RuntimeWarning: Enable tracemalloc to get the object allocation traceback\n",
      "\u001b[32m2025-01-27 22:34:45.792\u001b[0m | \u001b[1mINFO    \u001b[0m | \u001b[36mnotte.browser.driver\u001b[0m:\u001b[36mexecute_action\u001b[0m:\u001b[36m106\u001b[0m - \u001b[1mNew popup created: https://play.google.com/store/apps/details?id=org.wikipedia&referrer=utm_source%3Dportal%26utm_medium%3Dbutton%26anid%3Dadmob\u001b[0m\n",
      "\u001b[32m2025-01-27 22:34:47.729\u001b[0m | \u001b[1mINFO    \u001b[0m | \u001b[36mnotte.env\u001b[0m:\u001b[36mexecute\u001b[0m:\u001b[36m160\u001b[0m - \u001b[1m🌌 action L13 executed in browser\u001b[0m\n",
      "\u001b[32m2025-01-27 22:34:47.772\u001b[0m | \u001b[31m\u001b[1mERROR   \u001b[0m | \u001b[36mnotte.pipe.preprocessing.a11y.id_generation\u001b[0m:\u001b[36mgenerate_sequential_ids\u001b[0m:\u001b[36m66\u001b[0m - \u001b[31m\u001b[1mUnsupported role to convert to ID: {'role': 'sectionheader', 'name': '', 'children': [{'role': 'none', 'name': '', 'children': [{'role': 'none', 'name': '', 'children': [{'role': 'heading', 'name': 'About this app', 'level': 2, 'children': [{'role': 'text', 'name': 'About this app', 'children': []}]}]}, {'role': 'generic', 'name': '', 'children': [{'role': 'button', 'name': 'See more information on About this app', 'children': [], 'id': 'B25'}]}]}]}. Please add this role to the ID generation logic ASAP.\u001b[0m\n",
      "\u001b[32m2025-01-27 22:34:47.772\u001b[0m | \u001b[31m\u001b[1mERROR   \u001b[0m | \u001b[36mnotte.pipe.preprocessing.a11y.id_generation\u001b[0m:\u001b[36mgenerate_sequential_ids\u001b[0m:\u001b[36m66\u001b[0m - \u001b[31m\u001b[1mUnsupported role to convert to ID: {'role': 'sectionheader', 'name': '', 'children': [{'role': 'none', 'name': '', 'children': [{'role': 'none', 'name': '', 'children': [{'role': 'heading', 'name': 'Data safety', 'level': 2, 'children': [{'role': 'text', 'name': 'Data safety', 'children': []}]}]}, {'role': 'generic', 'name': '', 'children': [{'role': 'link', 'name': 'See more information on Data safety', 'children': [], 'id': 'L4'}]}]}]}. Please add this role to the ID generation logic ASAP.\u001b[0m\n",
      "\u001b[32m2025-01-27 22:34:47.773\u001b[0m | \u001b[31m\u001b[1mERROR   \u001b[0m | \u001b[36mnotte.pipe.preprocessing.a11y.id_generation\u001b[0m:\u001b[36mgenerate_sequential_ids\u001b[0m:\u001b[36m66\u001b[0m - \u001b[31m\u001b[1mUnsupported role to convert to ID: {'role': 'sectionheader', 'name': '', 'children': [{'role': 'none', 'name': '', 'children': [{'role': 'none', 'name': '', 'children': [{'role': 'heading', 'name': 'Ratings and reviews', 'level': 2, 'children': [{'role': 'text', 'name': 'Ratings and reviews', 'children': []}]}]}, {'role': 'generic', 'name': '', 'children': [{'role': 'button', 'name': 'See more information on Ratings and reviews', 'children': [], 'id': 'B26'}]}, {'role': 'none', 'name': '', 'children': [{'role': 'none', 'name': '', 'children': [{'role': 'button', 'name': 'Ratings and reviews are verified', 'children': [], 'id': 'B27'}]}]}]}]}. Please add this role to the ID generation logic ASAP.\u001b[0m\n",
      "\u001b[32m2025-01-27 22:34:47.773\u001b[0m | \u001b[31m\u001b[1mERROR   \u001b[0m | \u001b[36mnotte.pipe.preprocessing.a11y.id_generation\u001b[0m:\u001b[36mgenerate_sequential_ids\u001b[0m:\u001b[36m66\u001b[0m - \u001b[31m\u001b[1mUnsupported role to convert to ID: {'role': 'sectionheader', 'name': '', 'children': [{'role': 'none', 'name': '', 'children': [{'role': 'none', 'name': '', 'children': [{'role': 'generic', 'name': '', 'children': [{'role': 'text', 'name': 'javimartinezbayern', 'children': []}]}]}, {'role': 'none', 'name': '', 'children': [{'role': 'generic', 'name': '', 'children': [{'role': 'generic', 'name': '', 'children': [{'role': 'button', 'name': 'More review actions', 'haspopup': 'menu', 'children': [], 'id': 'B31'}]}, {'role': 'none', 'name': '', 'children': []}]}]}]}, {'role': 'generic', 'name': '', 'children': [{'role': 'image', 'name': 'Rated 3 stars out of five stars', 'children': []}, {'role': 'text', 'name': 'November 8, 2024', 'children': []}]}]}. Please add this role to the ID generation logic ASAP.\u001b[0m\n",
      "\u001b[32m2025-01-27 22:34:47.774\u001b[0m | \u001b[31m\u001b[1mERROR   \u001b[0m | \u001b[36mnotte.pipe.preprocessing.a11y.id_generation\u001b[0m:\u001b[36mgenerate_sequential_ids\u001b[0m:\u001b[36m66\u001b[0m - \u001b[31m\u001b[1mUnsupported role to convert to ID: {'role': 'sectionfooter', 'name': '', 'children': [{'role': 'generic', 'name': '', 'children': [{'role': 'text', 'name': 'Did you find this helpful?', 'children': []}]}, {'role': 'none', 'name': '', 'children': [{'role': 'none', 'name': '', 'children': [{'role': 'button', 'name': 'Yes', 'pressed': False, 'children': [], 'id': 'B32'}, {'role': 'button', 'name': 'No', 'pressed': False, 'children': [], 'id': 'B33'}]}]}]}. Please add this role to the ID generation logic ASAP.\u001b[0m\n",
      "\u001b[32m2025-01-27 22:34:47.774\u001b[0m | \u001b[31m\u001b[1mERROR   \u001b[0m | \u001b[36mnotte.pipe.preprocessing.a11y.id_generation\u001b[0m:\u001b[36mgenerate_sequential_ids\u001b[0m:\u001b[36m66\u001b[0m - \u001b[31m\u001b[1mUnsupported role to convert to ID: {'role': 'sectionheader', 'name': '', 'children': [{'role': 'none', 'name': '', 'children': [{'role': 'none', 'name': '', 'children': [{'role': 'generic', 'name': '', 'children': [{'role': 'text', 'name': 'Yiliang Liang', 'children': []}]}]}, {'role': 'none', 'name': '', 'children': [{'role': 'generic', 'name': '', 'children': [{'role': 'generic', 'name': '', 'children': [{'role': 'button', 'name': 'More review actions', 'haspopup': 'menu', 'children': [], 'id': 'B34'}]}, {'role': 'none', 'name': '', 'children': []}]}]}]}, {'role': 'generic', 'name': '', 'children': [{'role': 'image', 'name': 'Rated 2 stars out of five stars', 'children': []}, {'role': 'text', 'name': 'January 12, 2025', 'children': []}]}]}. Please add this role to the ID generation logic ASAP.\u001b[0m\n",
      "\u001b[32m2025-01-27 22:34:47.774\u001b[0m | \u001b[31m\u001b[1mERROR   \u001b[0m | \u001b[36mnotte.pipe.preprocessing.a11y.id_generation\u001b[0m:\u001b[36mgenerate_sequential_ids\u001b[0m:\u001b[36m66\u001b[0m - \u001b[31m\u001b[1mUnsupported role to convert to ID: {'role': 'sectionfooter', 'name': '', 'children': [{'role': 'generic', 'name': '', 'children': [{'role': 'text', 'name': 'Did you find this helpful?', 'children': []}]}, {'role': 'none', 'name': '', 'children': [{'role': 'none', 'name': '', 'children': [{'role': 'button', 'name': 'Yes', 'pressed': False, 'children': [], 'id': 'B35'}, {'role': 'button', 'name': 'No', 'pressed': False, 'children': [], 'id': 'B36'}]}]}]}. Please add this role to the ID generation logic ASAP.\u001b[0m\n",
      "\u001b[32m2025-01-27 22:34:47.775\u001b[0m | \u001b[31m\u001b[1mERROR   \u001b[0m | \u001b[36mnotte.pipe.preprocessing.a11y.id_generation\u001b[0m:\u001b[36mgenerate_sequential_ids\u001b[0m:\u001b[36m66\u001b[0m - \u001b[31m\u001b[1mUnsupported role to convert to ID: {'role': 'sectionheader', 'name': '', 'children': [{'role': 'none', 'name': '', 'children': [{'role': 'none', 'name': '', 'children': [{'role': 'generic', 'name': '', 'children': [{'role': 'text', 'name': 'Ronald', 'children': []}]}]}, {'role': 'none', 'name': '', 'children': [{'role': 'generic', 'name': '', 'children': [{'role': 'generic', 'name': '', 'children': [{'role': 'button', 'name': 'More review actions', 'haspopup': 'menu', 'children': [], 'id': 'B37'}]}, {'role': 'none', 'name': '', 'children': []}]}]}]}, {'role': 'generic', 'name': '', 'children': [{'role': 'image', 'name': 'Rated 3 stars out of five stars', 'children': []}, {'role': 'text', 'name': 'November 8, 2024', 'children': []}]}]}. Please add this role to the ID generation logic ASAP.\u001b[0m\n",
      "\u001b[32m2025-01-27 22:34:47.775\u001b[0m | \u001b[31m\u001b[1mERROR   \u001b[0m | \u001b[36mnotte.pipe.preprocessing.a11y.id_generation\u001b[0m:\u001b[36mgenerate_sequential_ids\u001b[0m:\u001b[36m66\u001b[0m - \u001b[31m\u001b[1mUnsupported role to convert to ID: {'role': 'sectionfooter', 'name': '', 'children': [{'role': 'generic', 'name': '', 'children': [{'role': 'text', 'name': 'Did you find this helpful?', 'children': []}]}, {'role': 'none', 'name': '', 'children': [{'role': 'none', 'name': '', 'children': [{'role': 'button', 'name': 'Yes', 'pressed': False, 'children': [], 'id': 'B38'}, {'role': 'button', 'name': 'No', 'pressed': False, 'children': [], 'id': 'B39'}]}]}]}. Please add this role to the ID generation logic ASAP.\u001b[0m\n",
      "\u001b[32m2025-01-27 22:34:47.776\u001b[0m | \u001b[31m\u001b[1mERROR   \u001b[0m | \u001b[36mnotte.pipe.preprocessing.a11y.id_generation\u001b[0m:\u001b[36mgenerate_sequential_ids\u001b[0m:\u001b[36m66\u001b[0m - \u001b[31m\u001b[1mUnsupported role to convert to ID: {'role': 'sectionheader', 'name': '', 'children': [{'role': 'none', 'name': '', 'children': [{'role': 'none', 'name': '', 'children': [{'role': 'heading', 'name': 'What’s new', 'level': 2, 'children': [{'role': 'text', 'name': 'What’s new', 'children': []}]}]}]}]}. Please add this role to the ID generation logic ASAP.\u001b[0m\n",
      "\u001b[32m2025-01-27 22:34:47.776\u001b[0m | \u001b[31m\u001b[1mERROR   \u001b[0m | \u001b[36mnotte.pipe.preprocessing.a11y.id_generation\u001b[0m:\u001b[36mgenerate_sequential_ids\u001b[0m:\u001b[36m66\u001b[0m - \u001b[31m\u001b[1mUnsupported role to convert to ID: {'role': 'sectionheader', 'name': '', 'children': [{'role': 'generic', 'name': '', 'children': [{'role': 'none', 'name': '', 'children': [{'role': 'heading', 'name': 'App support', 'level': 2, 'children': [{'role': 'text', 'name': 'App support', 'children': []}]}]}, {'role': 'generic', 'name': '', 'children': [{'role': 'button', 'name': 'Expand', 'children': [], 'id': 'B41'}]}]}]}. Please add this role to the ID generation logic ASAP.\u001b[0m\n",
      "\u001b[32m2025-01-27 22:34:47.777\u001b[0m | \u001b[31m\u001b[1mERROR   \u001b[0m | \u001b[36mnotte.pipe.preprocessing.a11y.id_generation\u001b[0m:\u001b[36mgenerate_sequential_ids\u001b[0m:\u001b[36m66\u001b[0m - \u001b[31m\u001b[1mUnsupported role to convert to ID: {'role': 'sectionheader', 'name': '', 'children': [{'role': 'none', 'name': '', 'children': [{'role': 'none', 'name': '', 'children': [{'role': 'heading', 'name': 'More by Wikimedia Foundation', 'level': 2, 'children': [{'role': 'none', 'name': '', 'children': [{'role': 'text', 'name': 'More by Wikimedia Foundation', 'children': []}]}]}]}, {'role': 'generic', 'name': '', 'children': [{'role': 'link', 'name': 'See more information on More by Wikimedia Foundation', 'children': [], 'id': 'L9'}]}]}]}. Please add this role to the ID generation logic ASAP.\u001b[0m\n",
      "\u001b[32m2025-01-27 22:34:47.777\u001b[0m | \u001b[31m\u001b[1mERROR   \u001b[0m | \u001b[36mnotte.pipe.preprocessing.a11y.id_generation\u001b[0m:\u001b[36mgenerate_sequential_ids\u001b[0m:\u001b[36m66\u001b[0m - \u001b[31m\u001b[1mUnsupported role to convert to ID: {'role': 'sectionheader', 'name': '', 'children': [{'role': 'none', 'name': '', 'children': [{'role': 'none', 'name': '', 'children': [{'role': 'heading', 'name': 'Similar apps', 'level': 2, 'children': [{'role': 'none', 'name': '', 'children': [{'role': 'text', 'name': 'Similar apps', 'children': []}]}]}]}, {'role': 'generic', 'name': '', 'children': [{'role': 'link', 'name': 'See more information on Similar apps', 'children': [], 'id': 'L12'}]}]}]}. Please add this role to the ID generation logic ASAP.\u001b[0m\n",
      "\u001b[32m2025-01-27 22:34:48.188\u001b[0m | \u001b[1mINFO    \u001b[0m | \u001b[36mnotte.common.logging\u001b[0m:\u001b[36mwrapper\u001b[0m:\u001b[36m16\u001b[0m - \u001b[1mfunction execute took 4.3004 seconds\u001b[0m\n"
     ]
    },
    {
     "data": {
      "text/plain": [
       "2"
      ]
     },
     "execution_count": 17,
     "metadata": {},
     "output_type": "execute_result"
    }
   ],
   "source": [
    "%load_ext autoreload\n",
    "%autoreload 2\n",
    "\n",
    "from notte.env import NotteEnv\n",
    "from notte.browser.pool import BrowserPool\n",
    "\n",
    "\n",
    "%load_ext autoreload\n",
    "%autoreload 2\n",
    "\n",
    "from notte.env import NotteEnv\n",
    "from notte.browser.pool import BrowserPool\n",
    "\n",
    "from notte.sdk.client import NotteClient\n",
    "\n",
    "pool = BrowserPool(verbose=True)\n",
    "\n",
    "env = NotteEnv(headless=False, pool=pool)\n",
    "# env = NotteClient() \n",
    "# await env.start() \n",
    "await env.start()\n",
    "\n",
    "\n",
    "obs1 = await env.goto(url=\"https://wikipedia.org\") #, min_nb_actions=30)\n",
    "prom =  env._browser._resource.page.context.wait_for_event('page', timeout=3000)\n",
    "# obs = await env.execute('L1')\n",
    "obs = await env.execute('L13')\n",
    "\n",
    "len(env._browser._playwright._pages)"
   ]
  },
  {
   "cell_type": "code",
   "execution_count": 18,
   "metadata": {},
   "outputs": [
    {
     "data": {
      "text/plain": [
       "SnapshotMetadata(title='Wikipedia - Apps on Google Play', url='https://play.google.com/store/apps/details?id=org.wikipedia&referrer=utm_source%3Dportal%26utm_medium%3Dbutton%26anid%3Dadmob', timestamp=datetime.datetime(2025, 1, 27, 22, 34, 49, 517309))"
      ]
     },
     "execution_count": 18,
     "metadata": {},
     "output_type": "execute_result"
    }
   ],
   "source": [
    "s = await env._browser.snapshot()\n",
    "s.metadata"
   ]
  },
  {
   "cell_type": "code",
   "execution_count": 12,
   "metadata": {},
   "outputs": [
    {
     "data": {
      "text/plain": [
       "SnapshotMetadata(title='Wikipedia - Apps on Google Play', url='https://play.google.com/store/apps/details?id=org.wikipedia&referrer=utm_source%3Dportal%26utm_medium%3Dbutton%26anid%3Dadmob', timestamp=datetime.datetime(2025, 1, 27, 21, 16, 22, 621892))"
      ]
     },
     "execution_count": 12,
     "metadata": {},
     "output_type": "execute_result"
    }
   ],
   "source": []
  },
  {
   "cell_type": "code",
   "execution_count": 3,
   "metadata": {},
   "outputs": [
    {
     "data": {
      "text/plain": [
       "2"
      ]
     },
     "execution_count": 3,
     "metadata": {},
     "output_type": "execute_result"
    }
   ],
   "source": [
    "len(env._browser._playwright._pages)"
   ]
  },
  {
   "cell_type": "code",
   "execution_count": null,
   "metadata": {},
   "outputs": [],
   "source": []
  }
 ],
 "metadata": {
  "kernelspec": {
   "display_name": "notte-dev",
   "language": "python",
   "name": "python3"
  },
  "language_info": {
   "codemirror_mode": {
    "name": "ipython",
    "version": 3
   },
   "file_extension": ".py",
   "mimetype": "text/x-python",
   "name": "python",
   "nbconvert_exporter": "python",
   "pygments_lexer": "ipython3",
   "version": "3.11.11"
  }
 },
 "nbformat": 4,
 "nbformat_minor": 2
}
