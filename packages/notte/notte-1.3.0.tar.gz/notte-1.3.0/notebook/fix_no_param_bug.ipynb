{
 "cells": [
  {
   "cell_type": "code",
   "execution_count": 13,
   "metadata": {},
   "outputs": [
    {
     "name": "stdout",
     "output_type": "stream",
     "text": [
      "The autoreload extension is already loaded. To reload it, use:\n",
      "  %reload_ext autoreload\n"
     ]
    },
    {
     "ename": "ValueError",
     "evalue": "Group nodes should have children: {'role': 'generic', 'name': 'Search, option, forward slash'}",
     "output_type": "error",
     "traceback": [
      "\u001b[0;31m---------------------------------------------------------------------------\u001b[0m",
      "\u001b[0;31mValueError\u001b[0m                                Traceback (most recent call last)",
      "Cell \u001b[0;32mIn[13], line 9\u001b[0m\n\u001b[1;32m      6\u001b[0m env \u001b[38;5;241m=\u001b[39m NotteEnv(headless\u001b[38;5;241m=\u001b[39m\u001b[38;5;28;01mFalse\u001b[39;00m, persist\u001b[38;5;241m=\u001b[39m\u001b[38;5;28;01mTrue\u001b[39;00m) \n\u001b[1;32m      7\u001b[0m \u001b[38;5;28;01mawait\u001b[39;00m env\u001b[38;5;241m.\u001b[39mstart() \n\u001b[0;32m----> 9\u001b[0m obs \u001b[38;5;241m=\u001b[39m \u001b[38;5;28;01mawait\u001b[39;00m env\u001b[38;5;241m.\u001b[39mobserve(\u001b[38;5;124m\"\u001b[39m\u001b[38;5;124mhttps://amazon.com\u001b[39m\u001b[38;5;124m\"\u001b[39m)\n\u001b[1;32m     10\u001b[0m obs \u001b[38;5;241m=\u001b[39m \u001b[38;5;28;01mawait\u001b[39;00m env\u001b[38;5;241m.\u001b[39mstep(\u001b[38;5;124m\"\u001b[39m\u001b[38;5;124mB3\u001b[39m\u001b[38;5;124m\"\u001b[39m)\n",
      "File \u001b[0;32m~/Desktop/projects/notte/notte/common/logging.py:14\u001b[0m, in \u001b[0;36mtimeit.<locals>._timeit.<locals>.wrapper\u001b[0;34m(*args, **kwargs)\u001b[0m\n\u001b[1;32m     12\u001b[0m \u001b[38;5;28;01masync\u001b[39;00m \u001b[38;5;28;01mdef\u001b[39;00m \u001b[38;5;21mwrapper\u001b[39m(\u001b[38;5;241m*\u001b[39margs: Any, \u001b[38;5;241m*\u001b[39m\u001b[38;5;241m*\u001b[39mkwargs: Any) \u001b[38;5;241m-\u001b[39m\u001b[38;5;241m>\u001b[39m Any:\n\u001b[1;32m     13\u001b[0m     start_time \u001b[38;5;241m=\u001b[39m time\u001b[38;5;241m.\u001b[39mtime()\n\u001b[0;32m---> 14\u001b[0m     result \u001b[38;5;241m=\u001b[39m \u001b[38;5;28;01mawait\u001b[39;00m func(\u001b[38;5;241m*\u001b[39margs, \u001b[38;5;241m*\u001b[39m\u001b[38;5;241m*\u001b[39mkwargs)\n\u001b[1;32m     15\u001b[0m     end_time \u001b[38;5;241m=\u001b[39m time\u001b[38;5;241m.\u001b[39mtime()\n\u001b[1;32m     16\u001b[0m     logger\u001b[38;5;241m.\u001b[39minfo(\u001b[38;5;124mf\u001b[39m\u001b[38;5;124m\"\u001b[39m\u001b[38;5;124mfunction \u001b[39m\u001b[38;5;132;01m{\u001b[39;00mname\u001b[38;5;132;01m}\u001b[39;00m\u001b[38;5;124m took \u001b[39m\u001b[38;5;132;01m{\u001b[39;00mend_time\u001b[38;5;250m \u001b[39m\u001b[38;5;241m-\u001b[39m\u001b[38;5;250m \u001b[39mstart_time\u001b[38;5;132;01m:\u001b[39;00m\u001b[38;5;124m.4f\u001b[39m\u001b[38;5;132;01m}\u001b[39;00m\u001b[38;5;124m seconds\u001b[39m\u001b[38;5;124m\"\u001b[39m)\n",
      "File \u001b[0;32m~/Desktop/projects/notte/notte/env.py:123\u001b[0m, in \u001b[0;36mNotteEnv.observe\u001b[0;34m(self, url)\u001b[0m\n\u001b[1;32m    121\u001b[0m \u001b[38;5;129m@timeit\u001b[39m(\u001b[38;5;124m\"\u001b[39m\u001b[38;5;124mobserve\u001b[39m\u001b[38;5;124m\"\u001b[39m)\n\u001b[1;32m    122\u001b[0m \u001b[38;5;28;01masync\u001b[39;00m \u001b[38;5;28;01mdef\u001b[39;00m \u001b[38;5;21mobserve\u001b[39m(\u001b[38;5;28mself\u001b[39m, url: \u001b[38;5;28mstr\u001b[39m \u001b[38;5;241m|\u001b[39m \u001b[38;5;28;01mNone\u001b[39;00m \u001b[38;5;241m=\u001b[39m \u001b[38;5;28;01mNone\u001b[39;00m) \u001b[38;5;241m-\u001b[39m\u001b[38;5;241m>\u001b[39m Observation:\n\u001b[0;32m--> 123\u001b[0m     _ \u001b[38;5;241m=\u001b[39m \u001b[38;5;28;01mawait\u001b[39;00m \u001b[38;5;28mself\u001b[39m\u001b[38;5;241m.\u001b[39mgoto(url)\n\u001b[1;32m    124\u001b[0m     logger\u001b[38;5;241m.\u001b[39mdebug(\u001b[38;5;124mf\u001b[39m\u001b[38;5;124m\"\u001b[39m\u001b[38;5;124mℹ️ previous actions IDs: \u001b[39m\u001b[38;5;132;01m{\u001b[39;00m[a\u001b[38;5;241m.\u001b[39mid\u001b[38;5;250m \u001b[39m\u001b[38;5;28;01mfor\u001b[39;00m\u001b[38;5;250m \u001b[39ma\u001b[38;5;250m \u001b[39m\u001b[38;5;129;01min\u001b[39;00m\u001b[38;5;250m \u001b[39m\u001b[38;5;28mself\u001b[39m\u001b[38;5;241m.\u001b[39mprevious_actions\u001b[38;5;250m \u001b[39m\u001b[38;5;129;01mor\u001b[39;00m\u001b[38;5;250m \u001b[39m[]]\u001b[38;5;132;01m}\u001b[39;00m\u001b[38;5;124m\"\u001b[39m)\n\u001b[1;32m    125\u001b[0m     logger\u001b[38;5;241m.\u001b[39mdebug(\u001b[38;5;124mf\u001b[39m\u001b[38;5;124m\"\u001b[39m\u001b[38;5;124mℹ️ context inodes IDs: \u001b[39m\u001b[38;5;132;01m{\u001b[39;00m[node\u001b[38;5;241m.\u001b[39mid\u001b[38;5;250m \u001b[39m\u001b[38;5;28;01mfor\u001b[39;00m\u001b[38;5;250m \u001b[39mnode\u001b[38;5;250m \u001b[39m\u001b[38;5;129;01min\u001b[39;00m\u001b[38;5;250m \u001b[39m\u001b[38;5;28mself\u001b[39m\u001b[38;5;241m.\u001b[39mcontext\u001b[38;5;241m.\u001b[39minteraction_nodes()]\u001b[38;5;132;01m}\u001b[39;00m\u001b[38;5;124m\"\u001b[39m)\n",
      "File \u001b[0;32m~/Desktop/projects/notte/notte/common/logging.py:14\u001b[0m, in \u001b[0;36mtimeit.<locals>._timeit.<locals>.wrapper\u001b[0;34m(*args, **kwargs)\u001b[0m\n\u001b[1;32m     12\u001b[0m \u001b[38;5;28;01masync\u001b[39;00m \u001b[38;5;28;01mdef\u001b[39;00m \u001b[38;5;21mwrapper\u001b[39m(\u001b[38;5;241m*\u001b[39margs: Any, \u001b[38;5;241m*\u001b[39m\u001b[38;5;241m*\u001b[39mkwargs: Any) \u001b[38;5;241m-\u001b[39m\u001b[38;5;241m>\u001b[39m Any:\n\u001b[1;32m     13\u001b[0m     start_time \u001b[38;5;241m=\u001b[39m time\u001b[38;5;241m.\u001b[39mtime()\n\u001b[0;32m---> 14\u001b[0m     result \u001b[38;5;241m=\u001b[39m \u001b[38;5;28;01mawait\u001b[39;00m func(\u001b[38;5;241m*\u001b[39margs, \u001b[38;5;241m*\u001b[39m\u001b[38;5;241m*\u001b[39mkwargs)\n\u001b[1;32m     15\u001b[0m     end_time \u001b[38;5;241m=\u001b[39m time\u001b[38;5;241m.\u001b[39mtime()\n\u001b[1;32m     16\u001b[0m     logger\u001b[38;5;241m.\u001b[39minfo(\u001b[38;5;124mf\u001b[39m\u001b[38;5;124m\"\u001b[39m\u001b[38;5;124mfunction \u001b[39m\u001b[38;5;132;01m{\u001b[39;00mname\u001b[38;5;132;01m}\u001b[39;00m\u001b[38;5;124m took \u001b[39m\u001b[38;5;132;01m{\u001b[39;00mend_time\u001b[38;5;250m \u001b[39m\u001b[38;5;241m-\u001b[39m\u001b[38;5;250m \u001b[39mstart_time\u001b[38;5;132;01m:\u001b[39;00m\u001b[38;5;124m.4f\u001b[39m\u001b[38;5;132;01m}\u001b[39;00m\u001b[38;5;124m seconds\u001b[39m\u001b[38;5;124m\"\u001b[39m)\n",
      "File \u001b[0;32m~/Desktop/projects/notte/notte/env.py:119\u001b[0m, in \u001b[0;36mNotteEnv.goto\u001b[0;34m(self, url)\u001b[0m\n\u001b[1;32m    116\u001b[0m \u001b[38;5;129m@timeit\u001b[39m(\u001b[38;5;124m\"\u001b[39m\u001b[38;5;124mgoto\u001b[39m\u001b[38;5;124m\"\u001b[39m)\n\u001b[1;32m    117\u001b[0m \u001b[38;5;28;01masync\u001b[39;00m \u001b[38;5;28;01mdef\u001b[39;00m \u001b[38;5;21mgoto\u001b[39m(\u001b[38;5;28mself\u001b[39m, url: \u001b[38;5;28mstr\u001b[39m \u001b[38;5;241m|\u001b[39m \u001b[38;5;28;01mNone\u001b[39;00m) \u001b[38;5;241m-\u001b[39m\u001b[38;5;241m>\u001b[39m Observation:\n\u001b[1;32m    118\u001b[0m     snapshot \u001b[38;5;241m=\u001b[39m \u001b[38;5;28;01mawait\u001b[39;00m \u001b[38;5;28mself\u001b[39m\u001b[38;5;241m.\u001b[39m_browser\u001b[38;5;241m.\u001b[39mgoto(url)\n\u001b[0;32m--> 119\u001b[0m     \u001b[38;5;28;01mreturn\u001b[39;00m \u001b[38;5;28;43mself\u001b[39;49m\u001b[38;5;241;43m.\u001b[39;49m\u001b[43m_preobserve\u001b[49m\u001b[43m(\u001b[49m\u001b[43msnapshot\u001b[49m\u001b[43m)\u001b[49m\n",
      "File \u001b[0;32m~/Desktop/projects/notte/notte/env.py:96\u001b[0m, in \u001b[0;36mNotteEnv._preobserve\u001b[0;34m(self, snapshot)\u001b[0m\n\u001b[1;32m     94\u001b[0m \u001b[38;5;28;01mif\u001b[39;00m \u001b[38;5;28mself\u001b[39m\u001b[38;5;241m.\u001b[39m_max_steps \u001b[38;5;129;01mis\u001b[39;00m \u001b[38;5;129;01mnot\u001b[39;00m \u001b[38;5;28;01mNone\u001b[39;00m \u001b[38;5;129;01mand\u001b[39;00m \u001b[38;5;28mlen\u001b[39m(\u001b[38;5;28mself\u001b[39m\u001b[38;5;241m.\u001b[39m_trajectory) \u001b[38;5;241m>\u001b[39m\u001b[38;5;241m=\u001b[39m \u001b[38;5;28mself\u001b[39m\u001b[38;5;241m.\u001b[39m_max_steps:\n\u001b[1;32m     95\u001b[0m     \u001b[38;5;28;01mraise\u001b[39;00m \u001b[38;5;167;01mValueError\u001b[39;00m(\u001b[38;5;124mf\u001b[39m\u001b[38;5;124m\"\u001b[39m\u001b[38;5;124mMax steps reached: \u001b[39m\u001b[38;5;132;01m{\u001b[39;00m\u001b[38;5;28mself\u001b[39m\u001b[38;5;241m.\u001b[39m_max_steps\u001b[38;5;132;01m}\u001b[39;00m\u001b[38;5;124m\"\u001b[39m)\n\u001b[0;32m---> 96\u001b[0m \u001b[38;5;28mself\u001b[39m\u001b[38;5;241m.\u001b[39m_context \u001b[38;5;241m=\u001b[39m \u001b[43mBrowserSnapshotToContextPipe\u001b[49m\u001b[38;5;241;43m.\u001b[39;49m\u001b[43mforward\u001b[49m\u001b[43m(\u001b[49m\u001b[43msnapshot\u001b[49m\u001b[43m)\u001b[49m\n\u001b[1;32m     97\u001b[0m preobs \u001b[38;5;241m=\u001b[39m Observation\u001b[38;5;241m.\u001b[39mfrom_snapshot(snapshot)\n\u001b[1;32m     98\u001b[0m \u001b[38;5;28mself\u001b[39m\u001b[38;5;241m.\u001b[39m_trajectory\u001b[38;5;241m.\u001b[39mappend(preobs)\n",
      "File \u001b[0;32m~/Desktop/projects/notte/notte/env.py:31\u001b[0m, in \u001b[0;36mBrowserSnapshotToContextPipe.forward\u001b[0;34m(snapshot)\u001b[0m\n\u001b[1;32m     29\u001b[0m \u001b[38;5;129m@staticmethod\u001b[39m\n\u001b[1;32m     30\u001b[0m \u001b[38;5;28;01mdef\u001b[39;00m \u001b[38;5;21mforward\u001b[39m(snapshot: BrowserSnapshot) \u001b[38;5;241m-\u001b[39m\u001b[38;5;241m>\u001b[39m Context:\n\u001b[0;32m---> 31\u001b[0m     \u001b[38;5;28;01mreturn\u001b[39;00m \u001b[43mActionA11yPipe\u001b[49m\u001b[38;5;241;43m.\u001b[39;49m\u001b[43mforward\u001b[49m\u001b[43m(\u001b[49m\u001b[43msnapshot\u001b[49m\u001b[43m)\u001b[49m\n",
      "File \u001b[0;32m~/Desktop/projects/notte/notte/pipe/preprocessing/a11y/pipe.py:14\u001b[0m, in \u001b[0;36mActionA11yPipe.forward\u001b[0;34m(snapshot)\u001b[0m\n\u001b[1;32m     12\u001b[0m \u001b[38;5;129m@staticmethod\u001b[39m\n\u001b[1;32m     13\u001b[0m \u001b[38;5;28;01mdef\u001b[39;00m \u001b[38;5;21mforward\u001b[39m(snapshot: BrowserSnapshot) \u001b[38;5;241m-\u001b[39m\u001b[38;5;241m>\u001b[39m Context:\n\u001b[0;32m---> 14\u001b[0m     processed_tree \u001b[38;5;241m=\u001b[39m \u001b[43mProcessedA11yTree\u001b[49m\u001b[38;5;241;43m.\u001b[39;49m\u001b[43mfrom_a11y_tree\u001b[49m\u001b[43m(\u001b[49m\u001b[43msnapshot\u001b[49m\u001b[38;5;241;43m.\u001b[39;49m\u001b[43ma11y_tree\u001b[49m\u001b[43m)\u001b[49m\n\u001b[1;32m     15\u001b[0m     \u001b[38;5;28;01mreturn\u001b[39;00m Context(\n\u001b[1;32m     16\u001b[0m         snapshot\u001b[38;5;241m=\u001b[39msnapshot,\n\u001b[1;32m     17\u001b[0m         node\u001b[38;5;241m=\u001b[39mNotteNode\u001b[38;5;241m.\u001b[39mfrom_a11y_node(processed_tree\u001b[38;5;241m.\u001b[39mprocessed_tree, path\u001b[38;5;241m=\u001b[39msnapshot\u001b[38;5;241m.\u001b[39murl),\n\u001b[1;32m     18\u001b[0m     )\n",
      "File \u001b[0;32m~/Desktop/projects/notte/notte/pipe/preprocessing/a11y/tree.py:50\u001b[0m, in \u001b[0;36mProcessedA11yTree.from_a11y_tree\u001b[0;34m(tree)\u001b[0m\n\u001b[1;32m     47\u001b[0m     \u001b[38;5;28;01mraise\u001b[39;00m \u001b[38;5;167;01mValueError\u001b[39;00m(\u001b[38;5;124m\"\u001b[39m\u001b[38;5;124mRaw tree is None\u001b[39m\u001b[38;5;124m\"\u001b[39m)\n\u001b[1;32m     48\u001b[0m raw_tree \u001b[38;5;241m=\u001b[39m sync_ids_between_trees(source\u001b[38;5;241m=\u001b[39msimple_tree, target\u001b[38;5;241m=\u001b[39mraw_tree)\n\u001b[0;32m---> 50\u001b[0m _processed_tree \u001b[38;5;241m=\u001b[39m \u001b[43mcomplex_processing_accessiblity_tree\u001b[49m\u001b[43m(\u001b[49m\u001b[43mtree\u001b[49m\u001b[38;5;241;43m.\u001b[39;49m\u001b[43mraw\u001b[49m\u001b[43m)\u001b[49m\n\u001b[1;32m     51\u001b[0m processed_tree \u001b[38;5;241m=\u001b[39m simple_processing_accessiblity_tree(_processed_tree)\n\u001b[1;32m     52\u001b[0m \u001b[38;5;28;01mif\u001b[39;00m processed_tree \u001b[38;5;129;01mis\u001b[39;00m \u001b[38;5;28;01mNone\u001b[39;00m:\n",
      "File \u001b[0;32m~/Desktop/projects/notte/notte/pipe/preprocessing/a11y/pruning.py:218\u001b[0m, in \u001b[0;36mcomplex_processing_accessiblity_tree\u001b[0;34m(node)\u001b[0m\n\u001b[1;32m    215\u001b[0m     \u001b[38;5;28;01mreturn\u001b[39;00m base\n\u001b[1;32m    217\u001b[0m \u001b[38;5;66;03m# if there is only one child and the note is not interesting, skip it\u001b[39;00m\n\u001b[0;32m--> 218\u001b[0m pruned_children \u001b[38;5;241m=\u001b[39m \u001b[43m[\u001b[49m\u001b[43mcomplex_processing_accessiblity_tree\u001b[49m\u001b[43m(\u001b[49m\u001b[43mchild\u001b[49m\u001b[43m)\u001b[49m\u001b[43m \u001b[49m\u001b[38;5;28;43;01mfor\u001b[39;49;00m\u001b[43m \u001b[49m\u001b[43mchild\u001b[49m\u001b[43m \u001b[49m\u001b[38;5;129;43;01min\u001b[39;49;00m\u001b[43m \u001b[49m\u001b[43mchildren\u001b[49m\u001b[43m \u001b[49m\u001b[38;5;28;43;01mif\u001b[39;49;00m\u001b[43m \u001b[49m\u001b[43mfilter_node\u001b[49m\u001b[43m(\u001b[49m\u001b[43mchild\u001b[49m\u001b[43m)\u001b[49m\u001b[43m]\u001b[49m\n\u001b[1;32m    219\u001b[0m \u001b[38;5;66;03m# scond round of filtrering\u001b[39;00m\n\u001b[1;32m    220\u001b[0m pruned_children \u001b[38;5;241m=\u001b[39m [child \u001b[38;5;28;01mfor\u001b[39;00m child \u001b[38;5;129;01min\u001b[39;00m pruned_children \u001b[38;5;28;01mif\u001b[39;00m filter_node(child)]\n",
      "File \u001b[0;32m~/Desktop/projects/notte/notte/pipe/preprocessing/a11y/pruning.py:218\u001b[0m, in \u001b[0;36m<listcomp>\u001b[0;34m(.0)\u001b[0m\n\u001b[1;32m    215\u001b[0m     \u001b[38;5;28;01mreturn\u001b[39;00m base\n\u001b[1;32m    217\u001b[0m \u001b[38;5;66;03m# if there is only one child and the note is not interesting, skip it\u001b[39;00m\n\u001b[0;32m--> 218\u001b[0m pruned_children \u001b[38;5;241m=\u001b[39m [\u001b[43mcomplex_processing_accessiblity_tree\u001b[49m\u001b[43m(\u001b[49m\u001b[43mchild\u001b[49m\u001b[43m)\u001b[49m \u001b[38;5;28;01mfor\u001b[39;00m child \u001b[38;5;129;01min\u001b[39;00m children \u001b[38;5;28;01mif\u001b[39;00m filter_node(child)]\n\u001b[1;32m    219\u001b[0m \u001b[38;5;66;03m# scond round of filtrering\u001b[39;00m\n\u001b[1;32m    220\u001b[0m pruned_children \u001b[38;5;241m=\u001b[39m [child \u001b[38;5;28;01mfor\u001b[39;00m child \u001b[38;5;129;01min\u001b[39;00m pruned_children \u001b[38;5;28;01mif\u001b[39;00m filter_node(child)]\n",
      "File \u001b[0;32m~/Desktop/projects/notte/notte/pipe/preprocessing/a11y/pruning.py:218\u001b[0m, in \u001b[0;36mcomplex_processing_accessiblity_tree\u001b[0;34m(node)\u001b[0m\n\u001b[1;32m    215\u001b[0m     \u001b[38;5;28;01mreturn\u001b[39;00m base\n\u001b[1;32m    217\u001b[0m \u001b[38;5;66;03m# if there is only one child and the note is not interesting, skip it\u001b[39;00m\n\u001b[0;32m--> 218\u001b[0m pruned_children \u001b[38;5;241m=\u001b[39m \u001b[43m[\u001b[49m\u001b[43mcomplex_processing_accessiblity_tree\u001b[49m\u001b[43m(\u001b[49m\u001b[43mchild\u001b[49m\u001b[43m)\u001b[49m\u001b[43m \u001b[49m\u001b[38;5;28;43;01mfor\u001b[39;49;00m\u001b[43m \u001b[49m\u001b[43mchild\u001b[49m\u001b[43m \u001b[49m\u001b[38;5;129;43;01min\u001b[39;49;00m\u001b[43m \u001b[49m\u001b[43mchildren\u001b[49m\u001b[43m \u001b[49m\u001b[38;5;28;43;01mif\u001b[39;49;00m\u001b[43m \u001b[49m\u001b[43mfilter_node\u001b[49m\u001b[43m(\u001b[49m\u001b[43mchild\u001b[49m\u001b[43m)\u001b[49m\u001b[43m]\u001b[49m\n\u001b[1;32m    219\u001b[0m \u001b[38;5;66;03m# scond round of filtrering\u001b[39;00m\n\u001b[1;32m    220\u001b[0m pruned_children \u001b[38;5;241m=\u001b[39m [child \u001b[38;5;28;01mfor\u001b[39;00m child \u001b[38;5;129;01min\u001b[39;00m pruned_children \u001b[38;5;28;01mif\u001b[39;00m filter_node(child)]\n",
      "File \u001b[0;32m~/Desktop/projects/notte/notte/pipe/preprocessing/a11y/pruning.py:218\u001b[0m, in \u001b[0;36m<listcomp>\u001b[0;34m(.0)\u001b[0m\n\u001b[1;32m    215\u001b[0m     \u001b[38;5;28;01mreturn\u001b[39;00m base\n\u001b[1;32m    217\u001b[0m \u001b[38;5;66;03m# if there is only one child and the note is not interesting, skip it\u001b[39;00m\n\u001b[0;32m--> 218\u001b[0m pruned_children \u001b[38;5;241m=\u001b[39m [\u001b[43mcomplex_processing_accessiblity_tree\u001b[49m\u001b[43m(\u001b[49m\u001b[43mchild\u001b[49m\u001b[43m)\u001b[49m \u001b[38;5;28;01mfor\u001b[39;00m child \u001b[38;5;129;01min\u001b[39;00m children \u001b[38;5;28;01mif\u001b[39;00m filter_node(child)]\n\u001b[1;32m    219\u001b[0m \u001b[38;5;66;03m# scond round of filtrering\u001b[39;00m\n\u001b[1;32m    220\u001b[0m pruned_children \u001b[38;5;241m=\u001b[39m [child \u001b[38;5;28;01mfor\u001b[39;00m child \u001b[38;5;129;01min\u001b[39;00m pruned_children \u001b[38;5;28;01mif\u001b[39;00m filter_node(child)]\n",
      "    \u001b[0;31m[... skipping similar frames: <listcomp> at line 218 (4 times), complex_processing_accessiblity_tree at line 218 (4 times)]\u001b[0m\n",
      "File \u001b[0;32m~/Desktop/projects/notte/notte/pipe/preprocessing/a11y/pruning.py:218\u001b[0m, in \u001b[0;36mcomplex_processing_accessiblity_tree\u001b[0;34m(node)\u001b[0m\n\u001b[1;32m    215\u001b[0m     \u001b[38;5;28;01mreturn\u001b[39;00m base\n\u001b[1;32m    217\u001b[0m \u001b[38;5;66;03m# if there is only one child and the note is not interesting, skip it\u001b[39;00m\n\u001b[0;32m--> 218\u001b[0m pruned_children \u001b[38;5;241m=\u001b[39m \u001b[43m[\u001b[49m\u001b[43mcomplex_processing_accessiblity_tree\u001b[49m\u001b[43m(\u001b[49m\u001b[43mchild\u001b[49m\u001b[43m)\u001b[49m\u001b[43m \u001b[49m\u001b[38;5;28;43;01mfor\u001b[39;49;00m\u001b[43m \u001b[49m\u001b[43mchild\u001b[49m\u001b[43m \u001b[49m\u001b[38;5;129;43;01min\u001b[39;49;00m\u001b[43m \u001b[49m\u001b[43mchildren\u001b[49m\u001b[43m \u001b[49m\u001b[38;5;28;43;01mif\u001b[39;49;00m\u001b[43m \u001b[49m\u001b[43mfilter_node\u001b[49m\u001b[43m(\u001b[49m\u001b[43mchild\u001b[49m\u001b[43m)\u001b[49m\u001b[43m]\u001b[49m\n\u001b[1;32m    219\u001b[0m \u001b[38;5;66;03m# scond round of filtrering\u001b[39;00m\n\u001b[1;32m    220\u001b[0m pruned_children \u001b[38;5;241m=\u001b[39m [child \u001b[38;5;28;01mfor\u001b[39;00m child \u001b[38;5;129;01min\u001b[39;00m pruned_children \u001b[38;5;28;01mif\u001b[39;00m filter_node(child)]\n",
      "File \u001b[0;32m~/Desktop/projects/notte/notte/pipe/preprocessing/a11y/pruning.py:218\u001b[0m, in \u001b[0;36m<listcomp>\u001b[0;34m(.0)\u001b[0m\n\u001b[1;32m    215\u001b[0m     \u001b[38;5;28;01mreturn\u001b[39;00m base\n\u001b[1;32m    217\u001b[0m \u001b[38;5;66;03m# if there is only one child and the note is not interesting, skip it\u001b[39;00m\n\u001b[0;32m--> 218\u001b[0m pruned_children \u001b[38;5;241m=\u001b[39m [\u001b[43mcomplex_processing_accessiblity_tree\u001b[49m\u001b[43m(\u001b[49m\u001b[43mchild\u001b[49m\u001b[43m)\u001b[49m \u001b[38;5;28;01mfor\u001b[39;00m child \u001b[38;5;129;01min\u001b[39;00m children \u001b[38;5;28;01mif\u001b[39;00m filter_node(child)]\n\u001b[1;32m    219\u001b[0m \u001b[38;5;66;03m# scond round of filtrering\u001b[39;00m\n\u001b[1;32m    220\u001b[0m pruned_children \u001b[38;5;241m=\u001b[39m [child \u001b[38;5;28;01mfor\u001b[39;00m child \u001b[38;5;129;01min\u001b[39;00m pruned_children \u001b[38;5;28;01mif\u001b[39;00m filter_node(child)]\n",
      "File \u001b[0;32m~/Desktop/projects/notte/notte/pipe/preprocessing/a11y/pruning.py:251\u001b[0m, in \u001b[0;36mcomplex_processing_accessiblity_tree\u001b[0;34m(node)\u001b[0m\n\u001b[1;32m    248\u001b[0m     \u001b[38;5;28;01mreturn\u001b[39;00m add_children_to_pruned_node(base, children)\n\u001b[1;32m    250\u001b[0m \u001b[38;5;28;01mif\u001b[39;00m \u001b[38;5;28mlen\u001b[39m(pruned_children) \u001b[38;5;241m==\u001b[39m \u001b[38;5;241m1\u001b[39m:\n\u001b[0;32m--> 251\u001b[0m     \u001b[38;5;28;01mreturn\u001b[39;00m \u001b[43mfold_single_child\u001b[49m\u001b[43m(\u001b[49m\u001b[43mpruned_children\u001b[49m\u001b[43m[\u001b[49m\u001b[38;5;241;43m0\u001b[39;49m\u001b[43m]\u001b[49m\u001b[43m)\u001b[49m\n\u001b[1;32m    253\u001b[0m \u001b[38;5;28;01mif\u001b[39;00m base[\u001b[38;5;124m\"\u001b[39m\u001b[38;5;124mrole\u001b[39m\u001b[38;5;124m\"\u001b[39m] \u001b[38;5;129;01min\u001b[39;00m [\u001b[38;5;124m\"\u001b[39m\u001b[38;5;124mnone\u001b[39m\u001b[38;5;124m\"\u001b[39m, \u001b[38;5;124m\"\u001b[39m\u001b[38;5;124mgeneric\u001b[39m\u001b[38;5;124m\"\u001b[39m]:\n\u001b[1;32m    254\u001b[0m     base[\u001b[38;5;124m\"\u001b[39m\u001b[38;5;124mrole\u001b[39m\u001b[38;5;124m\"\u001b[39m] \u001b[38;5;241m=\u001b[39m \u001b[38;5;124m\"\u001b[39m\u001b[38;5;124mgroup\u001b[39m\u001b[38;5;124m\"\u001b[39m\n",
      "File \u001b[0;32m~/Desktop/projects/notte/notte/pipe/preprocessing/a11y/pruning.py:243\u001b[0m, in \u001b[0;36mcomplex_processing_accessiblity_tree.<locals>.fold_single_child\u001b[0;34m(child)\u001b[0m\n\u001b[1;32m    241\u001b[0m \u001b[38;5;28;01mif\u001b[39;00m child\u001b[38;5;241m.\u001b[39mget(\u001b[38;5;124m\"\u001b[39m\u001b[38;5;124mrole\u001b[39m\u001b[38;5;124m\"\u001b[39m) \u001b[38;5;129;01min\u001b[39;00m [\u001b[38;5;124m\"\u001b[39m\u001b[38;5;124mgroup\u001b[39m\u001b[38;5;124m\"\u001b[39m, \u001b[38;5;124m\"\u001b[39m\u001b[38;5;124mnone\u001b[39m\u001b[38;5;124m\"\u001b[39m, \u001b[38;5;124m\"\u001b[39m\u001b[38;5;124mgeneric\u001b[39m\u001b[38;5;124m\"\u001b[39m]:\n\u001b[1;32m    242\u001b[0m     \u001b[38;5;28;01mif\u001b[39;00m \u001b[38;5;129;01mnot\u001b[39;00m child\u001b[38;5;241m.\u001b[39mget(\u001b[38;5;124m\"\u001b[39m\u001b[38;5;124mchildren\u001b[39m\u001b[38;5;124m\"\u001b[39m) \u001b[38;5;129;01mand\u001b[39;00m child\u001b[38;5;241m.\u001b[39mget(\u001b[38;5;124m\"\u001b[39m\u001b[38;5;124mnb_pruned_children\u001b[39m\u001b[38;5;124m\"\u001b[39m) \u001b[38;5;129;01min\u001b[39;00m [\u001b[38;5;28;01mNone\u001b[39;00m, \u001b[38;5;241m0\u001b[39m]:\n\u001b[0;32m--> 243\u001b[0m         \u001b[38;5;28;01mraise\u001b[39;00m \u001b[38;5;167;01mValueError\u001b[39;00m(\u001b[38;5;124mf\u001b[39m\u001b[38;5;124m\"\u001b[39m\u001b[38;5;124mGroup nodes should have children: \u001b[39m\u001b[38;5;132;01m{\u001b[39;00mchild\u001b[38;5;132;01m}\u001b[39;00m\u001b[38;5;124m\"\u001b[39m)\n\u001b[1;32m    244\u001b[0m     children \u001b[38;5;241m=\u001b[39m child\u001b[38;5;241m.\u001b[39mget(\u001b[38;5;124m\"\u001b[39m\u001b[38;5;124mchildren\u001b[39m\u001b[38;5;124m\"\u001b[39m, [])\n\u001b[1;32m    245\u001b[0m \u001b[38;5;28;01melse\u001b[39;00m:\n",
      "\u001b[0;31mValueError\u001b[0m: Group nodes should have children: {'role': 'generic', 'name': 'Search, option, forward slash'}"
     ]
    }
   ],
   "source": [
    "\n",
    "%load_ext autoreload\n",
    "%autoreload 2\n",
    "\n",
    "from notte.env import NotteEnv\n",
    "\n",
    "env = NotteEnv(headless=False, persist=True) \n",
    "await env.start() \n",
    "\n",
    "obs = await env.observe(\"https://amazon.com\")\n",
    "obs = await env.step(\"B3\")"
   ]
  },
  {
   "cell_type": "code",
   "execution_count": 8,
   "metadata": {},
   "outputs": [
    {
     "name": "stderr",
     "output_type": "stream",
     "text": [
      "\u001b[32m2025-01-03 12:11:04.966\u001b[0m | \u001b[34m\u001b[1mDEBUG   \u001b[0m | \u001b[36mnotte.llms.service\u001b[0m:\u001b[36mcompletion\u001b[0m:\u001b[36m27\u001b[0m - \u001b[34m\u001b[1musing cerebras/llama3.1-70b\u001b[0m\n",
      "\u001b[32m2025-01-03 12:11:05.838\u001b[0m | \u001b[34m\u001b[1mDEBUG   \u001b[0m | \u001b[36mnotte.llms.service\u001b[0m:\u001b[36mcompletion\u001b[0m:\u001b[36m27\u001b[0m - \u001b[34m\u001b[1musing cerebras/llama3.1-70b\u001b[0m\n",
      "\u001b[32m2025-01-03 12:11:06.665\u001b[0m | \u001b[1mINFO    \u001b[0m | \u001b[36mnotte.pipe.document_category\u001b[0m:\u001b[36mforward\u001b[0m:\u001b[36m33\u001b[0m - \u001b[1m🏷️ Page categorisation: auth (took 0.84 seconds)\u001b[0m\n"
     ]
    }
   ],
   "source": [
    "space = env._context_to_action_space_pipe.forward(env.snapshot)"
   ]
  },
  {
   "cell_type": "code",
   "execution_count": 10,
   "metadata": {},
   "outputs": [
    {
     "data": {
      "text/plain": [
       "[Action(id='L1', description='Opens the PhantomBuster homepage', category='Navigation', params=[], status='valid'),\n",
       " Action(id='L2', description='Opens the Solutions page', category='Navigation', params=[], status='valid'),\n",
       " Action(id='L3', description='Opens the Pricing page', category='Navigation', params=[], status='valid'),\n",
       " Action(id='L4', description='Opens the Log in page', category='Sign-in/Registration', params=[], status='valid'),\n",
       " Action(id='L5', description='Opens the Start free trial page', category='Sign-in/Registration', params=[], status='valid'),\n",
       " Action(id='L6', description='Opens the Sign up page', category='Sign-in/Registration', params=[], status='valid'),\n",
       " Action(id='L7', description='Opens the Lost password page', category='Sign-in/Registration', params=[], status='valid'),\n",
       " Action(id='L8', description='Opens the Lead generation page', category='Resources', params=[], status='valid'),\n",
       " Action(id='L9', description='Opens the Data & email enrichment page', category='Resources', params=[], status='valid'),\n",
       " Action(id='L10', description='Opens the LinkedIn outreach page', category='Resources', params=[], status='valid'),\n",
       " Action(id='L11', description='Opens the Automate responsibly page', category='Resources', params=[], status='valid'),\n",
       " Action(id='L12', description='Opens the LinkedIn solutions page', category='Resources', params=[], status='valid'),\n",
       " Action(id='L13', description='Opens the Sales Navigator solutions page', category='Resources', params=[], status='valid'),\n",
       " Action(id='L14', description='Opens the Google solutions page', category='Resources', params=[], status='valid'),\n",
       " Action(id='L15', description='Opens the Instagram solutions page', category='Resources', params=[], status='valid'),\n",
       " Action(id='L16', description='Opens the Blog page', category='Resources', params=[], status='valid'),\n",
       " Action(id='L17', description='Opens the Tutorial videos page', category='Resources', params=[], status='valid'),\n",
       " Action(id='L18', description='Opens the Use cases page', category='Resources', params=[], status='valid'),\n",
       " Action(id='L19', description='Opens the 1:1 coaching page', category='Resources', params=[], status='valid'),\n",
       " Action(id='I1', description='Enters email address', category='Sign-in/Registration', params=[ActionParameter(name='email', type='str', default=None, values=[])], status='valid'),\n",
       " Action(id='I2', description='Enters password', category='Sign-in/Registration', params=[ActionParameter(name='password', type='str', default=None, values=[])], status='valid'),\n",
       " Action(id='L20', description='Opens the Help center page', category='Support', params=[], status='valid'),\n",
       " Action(id='L21', description='Opens the Support page', category='Support', params=[], status='valid'),\n",
       " Action(id='L22', description='Opens the Paid services page', category='Support', params=[], status='valid'),\n",
       " Action(id='L23', description='Opens the Pricing page', category='Resources', params=[], status='valid'),\n",
       " Action(id='L24', description='Opens the About us page', category='More', params=[], status='valid'),\n",
       " Action(id='L25', description='Opens the Careers page', category='More', params=[], status='valid'),\n",
       " Action(id='L26', description='Opens the Newsletter page', category='More', params=[], status='valid'),\n",
       " Action(id='L27', description='Opens the Affiliate program page', category='More', params=[], status='valid'),\n",
       " Action(id='L28', description='Opens the Status page', category='More', params=[], status='valid'),\n",
       " Action(id='L29', description='Opens the Terms and conditions page', category='More', params=[], status='valid'),\n",
       " Action(id='L30', description='Opens the Cookie Policy page', category='More', params=[], status='valid'),\n",
       " Action(id='L31', description='Opens the Press kit page', category='More', params=[], status='valid'),\n",
       " Action(id='B1', description='Submits the sign-in form', category='Sign-in/Registration', params=[], status='valid'),\n",
       " Action(id='B2', description='Opens the Get started page', category='Resources', params=[], status='valid')]"
      ]
     },
     "execution_count": 10,
     "metadata": {},
     "output_type": "execute_result"
    }
   ],
   "source": [
    "space.actions()"
   ]
  }
 ],
 "metadata": {
  "kernelspec": {
   "display_name": "notte-dev",
   "language": "python",
   "name": "python3"
  },
  "language_info": {
   "codemirror_mode": {
    "name": "ipython",
    "version": 3
   },
   "file_extension": ".py",
   "mimetype": "text/x-python",
   "name": "python",
   "nbconvert_exporter": "python",
   "pygments_lexer": "ipython3",
   "version": "3.11.11"
  }
 },
 "nbformat": 4,
 "nbformat_minor": 2
}
