{
 "cells": [
  {
   "cell_type": "code",
   "execution_count": 1,
   "metadata": {},
   "outputs": [],
   "source": [
    "%load_ext autoreload\n",
    "%autoreload 2\n",
    "\n"
   ]
  },
  {
   "cell_type": "code",
   "execution_count": 2,
   "metadata": {},
   "outputs": [],
   "source": [
    "from playwright.async_api import Page\n",
    "from typing import Optional, Dict, Any\n",
    "\n",
    "class AccessibilityMapper:\n",
    "    def __init__(self, page: Page):\n",
    "        self.page = page\n",
    "        self.cdp_client = None\n",
    "\n",
    "    async def init_cdp(self):\n",
    "        \"\"\"Initialize CDP client if not already done\"\"\"\n",
    "        if not self.cdp_client:\n",
    "            self.cdp_client = await self.page.context.new_cdp_session(self.page)\n",
    "\n",
    "    async def get_accessibility_tree(self) -> Dict[str, Any]:\n",
    "        \"\"\"Get the full accessibility tree using CDP\"\"\"\n",
    "        await self.init_cdp()\n",
    "        return await self.cdp_client.send(\"Accessibility.getFullAXTree\")\n",
    "\n",
    "    async def get_dom_element(self, ax_node_id: str):\n",
    "        \"\"\"Get DOM element from accessibility node ID\"\"\"\n",
    "        await self.init_cdp()\n",
    "        # First get the backend DOM node ID\n",
    "        node_info = await self.cdp_client.send(\"Accessibility.getBackendNodeIdForAXNode\", {\n",
    "            \"id\": ax_node_id\n",
    "        })\n",
    "        \n",
    "        # Then get a DOM element handle using the backend node ID\n",
    "        element = await self.page.evaluate_handle(f\"\"\"(backend_id) => {{\n",
    "            const nodes = document.evaluate(\n",
    "                '//*',\n",
    "                document,\n",
    "                null,\n",
    "                XPathResult.ORDERED_NODE_SNAPSHOT_TYPE,\n",
    "                null\n",
    "            );\n",
    "            for (let i = 0; i < nodes.snapshotLength; i++) {{\n",
    "                const node = nodes.snapshotItem(i);\n",
    "                if (node.__playwright_backend_node_id === {node_info['backendDOMNodeId']}) {{\n",
    "                    return node;\n",
    "                }}\n",
    "            }}\n",
    "            return null;\n",
    "        }}\"\"\")\n",
    "        \n",
    "        return element\n"
   ]
  },
  {
   "cell_type": "code",
   "execution_count": 5,
   "metadata": {},
   "outputs": [
    {
     "ename": "Error",
     "evalue": "CDPSession.send: Protocol error (Accessibility.getBackendNodeIdForAXNode): 'Accessibility.getBackendNodeIdForAXNode' wasn't found",
     "output_type": "error",
     "traceback": [
      "\u001b[0;31m---------------------------------------------------------------------------\u001b[0m",
      "\u001b[0;31mError\u001b[0m                                     Traceback (most recent call last)",
      "Cell \u001b[0;32mIn[5], line 19\u001b[0m\n\u001b[1;32m     17\u001b[0m \u001b[38;5;66;03m# For any node in the tree, you can get its DOM element\u001b[39;00m\n\u001b[1;32m     18\u001b[0m \u001b[38;5;28;01mfor\u001b[39;00m node \u001b[38;5;129;01min\u001b[39;00m ax_tree[\u001b[38;5;124m'\u001b[39m\u001b[38;5;124mnodes\u001b[39m\u001b[38;5;124m'\u001b[39m]:\n\u001b[0;32m---> 19\u001b[0m     element \u001b[38;5;241m=\u001b[39m \u001b[38;5;28;01mawait\u001b[39;00m mapper\u001b[38;5;241m.\u001b[39mget_dom_element(node[\u001b[38;5;124m'\u001b[39m\u001b[38;5;124mnodeId\u001b[39m\u001b[38;5;124m'\u001b[39m])\n\u001b[1;32m     20\u001b[0m     \u001b[38;5;28;01mif\u001b[39;00m element:\n\u001b[1;32m     21\u001b[0m         \u001b[38;5;66;03m# Now you can interact with the element\u001b[39;00m\n\u001b[1;32m     22\u001b[0m         \u001b[38;5;28;01mawait\u001b[39;00m element\u001b[38;5;241m.\u001b[39mclick()\n",
      "Cell \u001b[0;32mIn[2], line 23\u001b[0m, in \u001b[0;36mAccessibilityMapper.get_dom_element\u001b[0;34m(self, ax_node_id)\u001b[0m\n\u001b[1;32m     21\u001b[0m \u001b[38;5;28;01mawait\u001b[39;00m \u001b[38;5;28mself\u001b[39m\u001b[38;5;241m.\u001b[39minit_cdp()\n\u001b[1;32m     22\u001b[0m \u001b[38;5;66;03m# First get the backend DOM node ID\u001b[39;00m\n\u001b[0;32m---> 23\u001b[0m node_info \u001b[38;5;241m=\u001b[39m \u001b[38;5;28;01mawait\u001b[39;00m \u001b[38;5;28mself\u001b[39m\u001b[38;5;241m.\u001b[39mcdp_client\u001b[38;5;241m.\u001b[39msend(\u001b[38;5;124m\"\u001b[39m\u001b[38;5;124mAccessibility.getBackendNodeIdForAXNode\u001b[39m\u001b[38;5;124m\"\u001b[39m, {\n\u001b[1;32m     24\u001b[0m     \u001b[38;5;124m\"\u001b[39m\u001b[38;5;124mid\u001b[39m\u001b[38;5;124m\"\u001b[39m: ax_node_id\n\u001b[1;32m     25\u001b[0m })\n\u001b[1;32m     27\u001b[0m \u001b[38;5;66;03m# Then get a DOM element handle using the backend node ID\u001b[39;00m\n\u001b[1;32m     28\u001b[0m element \u001b[38;5;241m=\u001b[39m \u001b[38;5;28;01mawait\u001b[39;00m \u001b[38;5;28mself\u001b[39m\u001b[38;5;241m.\u001b[39mpage\u001b[38;5;241m.\u001b[39mevaluate_handle(\u001b[38;5;124mf\u001b[39m\u001b[38;5;124m\"\"\"\u001b[39m\u001b[38;5;124m(backend_id) => \u001b[39m\u001b[38;5;130;01m{{\u001b[39;00m\n\u001b[1;32m     29\u001b[0m \u001b[38;5;124m    const nodes = document.evaluate(\u001b[39m\n\u001b[1;32m     30\u001b[0m \u001b[38;5;124m        \u001b[39m\u001b[38;5;124m'\u001b[39m\u001b[38;5;124m//*\u001b[39m\u001b[38;5;124m'\u001b[39m\u001b[38;5;124m,\u001b[39m\n\u001b[0;32m   (...)\u001b[0m\n\u001b[1;32m     42\u001b[0m \u001b[38;5;124m    return null;\u001b[39m\n\u001b[1;32m     43\u001b[0m \u001b[38;5;124m\u001b[39m\u001b[38;5;130;01m}}\u001b[39;00m\u001b[38;5;124m\"\"\"\u001b[39m)\n",
      "File \u001b[0;32m~/miniconda3/envs/notte-dev-test/lib/python3.11/site-packages/playwright/async_api/_generated.py:13590\u001b[0m, in \u001b[0;36mCDPSession.send\u001b[0;34m(self, method, params)\u001b[0m\n\u001b[1;32m  13572\u001b[0m \u001b[38;5;28;01masync\u001b[39;00m \u001b[38;5;28;01mdef\u001b[39;00m\u001b[38;5;250m \u001b[39m\u001b[38;5;21msend\u001b[39m(\n\u001b[1;32m  13573\u001b[0m     \u001b[38;5;28mself\u001b[39m, method: \u001b[38;5;28mstr\u001b[39m, params: typing\u001b[38;5;241m.\u001b[39mOptional[typing\u001b[38;5;241m.\u001b[39mDict] \u001b[38;5;241m=\u001b[39m \u001b[38;5;28;01mNone\u001b[39;00m\n\u001b[1;32m  13574\u001b[0m ) \u001b[38;5;241m-\u001b[39m\u001b[38;5;241m>\u001b[39m typing\u001b[38;5;241m.\u001b[39mDict:\n\u001b[1;32m  13575\u001b[0m \u001b[38;5;250m    \u001b[39m\u001b[38;5;124;03m\"\"\"CDPSession.send\u001b[39;00m\n\u001b[1;32m  13576\u001b[0m \n\u001b[1;32m  13577\u001b[0m \u001b[38;5;124;03m    Parameters\u001b[39;00m\n\u001b[0;32m   (...)\u001b[0m\n\u001b[1;32m  13586\u001b[0m \u001b[38;5;124;03m    Dict\u001b[39;00m\n\u001b[1;32m  13587\u001b[0m \u001b[38;5;124;03m    \"\"\"\u001b[39;00m\n\u001b[1;32m  13589\u001b[0m     \u001b[38;5;28;01mreturn\u001b[39;00m mapping\u001b[38;5;241m.\u001b[39mfrom_maybe_impl(\n\u001b[0;32m> 13590\u001b[0m         \u001b[38;5;28;01mawait\u001b[39;00m \u001b[38;5;28mself\u001b[39m\u001b[38;5;241m.\u001b[39m_impl_obj\u001b[38;5;241m.\u001b[39msend(method\u001b[38;5;241m=\u001b[39mmethod, params\u001b[38;5;241m=\u001b[39mmapping\u001b[38;5;241m.\u001b[39mto_impl(params))\n\u001b[1;32m  13591\u001b[0m     )\n",
      "File \u001b[0;32m~/miniconda3/envs/notte-dev-test/lib/python3.11/site-packages/playwright/_impl/_cdp_session.py:32\u001b[0m, in \u001b[0;36mCDPSession.send\u001b[0;34m(self, method, params)\u001b[0m\n\u001b[1;32m     31\u001b[0m \u001b[38;5;28;01masync\u001b[39;00m \u001b[38;5;28;01mdef\u001b[39;00m\u001b[38;5;250m \u001b[39m\u001b[38;5;21msend\u001b[39m(\u001b[38;5;28mself\u001b[39m, method: \u001b[38;5;28mstr\u001b[39m, params: Dict \u001b[38;5;241m=\u001b[39m \u001b[38;5;28;01mNone\u001b[39;00m) \u001b[38;5;241m-\u001b[39m\u001b[38;5;241m>\u001b[39m Dict:\n\u001b[0;32m---> 32\u001b[0m     \u001b[38;5;28;01mreturn\u001b[39;00m \u001b[38;5;28;01mawait\u001b[39;00m \u001b[38;5;28mself\u001b[39m\u001b[38;5;241m.\u001b[39m_channel\u001b[38;5;241m.\u001b[39msend(\u001b[38;5;124m\"\u001b[39m\u001b[38;5;124msend\u001b[39m\u001b[38;5;124m\"\u001b[39m, locals_to_params(\u001b[38;5;28mlocals\u001b[39m()))\n",
      "File \u001b[0;32m~/miniconda3/envs/notte-dev-test/lib/python3.11/site-packages/playwright/_impl/_connection.py:61\u001b[0m, in \u001b[0;36mChannel.send\u001b[0;34m(self, method, params)\u001b[0m\n\u001b[1;32m     60\u001b[0m \u001b[38;5;28;01masync\u001b[39;00m \u001b[38;5;28;01mdef\u001b[39;00m\u001b[38;5;250m \u001b[39m\u001b[38;5;21msend\u001b[39m(\u001b[38;5;28mself\u001b[39m, method: \u001b[38;5;28mstr\u001b[39m, params: Dict \u001b[38;5;241m=\u001b[39m \u001b[38;5;28;01mNone\u001b[39;00m) \u001b[38;5;241m-\u001b[39m\u001b[38;5;241m>\u001b[39m Any:\n\u001b[0;32m---> 61\u001b[0m     \u001b[38;5;28;01mreturn\u001b[39;00m \u001b[38;5;28;01mawait\u001b[39;00m \u001b[38;5;28mself\u001b[39m\u001b[38;5;241m.\u001b[39m_connection\u001b[38;5;241m.\u001b[39mwrap_api_call(\n\u001b[1;32m     62\u001b[0m         \u001b[38;5;28;01mlambda\u001b[39;00m: \u001b[38;5;28mself\u001b[39m\u001b[38;5;241m.\u001b[39m_inner_send(method, params, \u001b[38;5;28;01mFalse\u001b[39;00m),\n\u001b[1;32m     63\u001b[0m         \u001b[38;5;28mself\u001b[39m\u001b[38;5;241m.\u001b[39m_is_internal_type,\n\u001b[1;32m     64\u001b[0m     )\n",
      "File \u001b[0;32m~/miniconda3/envs/notte-dev-test/lib/python3.11/site-packages/playwright/_impl/_connection.py:528\u001b[0m, in \u001b[0;36mConnection.wrap_api_call\u001b[0;34m(self, cb, is_internal)\u001b[0m\n\u001b[1;32m    526\u001b[0m     \u001b[38;5;28;01mreturn\u001b[39;00m \u001b[38;5;28;01mawait\u001b[39;00m cb()\n\u001b[1;32m    527\u001b[0m \u001b[38;5;28;01mexcept\u001b[39;00m \u001b[38;5;167;01mException\u001b[39;00m \u001b[38;5;28;01mas\u001b[39;00m error:\n\u001b[0;32m--> 528\u001b[0m     \u001b[38;5;28;01mraise\u001b[39;00m rewrite_error(error, \u001b[38;5;124mf\u001b[39m\u001b[38;5;124m\"\u001b[39m\u001b[38;5;132;01m{\u001b[39;00mparsed_st[\u001b[38;5;124m'\u001b[39m\u001b[38;5;124mapiName\u001b[39m\u001b[38;5;124m'\u001b[39m]\u001b[38;5;132;01m}\u001b[39;00m\u001b[38;5;124m: \u001b[39m\u001b[38;5;132;01m{\u001b[39;00merror\u001b[38;5;132;01m}\u001b[39;00m\u001b[38;5;124m\"\u001b[39m) \u001b[38;5;28;01mfrom\u001b[39;00m\u001b[38;5;250m \u001b[39m\u001b[38;5;28;01mNone\u001b[39;00m\n\u001b[1;32m    529\u001b[0m \u001b[38;5;28;01mfinally\u001b[39;00m:\n\u001b[1;32m    530\u001b[0m     \u001b[38;5;28mself\u001b[39m\u001b[38;5;241m.\u001b[39m_api_zone\u001b[38;5;241m.\u001b[39mset(\u001b[38;5;28;01mNone\u001b[39;00m)\n",
      "\u001b[0;31mError\u001b[0m: CDPSession.send: Protocol error (Accessibility.getBackendNodeIdForAXNode): 'Accessibility.getBackendNodeIdForAXNode' wasn't found"
     ]
    }
   ],
   "source": [
    "from playwright.async_api import async_playwright\n",
    "\n",
    "playwright = await async_playwright().start()\n",
    "# initialize your page first\n",
    "browser = await playwright.chromium.launch()\n",
    "page = await browser.new_page()\n",
    "\n",
    "# Create mapper\n",
    "mapper = AccessibilityMapper(page)\n",
    "\n",
    "# Get accessibility snapshot\n",
    "snapshot = await page.accessibility.snapshot()\n",
    "\n",
    "# Get the full CDP accessibility tree\n",
    "ax_tree = await mapper.get_accessibility_tree()\n",
    "\n",
    "# For any node in the tree, you can get its DOM element\n",
    "for node in ax_tree['nodes']:\n",
    "    element = await mapper.get_dom_element(node['nodeId'])\n",
    "    if element:\n",
    "        # Now you can interact with the element\n",
    "        await element.click()\n",
    "        # Or get its properties\n",
    "        props = await element.get_properties()"
   ]
  },
  {
   "cell_type": "markdown",
   "metadata": {},
   "source": []
  }
 ],
 "metadata": {
  "kernelspec": {
   "display_name": "notte-dev-test",
   "language": "python",
   "name": "python3"
  },
  "language_info": {
   "codemirror_mode": {
    "name": "ipython",
    "version": 3
   },
   "file_extension": ".py",
   "mimetype": "text/x-python",
   "name": "python",
   "nbconvert_exporter": "python",
   "pygments_lexer": "ipython3",
   "version": "3.11.11"
  }
 },
 "nbformat": 4,
 "nbformat_minor": 2
}
