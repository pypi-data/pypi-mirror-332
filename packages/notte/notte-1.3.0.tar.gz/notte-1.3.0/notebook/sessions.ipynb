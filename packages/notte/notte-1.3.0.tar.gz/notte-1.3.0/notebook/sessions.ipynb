{
 "cells": [
  {
   "cell_type": "code",
   "execution_count": 1,
   "metadata": {},
   "outputs": [],
   "source": [
    "%load_ext autoreload\n",
    "%autoreload 2\n"
   ]
  },
  {
   "cell_type": "code",
   "execution_count": null,
   "metadata": {},
   "outputs": [],
   "source": [
    "from uuid import uuid4\n",
    "import os\n",
    "from steel import Steel\n",
    "from steel.types.session import Session as SteelSession\n",
    "\n",
    "from dotenv import load_dotenv\n",
    "\n",
    "steel_base_url = \"http://localhost:3000/\"\n",
    "\n",
    "steel_api_key=\"hello\"\n",
    "\n",
    "load_dotenv()\n",
    "\n",
    "client = Steel(\n",
    "    # This is the default and can be omitted\n",
    "    # steel_api_key=os.environ.get(\"STEEL_API_KEY\"),\n",
    "    steel_api_key=steel_api_key,\n",
    "    base_url=steel_base_url,\n",
    ")\n",
    "\n",
    "# const sessionId = uuidv4(); // '9b1deb4d-3b7d-4bad-9bdd-2b0d7b3dcb6d'\n",
    "\n",
    "# const browser = await chromium.connectOverCDP(\n",
    "#     `wss://connect.steel.dev?apiKey=${process.env.STEEL_API_KEY}&sessionId=${sessionId}`\n",
    "# );\n",
    "\n",
    "# // Get session details\n",
    "# const client = new Steel();\n",
    "# const session = await client.sessions.retrieve(sessionId);\n",
    "# console.log(`View session live at: ${session.sessionViewerUrl}`);\n",
    "n_sessions = 1\n",
    "\n",
    "sessions: list[SteelSession] = []\n",
    "for i in range(n_sessions):\n",
    "    session = client.sessions.create(\n",
    "        #use_proxy=True,\n",
    "        #solve_captcha=True,\n",
    "        timeout=30 * 60 * 1000 # 30 minutes\n",
    "    )\n",
    "    sessions.append(session)\n"
   ]
  },
  {
   "cell_type": "code",
   "execution_count": null,
   "metadata": {},
   "outputs": [],
   "source": [
    "client.sessions.list()"
   ]
  },
  {
   "cell_type": "code",
   "execution_count": null,
   "metadata": {},
   "outputs": [],
   "source": [
    "client.sessions.retrieve(session.id)"
   ]
  },
  {
   "cell_type": "code",
   "execution_count": null,
   "metadata": {},
   "outputs": [],
   "source": [
    "from patchright.async_api import async_playwright\n",
    "from tqdm import tqdm\n",
    "playwright = await async_playwright().start()\n",
    "\n",
    "\n",
    "for session in tqdm(sessions):\n",
    "    browser = await playwright.chromium.connect_over_cdp(\n",
    "        #f'wss://{steel_base_url.replace(\"http://\", \"\").replace(\"https://\", \"\")}?apiKey={steel_api_key}'\n",
    "        #f\"ws://localhost:3000/devtools/browser/{session.id}\"\n",
    "        #f\"ws://localhost:3000\",\n",
    "        #f\"ws://0.0.0.0:3000/\"\n",
    "        #\"f\"ws://0.0.0.0:3000/?apiKey={steel_api_key}&sessionId={session.id}\"\n",
    "        f\"ws://0.0.0.0:3000/devtools/browser/{session.id}\"\n",
    "    )\n",
    "    page = await browser.new_page()\n",
    "\n",
    "\n",
    "\n",
    "    await page.goto(\"https://www.google.com\")\n",
    "    await page.wait_for_load_state(\"networkidle\")\n",
    "    await page.screenshot(path=\"screenshot.png\")\n",
    "    await page.accessibility.snapshot()"
   ]
  },
  {
   "cell_type": "code",
   "execution_count": null,
   "metadata": {},
   "outputs": [],
   "source": [
    "from typing import Any\n",
    "from dotenv import load_dotenv\n",
    "from patchright.async_api import async_playwright\n",
    "from steel import Steel\n",
    "from steel.types.session import Session as SteelSession\n",
    "import os\n",
    "\n",
    "# Load environment variables from .env file\n",
    "load_dotenv()\n",
    "# Connect Playwright to the Steel session\n",
    "playwright = await async_playwright().start()\n",
    "\n",
    "STEEL_API_KEY = os.getenv('STEEL_API_KEY')\n",
    "STEEL_BASE_URL = \"localhost:3000\"\n",
    "\n",
    "\n",
    "\n",
    "# Initialize Steel client with the API key from environment variables\n",
    "client = Steel(steel_api_key=STEEL_API_KEY, base_url=f\"http://{STEEL_BASE_URL}\")\n",
    "\n",
    "\n",
    "print(\"Creating Steel session...\")\n",
    "session = client.sessions.create()\n",
    "\n",
    "print(f\"\"\"Session created successfully with Session ID: {session.id}.\n",
    "You can view the session live at {session.session_viewer_url}\n",
    "\"\"\")\n",
    "\n",
    "\n",
    "async def get_playwright_page(session: SteelSession):\n",
    "    browser: Browser = await playwright.chromium.connect_over_cdp(\n",
    "        f\"ws://{STEEL_BASE_URL}/devtools/browser/{session.id}\"\n",
    "    )\n",
    "\n",
    "    print(\"Connected to browser via Playwright\")\n",
    "\n",
    "    # Create page at existing context to ensure session is recorded\n",
    "    current_context = browser.contexts[0]\n",
    "    if len(current_context.pages) == 0:\n",
    "        page = await current_context.new_page()\n",
    "    else:\n",
    "        page =  current_context.pages[0]\n",
    "\n",
    "    return page\n",
    "\n",
    "\n",
    "released_session = client.sessions.release(session.id)\n",
    "if released_session.success:\n",
    "    print(f\"Session {released_session.id} released successfully\")\n",
    "else:\n",
    "    print(f\"Session {released_session.id} release failed\")\n",
    "\n",
    "page = await get_playwright_page(session)\n",
    "\n",
    "# Navigate to Hacker News and extract the top 5 stories\n",
    "print(\"Navigating to Hacker News...\")\n",
    "await page.goto(\"https://news.ycombinator.com\", wait_until=\"networkidle\")\n"
   ]
  },
  {
   "cell_type": "code",
   "execution_count": null,
   "metadata": {},
   "outputs": [],
   "source": [
    "released_session"
   ]
  },
  {
   "cell_type": "code",
   "execution_count": 14,
   "metadata": {},
   "outputs": [],
   "source": [
    "for context in browser.contexts:\n",
    "    for page in context.pages:\n",
    "        print(page.url)\n"
   ]
  },
  {
   "cell_type": "code",
   "execution_count": null,
   "metadata": {},
   "outputs": [],
   "source": [
    "\n",
    "\n",
    "\n",
    "\n",
    "\n",
    "\n",
    "async def extract_story_details(row: Any) -> dict[str, str]:\n",
    "    title_element = row.locator(\".titleline > a\")\n",
    "    title = await title_element.text_content()\n",
    "    link = await title_element.get_attribute(\"href\")\n",
    "\n",
    "    points_element = row.locator(\"xpath=following-sibling::tr[1]\").locator(\".score\")\n",
    "    points = \"0\"\n",
    "    if await points_element.count() > 0:\n",
    "        points = (await points_element.text_content()).split()[0]\n",
    "\n",
    "    return {\n",
    "        \"title\": title,\n",
    "        \"link\": link,\n",
    "        \"points\": points\n",
    "    }\n",
    "\n",
    "\n",
    "# Find all story rows\n",
    "# story_rows = await page.locator(\"tr.athing\").all()\n",
    "# story_rows = story_rows[:5]  # Get first 5 stories\n",
    "\n",
    "# # Extract the top 5 stories using Playwright's locators\n",
    "# print(\"\\nTop 5 Hacker News Stories:\")\n",
    "# for i, row in enumerate(story_rows, 1):\n",
    "#     story = await extract_story_details(row)\n",
    "#     print(f\"\\n{i}. {story['title']}\")\n",
    "#     print(f\"   Link: {story['link']}\")\n",
    "#     print(f\"   Points: {story['points']}\")\n",
    "\n"
   ]
  },
  {
   "cell_type": "code",
   "execution_count": null,
   "metadata": {},
   "outputs": [],
   "source": [
    "if browser:\n",
    "    await browser.close()\n",
    "    print(\"Browser closed\")\n",
    "\n",
    "if session:\n",
    "    print(\"Releasing session...\")\n",
    "    client.sessions.release(session.id)\n",
    "    print(\"Session released\")\n",
    "\n",
    "    print(\"Done!\")\n"
   ]
  },
  {
   "cell_type": "code",
   "execution_count": null,
   "metadata": {},
   "outputs": [],
   "source": [
    "session = client.sessions.create()\n",
    "client.sessions.release(session.id) \n",
    "_session = client.sessions.retrieve(session.id)"
   ]
  },
  {
   "cell_type": "code",
   "execution_count": null,
   "metadata": {},
   "outputs": [],
   "source": []
  }
 ],
 "metadata": {
  "kernelspec": {
   "display_name": "notte-dev",
   "language": "python",
   "name": "python3"
  },
  "language_info": {
   "codemirror_mode": {
    "name": "ipython",
    "version": 3
   },
   "file_extension": ".py",
   "mimetype": "text/x-python",
   "name": "python",
   "nbconvert_exporter": "python",
   "pygments_lexer": "ipython3",
   "version": "3.11.11"
  }
 },
 "nbformat": 4,
 "nbformat_minor": 2
}
