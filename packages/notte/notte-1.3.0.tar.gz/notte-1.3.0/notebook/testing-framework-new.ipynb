{
 "cells": [
  {
   "cell_type": "code",
   "execution_count": 16,
   "metadata": {},
   "outputs": [
    {
     "name": "stdout",
     "output_type": "stream",
     "text": [
      "The autoreload extension is already loaded. To reload it, use:\n",
      "  %reload_ext autoreload\n"
     ]
    }
   ],
   "source": [
    "%load_ext autoreload\n",
    "%autoreload 2\n",
    "\n",
    "from notte.env import NotteEnv\n",
    "\n",
    "from tracing.snapshot_server import SnapshotServer\n",
    "from tracing.trace_logger import trace_logger, save_snapshot\n"
   ]
  },
  {
   "cell_type": "code",
   "execution_count": null,
   "metadata": {},
   "outputs": [],
   "source": []
  },
  {
   "cell_type": "code",
   "execution_count": 7,
   "metadata": {},
   "outputs": [
    {
     "name": "stdout",
     "output_type": "stream",
     "text": [
      "Saved main page as: test_tracing/step0/index.html\n",
      "Saved resource: test_tracing/step0/index.bin\n",
      "Saved resource: test_tracing/step0/domains_example.bin\n",
      "Saved main page as: test_tracing/step1/index.html\n",
      "Saved resource: test_tracing/step0/_css_2022_iana_website.css\n",
      "Saved resource: test_tracing/step0/_js_jquery.js\n",
      "Saved resource: test_tracing/step0/_img_2022_iana-logo-header.svg\n",
      "Saved resource: test_tracing/step0/_js_iana.js\n",
      "Saved resource: test_tracing/step1/help_example-domains.bin\n",
      "Saved resource: test_tracing/step1/_css_2022_iana_website.css\n",
      "Saved resource: test_tracing/step1/_js_iana.js\n",
      "Saved resource: test_tracing/step1/_js_jquery.js\n",
      "Saved resource: test_tracing/step1/_img_2022_iana-logo-header.svg\n",
      "Saved resource: test_tracing/step1/_img_2022_fonts_NotoSans-Regular.woff\n",
      "Saved resource: test_tracing/step1/_img_2022_fonts_NotoSans-Bold.woff\n",
      "Failed to save resource https://www.iana.org/_img/bookmark_icon.ico: Route.fetch: Target page, context or browser has been closed\n",
      "Call log:\n",
      "  - → GET https://www.iana.org/_img/bookmark_icon.ico\n",
      "  -     - user-agent: Mozilla/5.0 (Macintosh; Intel Mac OS X 10_15_7) AppleWebKit/537.36 (KHTML, like Gecko) Chrome/131.0.0.0 Safari/537.36\n",
      "  -     - accept: image/avif,image/webp,image/apng,image/svg+xml,image/*,*/*;q=0.8\n",
      "  -     - accept-encoding: gzip,deflate,br\n",
      "  -     - referer: https://www.iana.org/help/example-domains\n",
      "  -     - sec-ch-ua: \"Chromium\";v=\"131\", \"Not_A Brand\";v=\"24\"\n",
      "  -     - sec-ch-ua-mobile: ?0\n",
      "  -     - sec-ch-ua-platform: \"macOS\"\n",
      "\n"
     ]
    }
   ],
   "source": [
    "# url = \"https://www.google.com/travel/flights\"\n",
    "url = \"https://example.com\"\n",
    "dir_name = 'test_tracing'\n",
    "\n",
    "example_steps = [\n",
    "    lambda page: page.click(\"text=More information\"),\n",
    "    # lambda page: page.fill(\"#search-box\", \"Playwright testing\"),\n",
    "    # lambda page: page.press(\"#search-box\", \"Enter\"),\n",
    "]\n",
    "\n",
    "google_flight_steps = [\n",
    "    lambda page: page.get_by_role(\"combobox\", name=\"Where from?\").fill(\"London\"),\n",
    "    lambda page: page.get_by_role(\"combobox\", name=\"Where to?\").fill(\"Paris\"),\n",
    "    lambda page: page.get_by_role(\"textbox\", name=\"Departure\").fill(\"2025-01-01\"),\n",
    "    lambda page: page.get_by_role(\"textbox\", name=\"Return\").fill(\"2025-02-01\"),\n",
    "    lambda page: page.keyboard.press(\"Enter\"),\n",
    "    lambda page: page.wait_for_timeout(1000),\n",
    "    lambda page: page.get_by_role(\"button\", name=\"Search\").click(),\n",
    "    lambda page: page.wait_for_timeout(3000)\n",
    "]\n",
    "# Run the async function\n",
    "await trace_logger(url, example_steps, snapshot_dir=dir_name)"
   ]
  },
  {
   "cell_type": "code",
   "execution_count": 15,
   "metadata": {},
   "outputs": [
    {
     "name": "stdout",
     "output_type": "stream",
     "text": [
      "Trace recorded to trace.zip\n"
     ]
    },
    {
     "name": "stderr",
     "output_type": "stream",
     "text": [
      "/var/folders/b8/2jd9x_r53sn9l_wjrtwg_0080000gn/T/ipykernel_34050/2617292242.py:23: RuntimeWarning: coroutine 'Browser.close' was never awaited\n",
      "  browser.close()\n",
      "RuntimeWarning: Enable tracemalloc to get the object allocation traceback\n"
     ]
    }
   ],
   "source": [
    "\n",
    "    \n",
    "\n",
    "\n",
    "\n",
    "\n",
    "from playwright.async_api import async_playwright\n",
    "\n",
    "async def test_trace():\n",
    "    async with async_playwright() as p:\n",
    "        browser = await p.chromium.launch(headless=False)\n",
    "        context = await browser.new_context()\n",
    "\n",
    "        # Start tracing\n",
    "        await context.tracing.start(screenshots=True, snapshots=True)\n",
    "\n",
    "        page = await context.new_page()\n",
    "        url = await server.serve()\n",
    "        await page.goto(url)\n",
    "\n",
    "        await page.wait_for_timeout(10000)\n",
    "\n",
    "        # Perform actions\n",
    "        \n",
    "        # Stop tracing and save the trace file\n",
    "        await context.tracing.stop(path=\"trace.zip\")\n",
    "        print(\"Trace recorded to trace.zip\")\n",
    "\n",
    "        await browser.close()\n",
    "        \n",
    "await test_trace()"
   ]
  },
  {
   "cell_type": "code",
   "execution_count": null,
   "metadata": {},
   "outputs": [],
   "source": [
    "from \n",
    "\n",
    "async def trace_logger(\n",
    "    url: str,\n",
    "    steps: list[Callable[[Page], Awaitable[None]]],\n",
    "    snapshot_dir: str = \"./website_snapshots\",\n",
    "):\n",
    "    snapshot_dir: Path = Path(snapshot_dir)\n",
    "    snapshot_dir.mkdir(parents=True, exist_ok=True)\n",
    "    \n",
    "    async with async_playwright() as p:\n",
    "        browser = await p.chromium.launch(headless=False)  # Set headless=True if you don't want a visible browser\n",
    "        context = await browser.new_context()\n",
    "        page = await context.new_page()\n",
    "\n",
    "        # Directory to store snapshots\n",
    "       \n",
    "\n",
    "        # Navigate to the initial page\n",
    "        _ =await page.goto(url)  # Replace with your target website\n",
    "        await save_snapshot(page, snapshot_dir / \"step0\")\n",
    "\n",
    "        # Example actions (trace steps)\n",
    "        # 1. Click a button (replace with actual selector)\n",
    "        for i, step in enumerate(steps):  \n",
    "            try:\n",
    "                await step(page)\n",
    "                await save_snapshot(page, snapshot_dir / f\"step{i+1}\")\n",
    "            except Exception as e:\n",
    "                print(f\"Step {i+1} failed: {e}\")\n",
    "        # Add more steps as needed\n",
    "        await browser.close()\n",
    "\n"
   ]
  },
  {
   "cell_type": "code",
   "execution_count": 9,
   "metadata": {},
   "outputs": [
    {
     "name": "stdout",
     "output_type": "stream",
     "text": [
      "Serving HTTP on port 8080...\n"
     ]
    }
   ],
   "source": [
    "server = SnapshotServer(dir_name)\n",
    "await server.start()\n"
   ]
  },
  {
   "cell_type": "code",
   "execution_count": null,
   "metadata": {},
   "outputs": [],
   "source": [
    "from dataclasses import dataclass, field\n",
    "from typing import ClassVar\n",
    "from pathlib import Path\n",
    "\n",
    "from notte.browser.snapshot import clean_url\n",
    "\n",
    "@dataclass\n",
    "class TestSnapshotRouter:\n",
    "    BASE_DIR: ClassVar[Path] = Path(__file__).parent / \".snapshots\"\n",
    "    ROUTING_TABLE_PATH: ClassVar[Path] = \"routing_table.json\"\n",
    "    \n",
    "    original_url: str\n",
    "    snapshot_dir: Path\n",
    "    routing_table: dict[str, Path] = field(init=False)\n",
    "    \n",
    "    def __post_init__(self):\n",
    "        if not self.routing_table_path.exists():\n",
    "            self.routing_table = {}\n",
    "            with open(self.routing_table_path, \"w\") as f:\n",
    "                json.dump(self.routing_table, f)\n",
    "        else:\n",
    "            with open(self.routing_table_path, \"r\") as f:\n",
    "                self.routing_table = json.load(f)\n",
    "    \n",
    "    @staticmethod\n",
    "    def from_root_url(url: str) -> \"TestSnapshotRouter\":\n",
    "        return TestSnapshotRouter(\n",
    "            original_url=url,\n",
    "            snapshot_dir=TestSnapshotRouter.url_base_dir(url)\n",
    "        )\n",
    "    \n",
    "    @property\n",
    "    def snapshot_url(self) -> str:\n",
    "        return self.snapshot_dir\n",
    "    \n",
    "    @staticmethod\n",
    "    def url_base_dir(url: str) -> Path:\n",
    "        clean_url = clean_url(url)\n",
    "        # transform to camel case\n",
    "        return self.BASE_DIR / clean_url.replace(\".\", \"_\").replace(\"-\", \"_\")\n",
    "    \n",
    "    def add_routing_entry(self, action_id: str, url: str):\n",
    "        self.routing_table[action_id] = {\n",
    "            \"url\": url,\n",
    "            \"snapshot_dir\": self.snapshot_dir / action_id\n",
    "        }\n",
    "        with open(self.routing_table_path, \"w\") as f:\n",
    "            json.dump(self.routing_table, f)\n",
    "    \n",
    "    @property\n",
    "    def routing_table_path(self) -> Path:\n",
    "        return self.url_base_dir / self.ROUTING_TABLE_PATH\n",
    "    \n",
    "    def step(self, action_id: str) -> \"TestSnapshotRouter\":\n",
    "        if action_id not in self.routing_table:\n",
    "            raise ValueError(f\"Action ID {action_id} not found in routing table\")\n",
    "        snapshot_info = self.routing_table[action_id]\n",
    "        return TestSnapshotRouter(\n",
    "            original_url=snapshot_info[\"url\"],\n",
    "            snapshot_dir=snapshot_info[\"snapshot_dir\"]\n",
    "        )\n",
    "        \n",
    "\n",
    "\n",
    "from notte.browser.driver import BrowserDriver\n",
    "\n",
    "class TracingBrowserDriver(BrowserDriver):\n",
    "    def __init__(self, **browser_kwargs):\n",
    "        super().__init__(**browser_kwargs)\n",
    "        self.server = server\n",
    "\n",
    "\n",
    "\n"
   ]
  },
  {
   "cell_type": "code",
   "execution_count": null,
   "metadata": {},
   "outputs": [],
   "source": [
    "\n",
    "\n",
    "class TestBrowserDriver:\n",
    "    def __init__(self, server: SnapshotServer):\n",
    "        self.server = server\n",
    "\n",
    "    async def run(self):\n",
    "        with NotteEnv(headless=False) as env:"
   ]
  },
  {
   "cell_type": "code",
   "execution_count": null,
   "metadata": {},
   "outputs": [],
   "source": [
    "with NotteEnv(headless=False) as env:\n",
    "    await env.goto(server.get_snapshot_url())\n"
   ]
  }
 ],
 "metadata": {
  "kernelspec": {
   "display_name": "notte-dev",
   "language": "python",
   "name": "python3"
  },
  "language_info": {
   "codemirror_mode": {
    "name": "ipython",
    "version": 3
   },
   "file_extension": ".py",
   "mimetype": "text/x-python",
   "name": "python",
   "nbconvert_exporter": "python",
   "pygments_lexer": "ipython3",
   "version": "3.11.11"
  }
 },
 "nbformat": 4,
 "nbformat_minor": 2
}
