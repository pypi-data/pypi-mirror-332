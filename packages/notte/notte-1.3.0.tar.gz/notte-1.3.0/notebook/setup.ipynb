{
 "cells": [
  {
   "cell_type": "code",
   "execution_count": 1,
   "metadata": {},
   "outputs": [],
   "source": [
    "%load_ext autoreload\n",
    "%autoreload 2\n"
   ]
  },
  {
   "cell_type": "code",
   "execution_count": 22,
   "metadata": {},
   "outputs": [
    {
     "name": "stderr",
     "output_type": "stream",
     "text": [
      "\u001b[32m2024-12-09 15:17:54.914\u001b[0m | \u001b[1mINFO    \u001b[0m | \u001b[36mnotte.common.logging\u001b[0m:\u001b[36mwrapper\u001b[0m:\u001b[36m16\u001b[0m - \u001b[1mFunction observe took 9.3964 seconds\u001b[0m\n",
      "\u001b[32m2024-12-09 15:17:57.153\u001b[0m | \u001b[1mINFO    \u001b[0m | \u001b[36mnotte.pipe.listing\u001b[0m:\u001b[36mforward_incremental\u001b[0m:\u001b[36m45\u001b[0m - \u001b[1m🚀 forward incremental\u001b[0m\n",
      "\u001b[32m2024-12-09 15:17:57.155\u001b[0m | \u001b[1mINFO    \u001b[0m | \u001b[36mnotte.common.logging\u001b[0m:\u001b[36mwrapper\u001b[0m:\u001b[36m16\u001b[0m - \u001b[1mFunction step took 2.2366 seconds\u001b[0m\n",
      "\u001b[32m2024-12-09 15:17:59.369\u001b[0m | \u001b[1mINFO    \u001b[0m | \u001b[36mnotte.pipe.listing\u001b[0m:\u001b[36mforward_incremental\u001b[0m:\u001b[36m45\u001b[0m - \u001b[1m🚀 forward incremental\u001b[0m\n",
      "\u001b[32m2024-12-09 15:17:59.370\u001b[0m | \u001b[1mINFO    \u001b[0m | \u001b[36mnotte.common.logging\u001b[0m:\u001b[36mwrapper\u001b[0m:\u001b[36m16\u001b[0m - \u001b[1mFunction step took 2.2147 seconds\u001b[0m\n"
     ]
    }
   ],
   "source": [
    "from notte.env import NotteEnv\n",
    "model = \"groq/llama-3.3-70b-versatile\"\n",
    "async with NotteEnv(model=model, headless=False, persist=True) as env:\n",
    "  # observe a webpage, and take a random action\n",
    "  obs1 = await env.observe(\"https://www.google.com/travel/flights\")\n",
    "  context1 = env._context\n",
    "  obs2 = await env.step(\"I3\", \"Paris\")\n",
    "  context2 = env._context\n",
    "  obs3 = await env.step(\"I4\", \"Paris\")\n",
    "  context3 = env._context\n",
    "  #obs = await env.execute(\"L13\")\n",
    "  # obs = await env.execute(\"L4\")\n",
    "  # obs = await env.execute(\"I3\", \"Paris\")\n",
    "  # obs = await env.execute(\"I4\", \"Paris\")\n",
    "# await env._browser.page.get_by_role(\"link\", name=\"Flights\").all()"
   ]
  },
  {
   "cell_type": "code",
   "execution_count": 15,
   "metadata": {},
   "outputs": [
    {
     "data": {
      "text/plain": [
       "NotteNode(id='I4', role=<NodeRole.COMBOBOX: 'combobox'>, text='Where to? ', subtree_ids=['I4'], children=[], attributes_pre=NodeAttributesPre(modal=None, required=None, description=None, visible=None, selected=None, checked=None, enabled=None, path='https://www.google.com/travel/flights:WebArea:Google Flights - Find Cheap Flight Options & Track Prices:group::group::search:Flight:group::group::group::combobox:Where to? '), attributes_post=None)"
      ]
     },
     "execution_count": 15,
     "metadata": {},
     "output_type": "execute_result"
    }
   ],
   "source": [
    "context1.node.find(\"I4\")"
   ]
  },
  {
   "cell_type": "code",
   "execution_count": 20,
   "metadata": {},
   "outputs": [
    {
     "data": {
      "text/plain": [
       "ExecutableAction(id='I4', description='', category='input', params=[], status='valid', node=NotteNode(id='I4', role=<NodeRole.COMBOBOX: 'combobox'>, text='Where to? ', subtree_ids=['I4'], children=[], attributes_pre=NodeAttributesPre(modal=None, required=None, description=None, visible=None, selected=None, checked=None, enabled=None, path='https://www.google.com/travel/flights?tfs=CBwQARoOagwIAxIIL20vMDVxdGoaDnIMCAMSCC9tLzA1cXRqQAFIAXABggELCP___________wGYAQE&tfu=KgIIAw:WebArea:Google Flights - Find Cheap Flight Options & Track Prices:group::group::search:Flight:group::group::group::combobox:Where to? '), attributes_post=NotteAttributesPost(selectors=HtmlSelector(playwright_selector='internal:role=combobox[name=\"Where to? \"i] >> nth=0 >> nth=0', css_selector='div#i23 > div:nth-of-type(4) > div > div > div > div > div > input', xpath_selector='//*[@id=\"i23\"]/div[4]/div[1]/div[1]/div[1]/div[1]/div[1]/input[1]'), editable=True, input_type='text', text='')), params_values=[], code=None)"
      ]
     },
     "execution_count": 20,
     "metadata": {},
     "output_type": "execute_result"
    }
   ],
   "source": [
    "from notte.pipe.resolution import ActionNodeResolutionPipe \n",
    "from notte.actions.base import Action\n",
    "await ActionNodeResolutionPipe(env._browser).forward(Action(id=\"I4\", description=\"\", category=\"input\"), [], context2)"
   ]
  },
  {
   "cell_type": "code",
   "execution_count": 5,
   "metadata": {},
   "outputs": [
    {
     "name": "stderr",
     "output_type": "stream",
     "text": [
      "\u001b[32m2024-12-09 15:00:13.355\u001b[0m | \u001b[1mINFO    \u001b[0m | \u001b[36mnotte.pipe.listing\u001b[0m:\u001b[36mforward_incremental\u001b[0m:\u001b[36m45\u001b[0m - \u001b[1m🚀 forward incremental\u001b[0m\n",
      "\u001b[32m2024-12-09 15:00:13.356\u001b[0m | \u001b[1mINFO    \u001b[0m | \u001b[36mnotte.common.logging\u001b[0m:\u001b[36mwrapper\u001b[0m:\u001b[36m16\u001b[0m - \u001b[1mFunction step took 2.2755 seconds\u001b[0m\n"
     ]
    }
   ],
   "source": []
  },
  {
   "cell_type": "code",
   "execution_count": 8,
   "metadata": {},
   "outputs": [
    {
     "data": {
      "text/plain": [
       "NotteNode(id='I4', role=<NodeRole.COMBOBOX: 'combobox'>, text='Where to? ', subtree_ids=['I4'], children=[], attributes_pre=NodeAttributesPre(modal=None, required=None, description=None, visible=None, selected=None, checked=None, enabled=None, path='https://www.google.com/travel/flights?tfs=CBwQARoOagwIAxIIL20vMDVxdGoaDnIMCAMSCC9tLzA1cXRqQAFIAXABggELCP___________wGYAQE&tfu=KgIIAw:WebArea:Google Flights - Find Cheap Flight Options & Track Prices:group::group::search:Flight:group::group::group::combobox:Where to? '), attributes_post=None)"
      ]
     },
     "execution_count": 8,
     "metadata": {},
     "output_type": "execute_result"
    }
   ],
   "source": [
    "\n",
    "env._context.node.find(\"I4\")\n"
   ]
  },
  {
   "cell_type": "code",
   "execution_count": 12,
   "metadata": {},
   "outputs": [
    {
     "ename": "ValueError",
     "evalue": "No nodes left after filtering of exesting actions",
     "output_type": "error",
     "traceback": [
      "\u001b[0;31m---------------------------------------------------------------------------\u001b[0m",
      "\u001b[0;31mValueError\u001b[0m                                Traceback (most recent call last)",
      "Cell \u001b[0;32mIn[12], line 1\u001b[0m\n\u001b[0;32m----> 1\u001b[0m \u001b[43menv\u001b[49m\u001b[38;5;241;43m.\u001b[39;49m\u001b[43m_context\u001b[49m\u001b[38;5;241;43m.\u001b[39;49m\u001b[43msubgraph_without\u001b[49m\u001b[43m(\u001b[49m\u001b[43menv\u001b[49m\u001b[38;5;241;43m.\u001b[39;49m\u001b[43m_action_space\u001b[49m\u001b[38;5;241;43m.\u001b[39;49m\u001b[43mactions\u001b[49m\u001b[43m(\u001b[49m\u001b[43mstatus\u001b[49m\u001b[38;5;241;43m=\u001b[39;49m\u001b[43m[\u001b[49m\u001b[38;5;124;43m\"\u001b[39;49m\u001b[38;5;124;43mvalid\u001b[39;49m\u001b[38;5;124;43m\"\u001b[39;49m\u001b[43m,\u001b[49m\u001b[43m \u001b[49m\u001b[38;5;124;43m\"\u001b[39;49m\u001b[38;5;124;43mfailed\u001b[39;49m\u001b[38;5;124;43m\"\u001b[39;49m\u001b[43m,\u001b[49m\u001b[43m \u001b[49m\u001b[38;5;124;43m\"\u001b[39;49m\u001b[38;5;124;43mexcluded\u001b[39;49m\u001b[38;5;124;43m\"\u001b[39;49m\u001b[43m]\u001b[49m\u001b[43m)\u001b[49m\u001b[43m)\u001b[49m\n",
      "File \u001b[0;32m~/Desktop/projects/notte/notte/browser/context.py:94\u001b[0m, in \u001b[0;36mContext.subgraph_without\u001b[0;34m(self, actions)\u001b[0m\n\u001b[1;32m     92\u001b[0m filtered_graph \u001b[38;5;241m=\u001b[39m \u001b[38;5;28mself\u001b[39m\u001b[38;5;241m.\u001b[39mnode\u001b[38;5;241m.\u001b[39msubtree_filter(only_failed_actions)\n\u001b[1;32m     93\u001b[0m \u001b[38;5;28;01mif\u001b[39;00m filtered_graph \u001b[38;5;129;01mis\u001b[39;00m \u001b[38;5;28;01mNone\u001b[39;00m:\n\u001b[0;32m---> 94\u001b[0m     \u001b[38;5;28;01mraise\u001b[39;00m \u001b[38;5;167;01mValueError\u001b[39;00m(\u001b[38;5;124m\"\u001b[39m\u001b[38;5;124mNo nodes left after filtering of exesting actions\u001b[39m\u001b[38;5;124m\"\u001b[39m)\n\u001b[1;32m     96\u001b[0m \u001b[38;5;28;01mreturn\u001b[39;00m Context(\n\u001b[1;32m     97\u001b[0m     snapshot\u001b[38;5;241m=\u001b[39m\u001b[38;5;28mself\u001b[39m\u001b[38;5;241m.\u001b[39msnapshot,\n\u001b[1;32m     98\u001b[0m     node\u001b[38;5;241m=\u001b[39mfiltered_graph,\n\u001b[1;32m     99\u001b[0m )\n",
      "\u001b[0;31mValueError\u001b[0m: No nodes left after filtering of exesting actions"
     ]
    }
   ],
   "source": [
    "env._context.subgraph_without(env._action_space.actions(status=[\"valid\", \"failed\", \"excluded\"]))\n"
   ]
  },
  {
   "cell_type": "code",
   "execution_count": 3,
   "metadata": {},
   "outputs": [
    {
     "data": {
      "text/plain": [
       "ActionSpace(_actions=[Action(id='L15', description='Opens the Orlando page', category='Navigation', params=[], status='valid'), Action(id='L51', description='Opens the Privacy page', category='Legal & Policy', params=[], status='valid'), Action(id='L3', description='Opens the Explore page', category='Navigation', params=[], status='valid'), Action(id='I2', description='Selects the seating class', category='Search & Input', params=[ActionParameter(name='seatingClass', type='str', default='economy', values=['economy', 'premium economy', 'business', 'first class'])], status='valid'), Action(id='L37', description='Opens the Flights from London to Tokyo page', category='Search & Input', params=[], status='valid'), Action(id='B23', description='Shows answer to frequently asked question', category='Help & Support', params=[], status='valid'), Action(id='B12', description='Selects Sacramento as the origin', category='Search & Input', params=[], status='valid'), Action(id='B11', description='Selects San Jose as the origin', category='Search & Input', params=[], status='valid'), Action(id='L52', description='Opens the Terms page', category='Legal & Policy', params=[], status='valid'), Action(id='L5', description='Opens the Hotels page', category='Navigation', params=[], status='valid'), Action(id='B2', description='Skips to main content', category='Navigation', params=[], status='valid'), Action(id='L8', description='Opens the Washington page', category='Navigation', params=[], status='valid'), Action(id='L25', description='Opens the Miami page', category='Navigation', params=[], status='valid'), Action(id='L2', description='Opens the Travel page', category='Navigation', params=[], status='valid'), Action(id='L54', description='Opens the Feedback page', category='Help & Support', params=[], status='valid'), Action(id='B7', description='Swaps the origin and destination', category='Search & Input', params=[], status='valid'), Action(id='B10', description='Selects Oakland as the origin', category='Search & Input', params=[], status='valid'), Action(id='I1', description='Selects the ticket type', category='Search & Input', params=[ActionParameter(name='ticketType', type='str', default='round-trip', values=['round-trip', 'one-way', 'multi-city'])], status='valid'), Action(id='I5', description='Enters the departure date', category='Search & Input', params=[ActionParameter(name='departureDate', type='date', default=None, values=[])], status='valid'), Action(id='B3', description='Provides accessibility feedback', category='Help & Support', params=[], status='valid'), Action(id='L46', description='Opens the Flights from London to Berlin page', category='Search & Input', params=[], status='valid'), Action(id='L4', description='Opens the Flights page', category='Navigation', params=[], status='valid'), Action(id='B5', description='Opens Google apps', category='Navigation', params=[], status='valid'), Action(id='L14', description='Opens the Denver page', category='Navigation', params=[], status='valid'), Action(id='L17', description='Opens the Tokyo page', category='Navigation', params=[], status='valid'), Action(id='L41', description='Opens the Flights from Paris to Marrakech page', category='Search & Input', params=[], status='valid'), Action(id='L33', description='Opens the Flights from London to Milan page', category='Search & Input', params=[], status='valid'), Action(id='B21', description='Shows answer to frequently asked question', category='Help & Support', params=[], status='valid'), Action(id='L12', description='Opens the Houston page', category='Navigation', params=[], status='valid'), Action(id='L47', description='Opens the Flights from Chicago to Paris page', category='Search & Input', params=[], status='valid'), Action(id='B1', description='Opens the main navigation menu', category='Navigation', params=[], status='valid'), Action(id='L44', description='Opens the Flights from Paris to Bangkok page', category='Search & Input', params=[], status='valid'), Action(id='B29', description='Opens the International sites page', category='Navigation', params=[], status='valid'), Action(id='B6', description='Changes the number of passengers', category='Search & Input', params=[], status='valid'), Action(id='L49', description='Opens the Learn more about currencies page', category='Help & Support', params=[], status='valid'), Action(id='L22', description='Opens the Fort Lauderdale page', category='Navigation', params=[], status='valid'), Action(id='B15', description='Views flights to New York', category='Search & Input', params=[], status='valid'), Action(id='B24', description='Shows answer to frequently asked question', category='Help & Support', params=[], status='valid'), Action(id='B28', description='Changes the currency', category='Settings & Preferences', params=[], status='valid'), Action(id='B18', description='Finds the cheapest days to fly', category='Search & Input', params=[], status='valid'), Action(id='L23', description='Opens the Nashville page', category='Navigation', params=[], status='valid'), Action(id='L21', description='Opens the Dallas page', category='Navigation', params=[], status='valid'), Action(id='B17', description='Views flights to Los Angeles', category='Search & Input', params=[], status='valid'), Action(id='L45', description='Opens the Flights from New York to Orlando page', category='Search & Input', params=[], status='valid'), Action(id='L19', description='Opens the London page', category='Navigation', params=[], status='valid'), Action(id='L48', description='Opens the Flights from Melbourne to London page', category='Search & Input', params=[], status='valid'), Action(id='L34', description='Opens the Flights from Toronto to London page', category='Search & Input', params=[], status='valid'), Action(id='B20', description='Tracks prices for a trip', category='Search & Input', params=[], status='valid'), Action(id='L18', description='Opens the Tampa page', category='Navigation', params=[], status='valid'), Action(id='L16', description='Opens the Singapore page', category='Navigation', params=[], status='valid'), Action(id='B8', description='Explores destinations', category='Discovery & Exploration', params=[], status='valid'), Action(id='L11', description='Opens the Newark page', category='Navigation', params=[], status='valid'), Action(id='L29', description='Opens the Flights from New York to Paris page', category='Search & Input', params=[], status='valid'), Action(id='B9', description='Shows more information on suggested flights', category='Help & Support', params=[], status='valid'), Action(id='B13', description='Explores more destinations from San Francisco', category='Discovery & Exploration', params=[], status='valid'), Action(id='L55', description='Opens the Help Center page', category='Help & Support', params=[], status='valid'), Action(id='L28', description='Opens the Flights from New York to London page', category='Search & Input', params=[], status='valid'), Action(id='B19', description='Views price insights', category='Search & Input', params=[], status='valid'), Action(id='L40', description='Opens the Flights from New York to Los Angeles page', category='Search & Input', params=[], status='valid'), Action(id='L7', description='Opens the Sign in page', category='User Account', params=[], status='valid'), Action(id='L38', description='Opens the Flights from Madrid to Rome page', category='Search & Input', params=[], status='valid'), Action(id='L43', description='Opens the Flights from London to Istanbul page', category='Search & Input', params=[], status='valid'), Action(id='L24', description='Opens the Los Angeles page', category='Navigation', params=[], status='valid'), Action(id='B16', description='Views flights to Tokyo', category='Search & Input', params=[], status='valid'), Action(id='L20', description='Opens the Frankfurt page', category='Navigation', params=[], status='valid'), Action(id='L30', description='Opens the Flights from London to Paris page', category='Search & Input', params=[], status='valid'), Action(id='I4', description='Enters the destination', category='Search & Input', params=[ActionParameter(name='destination', type='str', default=None, values=[])], status='valid'), Action(id='L35', description='Opens the Flights from New York to Milan page', category='Search & Input', params=[], status='valid'), Action(id='B22', description='Shows answer to frequently asked question', category='Help & Support', params=[], status='valid'), Action(id='B30', description='Explores flights', category='Discovery & Exploration', params=[], status='valid'), Action(id='B26', description='Changes the language', category='Settings & Preferences', params=[], status='valid'), Action(id='L39', description='Opens the Flights from London to Delhi page', category='Search & Input', params=[], status='valid'), Action(id='B25', description='Shows answer to frequently asked question', category='Help & Support', params=[], status='valid'), Action(id='L31', description='Opens the Flights from New York to Rome page', category='Search & Input', params=[], status='valid'), Action(id='L27', description='Opens the Austin page', category='Navigation', params=[], status='valid'), Action(id='L9', description='Opens the Chicago page', category='Navigation', params=[], status='valid'), Action(id='I6', description='Enters the return date', category='Search & Input', params=[ActionParameter(name='returnDate', type='date', default=None, values=[])], status='valid'), Action(id='L32', description='Opens the Flights from Montreal to Paris page', category='Search & Input', params=[], status='valid'), Action(id='L42', description='Opens the Flights from Sao Paulo to London page', category='Search & Input', params=[], status='valid'), Action(id='B4', description='Changes the appearance', category='Settings & Preferences', params=[], status='valid'), Action(id='L10', description='Opens the New York page', category='Navigation', params=[], status='valid'), Action(id='L53', description='Opens the Join user studies page', category='Help & Support', params=[], status='valid'), Action(id='L6', description='Opens the Vacation rentals page', category='Navigation', params=[], status='valid'), Action(id='I3', description='Enters the origin', category='Search & Input', params=[ActionParameter(name='origin', type='str', default=None, values=[])], status='valid'), Action(id='B27', description='Changes the location', category='Settings & Preferences', params=[], status='valid'), Action(id='B14', description='Views flights to Vancouver', category='Search & Input', params=[], status='valid'), Action(id='L13', description='Opens the Boston page', category='Navigation', params=[], status='valid'), Action(id='L26', description='Opens the Bangkok page', category='Navigation', params=[], status='valid'), Action(id='L50', description='Opens the About Google Travel page', category='Help & Support', params=[], status='valid'), Action(id='L1', description='Opens the Google homepage', category='Navigation', params=[], status='valid'), Action(id='L36', description='Opens the Flights from London to Dubai page', category='Search & Input', params=[], status='valid')], _embeddings=None)"
      ]
     },
     "execution_count": 3,
     "metadata": {},
     "output_type": "execute_result"
    }
   ],
   "source": [
    "env._action_space"
   ]
  },
  {
   "cell_type": "code",
   "execution_count": null,
   "metadata": {},
   "outputs": [],
   "source": [
    "from notte.env import NotteEnv\n",
    "import litellm\n",
    "\n",
    "goal = \"Find best flights from Boston to Tokyo\"\n",
    "messages = [{\"role\": \"system\", \"content\": goal}]\n",
    "\n",
    "def llm_agent(messages):\n",
    "    response = litellm.completion(\n",
    "        model=\"gpt-4o-mini\",\n",
    "        messages=messages,\n",
    "    )\n",
    "    return response.choices[0].message.content\n",
    "\n",
    "async with NotteEnv(headless=False) as env:\n",
    "  while '<done>' not in messages[-1]['content']:\n",
    "    resp = llm_agent(messages) # query your llm policy.\n",
    "    obs = await env.chat(resp) # query notte with llm response.\n",
    "    messages.append({\"role\": \"assistant\", \"content\": resp})\n",
    "    messages.append({\"role\": \"user\", \"content\": obs})"
   ]
  },
  {
   "cell_type": "code",
   "execution_count": null,
   "metadata": {},
   "outputs": [],
   "source": []
  }
 ],
 "metadata": {
  "kernelspec": {
   "display_name": "notte-dev",
   "language": "python",
   "name": "python3"
  },
  "language_info": {
   "codemirror_mode": {
    "name": "ipython",
    "version": 3
   },
   "file_extension": ".py",
   "mimetype": "text/x-python",
   "name": "python",
   "nbconvert_exporter": "python",
   "pygments_lexer": "ipython3",
   "version": "3.11.11"
  }
 },
 "nbformat": 4,
 "nbformat_minor": 2
}
