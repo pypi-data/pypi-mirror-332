{
 "cells": [
  {
   "cell_type": "markdown",
   "metadata": {},
   "source": [
    "Install bindry"
   ]
  },
  {
   "cell_type": "code",
   "execution_count": null,
   "metadata": {},
   "outputs": [],
   "source": [
    "%pip install bindry"
   ]
  },
  {
   "cell_type": "markdown",
   "metadata": {},
   "source": [
    "In this example, we define a service class DatabaseService. We use the @component decorator to register it as a singleton component. The constructor argument timeout is passed when creating an instance"
   ]
  },
  {
   "cell_type": "code",
   "execution_count": 1,
   "metadata": {},
   "outputs": [
    {
     "name": "stdout",
     "output_type": "stream",
     "text": [
      "30\n"
     ]
    }
   ],
   "source": [
    "from bindry import component, Scope, ApplicationContext\n",
    "\n",
    "\n",
    "@component(Scope.SINGLETON, constructor_args={\"timeout\": 30})\n",
    "class DatabaseService:\n",
    "    def __init__(self, timeout):\n",
    "        self.timeout = timeout\n",
    "\n",
    "\n",
    "# Create an application context with the default profile\n",
    "ctx = ApplicationContext.get_instance()\n",
    "\n",
    "# Request a service instance from the DatabaseService service\n",
    "service = ctx.get_bean(DatabaseService)\n",
    "print(service.timeout)"
   ]
  }
 ],
 "metadata": {
  "kernelspec": {
   "display_name": "Python 3",
   "language": "python",
   "name": "python3"
  },
  "language_info": {
   "codemirror_mode": {
    "name": "ipython",
    "version": 3
   },
   "file_extension": ".py",
   "mimetype": "text/x-python",
   "name": "python",
   "nbconvert_exporter": "python",
   "pygments_lexer": "ipython3",
   "version": "3.12.7"
  }
 },
 "nbformat": 4,
 "nbformat_minor": 2
}
