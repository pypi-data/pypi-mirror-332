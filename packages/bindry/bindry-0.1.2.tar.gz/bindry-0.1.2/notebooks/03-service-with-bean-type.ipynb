{
 "cells": [
  {
   "cell_type": "markdown",
   "metadata": {},
   "source": [
    "Install bindry"
   ]
  },
  {
   "cell_type": "code",
   "execution_count": null,
   "metadata": {},
   "outputs": [],
   "source": [
    "%pip install bindry"
   ]
  },
  {
   "cell_type": "markdown",
   "metadata": {},
   "source": [
    "In this example, we define a service class EmailService that implements the MessageService interface. We use the @component decorator to register it as a singleton component with the bean_type argument set to MessageService. This means that when an instance of EmailService is requested, the dependency injection context will automatically inject an instance of MessageService."
   ]
  },
  {
   "cell_type": "code",
   "execution_count": 4,
   "metadata": {},
   "outputs": [
    {
     "name": "stdout",
     "output_type": "stream",
     "text": [
      "Sending email!\n"
     ]
    }
   ],
   "source": [
    "from bindry import component, Scope, ApplicationContext\n",
    "\n",
    "\n",
    "class MessageService:\n",
    "    def send_message(self):\n",
    "        pass\n",
    "\n",
    "\n",
    "@component(Scope.SINGLETON, bean_type=MessageService)\n",
    "class EmailService(MessageService):\n",
    "    def send_message(self):\n",
    "        print(\"Sending email!\")\n",
    "\n",
    "\n",
    "# Create an application context with the default profile\n",
    "ctx = ApplicationContext.get_instance()\n",
    "\n",
    "# Request a service instance from the MessageService service\n",
    "service = ctx.get_bean(MessageService)\n",
    "service.send_message()"
   ]
  }
 ],
 "metadata": {
  "kernelspec": {
   "display_name": "Python 3",
   "language": "python",
   "name": "python3"
  },
  "language_info": {
   "codemirror_mode": {
    "name": "ipython",
    "version": 3
   },
   "file_extension": ".py",
   "mimetype": "text/x-python",
   "name": "python",
   "nbconvert_exporter": "python",
   "pygments_lexer": "ipython3",
   "version": "3.12.7"
  }
 },
 "nbformat": 4,
 "nbformat_minor": 2
}
