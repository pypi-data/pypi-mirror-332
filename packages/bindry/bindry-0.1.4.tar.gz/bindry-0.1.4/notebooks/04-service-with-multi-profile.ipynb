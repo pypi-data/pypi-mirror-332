{
 "cells": [
  {
   "cell_type": "markdown",
   "metadata": {},
   "source": [
    "Install bindry"
   ]
  },
  {
   "cell_type": "code",
   "execution_count": null,
   "metadata": {},
   "outputs": [],
   "source": [
    "%pip install bindry"
   ]
  },
  {
   "cell_type": "markdown",
   "metadata": {},
   "source": [
    "In this example, we define two service classes Logger and LoggingService. We use the @component decorator to register them as singleton components with different scopes. The LoggingService is registered for both the \"dev\" and \"test\" profiles. When requesting a logger instance from the logging service, it will be injected with an instance of Logger.\n",
    "\n",
    "These examples demonstrate how to use the @component decorator to register service classes in a dependency injection framework."
   ]
  },
  {
   "cell_type": "code",
   "execution_count": 6,
   "metadata": {},
   "outputs": [
    {
     "name": "stdout",
     "output_type": "stream",
     "text": [
      "Logger: Hello bindry!\n"
     ]
    }
   ],
   "source": [
    "from bindry import component, Scope, ApplicationContext\n",
    "\n",
    "\n",
    "@component(Scope.SINGLETON)\n",
    "class Logger:\n",
    "    def log(self, message):\n",
    "        print(f\"Logger: {message}\")\n",
    "\n",
    "\n",
    "@component(profile=[\"dev\", \"prod\"], scope=Scope.SINGLETON)\n",
    "class LoggingService:\n",
    "    def __init__(self, logger: Logger):\n",
    "        self.logger = logger\n",
    "\n",
    "    def log(self, message: str):\n",
    "        self.logger.log(message)\n",
    "\n",
    "\n",
    "# Create an application context with the default profile\n",
    "ctx = ApplicationContext.get_instance()\n",
    "\n",
    "# Register the logging service for the dev and prod profiles\n",
    "ctx.set_active_profiles([\"dev\", \"prod\"])\n",
    "\n",
    "# Request a service instance from the LoggingService service\n",
    "service = ctx.get_bean(LoggingService)\n",
    "service.log(\"Hello bindry!\")"
   ]
  }
 ],
 "metadata": {
  "kernelspec": {
   "display_name": "Python 3",
   "language": "python",
   "name": "python3"
  },
  "language_info": {
   "codemirror_mode": {
    "name": "ipython",
    "version": 3
   },
   "file_extension": ".py",
   "mimetype": "text/x-python",
   "name": "python",
   "nbconvert_exporter": "python",
   "pygments_lexer": "ipython3",
   "version": "3.12.7"
  }
 },
 "nbformat": 4,
 "nbformat_minor": 2
}
