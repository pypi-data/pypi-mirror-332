{
 "cells": [
  {
   "cell_type": "markdown",
   "metadata": {},
   "source": [
    "Install bindry"
   ]
  },
  {
   "cell_type": "code",
   "execution_count": null,
   "metadata": {},
   "outputs": [],
   "source": [
    "%pip install bindry"
   ]
  },
  {
   "cell_type": "markdown",
   "metadata": {},
   "source": [
    "In this example, we define a simple service class SimpleService. We use the @component decorator to register it as a singleton component. The greet method will be called when an instance of SimpleService is requested."
   ]
  },
  {
   "cell_type": "code",
   "execution_count": null,
   "metadata": {},
   "outputs": [
    {
     "name": "stdout",
     "output_type": "stream",
     "text": [
      "Hello bindry!\n"
     ]
    }
   ],
   "source": [
    "from bindry import component, Scope, ApplicationContext\n",
    "\n",
    "\n",
    "@component(Scope.SINGLETON)\n",
    "class SimpleService:\n",
    "    def greet(self):\n",
    "        print(\"Hello bindry!\")\n",
    "\n",
    "\n",
    "# Create an application context with the default profile\n",
    "ctx = ApplicationContext.get_instance()\n",
    "\n",
    "# Request a service instance from the SimpleService service\n",
    "service = ctx.get_bean(SimpleService)\n",
    "service.greet()"
   ]
  }
 ],
 "metadata": {
  "kernelspec": {
   "display_name": "Python 3",
   "language": "python",
   "name": "python3"
  },
  "language_info": {
   "codemirror_mode": {
    "name": "ipython",
    "version": 3
   },
   "file_extension": ".py",
   "mimetype": "text/x-python",
   "name": "python",
   "nbconvert_exporter": "python",
   "pygments_lexer": "ipython3",
   "version": "3.12.7"
  }
 },
 "nbformat": 4,
 "nbformat_minor": 2
}
