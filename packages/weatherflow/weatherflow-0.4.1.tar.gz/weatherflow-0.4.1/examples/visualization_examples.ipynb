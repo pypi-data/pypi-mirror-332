{
 "cells": [
  {
   "cell_type": "markdown",
   "metadata": {},
   "source": [
    "# WeatherFlow Visualization Examples\n",
    "This notebook demonstrates how to use the visualization tools in the WeatherFlow library."
   ]
  },
  {
   "cell_type": "code",
   "execution_count": null,
   "metadata": {},
   "source": [
    "import numpy as np\n",
    "from weatherflow.utils import WeatherVisualizer\n",
    "\n",
    "# Create sample data\n",
    "grid_size = (32, 64)  # lat, lon\n",
    "lat = np.linspace(-90, 90, grid_size[0])\n",
    "lon = np.linspace(-180, 180, grid_size[1])\n",
    "\n",
    "# Create sample weather states\n",
    "true_state = {\n",
    "    'temperature': 280 + 20 * np.sin(np.pi * lat[:, None] / 180),\n",
    "    'pressure': 1013 + 10 * np.cos(np.pi * lon / 180),\n",
    "    'wind_u': np.random.randn(*grid_size),\n",
    "    'wind_v': np.random.randn(*grid_size)\n",
    "}\n",
    "\n",
    "# Create a slightly different predicted state\n",
    "pred_state = {\n",
    "    k: v + np.random.randn(*v.shape) for k, v in true_state.items()\n",
    "}"
   ]
  },
  {
   "cell_type": "markdown",
   "metadata": {},
   "source": [
    "## 1. Prediction Comparison\n",
    "Compare true and predicted states side by side"
   ]
  },
  {
   "cell_type": "code",
   "execution_count": null,
   "metadata": {},
   "source": [
    "vis = WeatherVisualizer()\n",
    "vis.plot_prediction_comparison(true_state, pred_state)"
   ]
  },
  {
   "cell_type": "markdown",
   "metadata": {},
   "source": [
    "## 2. Error Distribution\n",
    "Analyze the distribution of prediction errors"
   ]
  },
  {
   "cell_type": "code",
   "execution_count": null,
   "metadata": {},
   "source": [
    "vis.plot_error_distribution(true_state, pred_state)"
   ]
  },
  {
   "cell_type": "markdown",
   "metadata": {},
   "source": [
    "## 3. Global Forecast Visualization\n",
    "Plot forecasts on a global map"
   ]
  },
  {
   "cell_type": "code",
   "execution_count": null,
   "metadata": {},
   "source": [
    "vis.plot_global_forecast(pred_state)"
   ]
  },
  {
   "cell_type": "markdown",
   "metadata": {},
   "source": [
    "## 4. Time Series Analysis\n",
    "Plot prediction evolution at a specific location"
   ]
  },
  {
   "cell_type": "code",
   "execution_count": null,
   "metadata": {},
   "source": [
    "# Create a sequence of predictions\n",
    "times = np.arange(0, 24, 6)  # 24 hours, 6-hour steps\n",
    "predictions = [\n",
    "    {k: v + t/24 * np.random.randn(*v.shape) \n",
    "     for k, v in true_state.items()}\n",
    "    for t in times\n",
    "]\n",
    "\n",
    "vis.plot_time_series(predictions, times, 'temperature', lat_idx=16, lon_idx=32)"
   ]
  },
  {
   "cell_type": "markdown",
   "metadata": {},
   "source": [
    "## 5. Animation\n",
    "Create an animation of the prediction sequence"
   ]
  },
  {
   "cell_type": "code",
   "execution_count": null,
   "metadata": {},
   "source": [
    "anim = vis.create_animation(predictions, 'temperature')\n",
    "anim"
   ]
  }
 ],
 "metadata": {
  "kernelspec": {
   "display_name": "Python 3",
   "language": "python",
   "name": "python3"
  }
 },
 "nbformat": 4,
 "nbformat_minor": 4
}