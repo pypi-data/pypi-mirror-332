{
 "cells": [
  {
   "cell_type": "markdown",
   "id": "f1f294058b0ba776",
   "metadata": {
    "collapsed": false
   },
   "source": [
    "# 1. Get data from sheets\n",
    "\n",
    "- examples: https://docs.google.com/spreadsheets/d/1Qz-DNNlg6lo3q3AZ8JXyZ4Uxto0STFeJADoBaunigo0/edit?pli=1#gid=610649912\n",
    "- sheet id would be: '1Qz-DNNlg6lo3q3AZ8JXyZ4Uxto0STFeJADoBaunigo0'"
   ]
  },
  {
   "cell_type": "code",
   "execution_count": 1,
   "id": "initial_id",
   "metadata": {
    "ExecuteTime": {
     "end_time": "2023-09-13T10:50:22.412671300Z",
     "start_time": "2023-09-13T10:50:21.204514700Z"
    },
    "collapsed": true
   },
   "source": [
    "from core_pro import Sheet\n",
    "\n",
    "sheet_id = '1Qz-DNNlg6lo3q3AZ8JXyZ4Uxto0STFeJADoBaunigo0'\n",
    "sheet_name = 'report_prm'\n",
    "df = Sheet(sheet_id).google_sheet_into_df(sheet_name, 'A:C')\n",
    "df.head()"
   ],
   "outputs": []
  },
  {
   "cell_type": "markdown",
   "id": "43a30e72",
   "metadata": {},
   "source": [
    "# 2. Upload dataframe to google sheet"
   ]
  },
  {
   "cell_type": "code",
   "execution_count": null,
   "id": "4910cae1189ab877",
   "metadata": {
    "collapsed": false
   },
   "source": [
    "from core_pro.ultilities import update_df\n",
    "\n",
    "update_df(df, 'sheet_name', sheet_id, start='A1')"
   ],
   "outputs": []
  }
 ],
 "metadata": {
  "kernelspec": {
   "display_name": "Python 3",
   "language": "python",
   "name": "python3"
  },
  "language_info": {
   "codemirror_mode": {
    "name": "ipython",
    "version": 3
   },
   "file_extension": ".py",
   "mimetype": "text/x-python",
   "name": "python",
   "nbconvert_exporter": "python",
   "pygments_lexer": "ipython3",
   "version": "3.11.5"
  }
 },
 "nbformat": 4,
 "nbformat_minor": 5
}
