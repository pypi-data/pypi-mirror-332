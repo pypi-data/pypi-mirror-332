{
 "cells": [
  {
   "cell_type": "code",
   "execution_count": 1,
   "metadata": {},
   "outputs": [],
   "source": [
    "import pandas as pd\n",
    "import numpy as np\n",
    "from datetime import  timedelta\n",
    "from synthpop import MissingDataHandler"
   ]
  },
  {
   "cell_type": "code",
   "execution_count": null,
   "metadata": {},
   "outputs": [],
   "source": [
    "dates = pd.date_range(\"2023-01-01\", periods=50, freq=\"D\")\n",
    "bool_values = np.random.choice([True, False], size=50)\n",
    "timedeltas = timedeltas = [timedelta(days=int(i)) for i in np.random.randint(1, 100, 50)]\n",
    "df_custom = pd.DataFrame({\n",
    "    \"numeric_col1\": np.random.normal(50, 10, 50),\n",
    "    \"numeric_col2\": np.random.randint(0, 100, 50),\n",
    "    \"categorical_col\": np.random.choice([\"Red\", \"Green\", \"Blue\"], size=50),\n",
    "    \"boolean_col\": bool_values,\n",
    "    \"datetime_col\": dates,\n",
    "    \"timedelta_col\": timedeltas,\n",
    "    \"float_col\": np.random.uniform(0.0, 1.0, 50)\n",
    "})\n",
    "\n",
    "\n",
    "df = df_custom.copy()\n",
    "df.head()\n"
   ]
  },
  {
   "cell_type": "code",
   "execution_count": null,
   "metadata": {},
   "outputs": [],
   "source": [
    "np.random.seed(42)  # For reproducibility\n",
    "\n",
    "def introduce_missingness(dataframe, missing_frac=0.1):\n",
    "    \"\"\"Randomly set a fraction of each column's values to NaN.\"\"\"\n",
    "    df_with_nans = dataframe.copy()\n",
    "    rows = len(df_with_nans)\n",
    "    for col in df_with_nans.columns:\n",
    "        n_missing = int(rows * missing_frac)\n",
    "        missing_indices = np.random.choice(df_with_nans.index, n_missing, replace=False)\n",
    "        df_with_nans.loc[missing_indices, col] = np.nan\n",
    "    return df_with_nans\n",
    "\n",
    "df_missing = introduce_missingness(df, missing_frac=0.2)  # 20% missingness\n",
    "df_missing.head(10)"
   ]
  },
  {
   "cell_type": "code",
   "execution_count": null,
   "metadata": {},
   "outputs": [],
   "source": [
    "md_handler = MissingDataHandler()\n",
    "\n",
    "# Check the data types\n",
    "column_dtypes = md_handler.get_column_dtypes(df_missing)\n",
    "print(\"Column Data Types:\", column_dtypes)\n",
    "\n",
    "# Detect missingness\n",
    "missingness_dict = md_handler.detect_missingness(df_missing)\n",
    "print(\"Detected Missingness Type:\", missingness_dict)"
   ]
  },
  {
   "cell_type": "code",
   "execution_count": null,
   "metadata": {},
   "outputs": [],
   "source": [
    "df_imputed = md_handler.apply_imputation(df_missing, missingness_dict)\n",
    "\n",
    "print(\"Before Imputation:\\n\", df_missing.head(10))\n"
   ]
  },
  {
   "cell_type": "code",
   "execution_count": null,
   "metadata": {},
   "outputs": [],
   "source": [
    "print(\"\\nAfter Imputation:\\n\", df_imputed.head(10))"
   ]
  },
  {
   "cell_type": "code",
   "execution_count": null,
   "metadata": {},
   "outputs": [],
   "source": []
  }
 ],
 "metadata": {
  "kernelspec": {
   "display_name": "AAdev",
   "language": "python",
   "name": "python3"
  },
  "language_info": {
   "codemirror_mode": {
    "name": "ipython",
    "version": 3
   },
   "file_extension": ".py",
   "mimetype": "text/x-python",
   "name": "python",
   "nbconvert_exporter": "python",
   "pygments_lexer": "ipython3",
   "version": "3.12.4"
  }
 },
 "nbformat": 4,
 "nbformat_minor": 2
}
