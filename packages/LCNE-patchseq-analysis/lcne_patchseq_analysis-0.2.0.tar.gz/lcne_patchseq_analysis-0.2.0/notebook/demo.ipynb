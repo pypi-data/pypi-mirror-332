{
 "cells": [
  {
   "cell_type": "code",
   "execution_count": 4,
   "metadata": {},
   "outputs": [],
   "source": [
    "%load_ext autoreload\n",
    "%autoreload 2"
   ]
  },
  {
   "cell_type": "code",
   "execution_count": 62,
   "metadata": {},
   "outputs": [],
   "source": [
    "from LCNE_patchseq_analysis.data_util.metadata import read_brian_spreadsheet, cross_check_metadata"
   ]
  },
  {
   "cell_type": "code",
   "execution_count": 63,
   "metadata": {},
   "outputs": [],
   "source": [
    "dfs = read_brian_spreadsheet(add_lims=True)\n",
    "df = dfs[\"df_all\"]"
   ]
  },
  {
   "cell_type": "markdown",
   "metadata": {},
   "source": [
    "##  Cross tab sanity check"
   ]
  },
  {
   "cell_type": "markdown",
   "metadata": {},
   "source": [
    "Check overlapped columns across tabs"
   ]
  },
  {
   "cell_type": "code",
   "execution_count": 64,
   "metadata": {},
   "outputs": [
    {
     "name": "stdout",
     "output_type": "stream",
     "text": [
      "Found 9 inconsistencies between tab_xyz and master tables:\n",
      "          Date                       jem-id_cell_specimen  x_tab_master  \\\n",
      "165 2023-09-01  Dbh-Cre_KH212;RCL-H2B-GFP-692026.10.10.02  10534.982420   \n",
      "166 2023-08-25  Dbh-Cre_KH212;RCL-H2B-GFP-692022.09.06.01           NaN   \n",
      "167 2023-08-20  Dbh-Cre_KH212;RCL-H2B-GFP-692023.08.06.01  10541.875980   \n",
      "168 2023-08-20  Dbh-Cre_KH212;RCL-H2B-GFP-692023.08.06.02  10702.283200   \n",
      "170 2023-06-02  Dbh-Cre_KH212;RCL-H2B-GFP-676766.10.06.03  10521.757810   \n",
      "202 2023-03-15                    C57BL6J-665266.11.06.03  10451.809570   \n",
      "217 2023-01-20      Ndnf-IRES2-dgCre;Ai14-659663.11.06.03  10391.497070   \n",
      "219 2023-01-20      Ndnf-IRES2-dgCre;Ai14-659663.11.06.04   9531.198242   \n",
      "220 2023-01-20      Ndnf-IRES2-dgCre;Ai14-659663.11.06.01           NaN   \n",
      "\n",
      "     y_tab_master  z_tab_master Annotated structure_tab_master  \\\n",
      "165   4183.531250        4984.0                            PAG   \n",
      "166           NaN           NaN                           SCiw   \n",
      "167   4110.681641        5034.0                             PB   \n",
      "168   3840.954834        4727.0                             LC   \n",
      "170   4256.657715        4889.0                            LDT   \n",
      "202   4402.110352        4889.0                            LDT   \n",
      "217   4161.165039        4889.0                            PCG   \n",
      "219   2449.594727        4265.0                            PCG   \n",
      "220           NaN           NaN                            LDT   \n",
      "\n",
      "    notes_tab_master     x_tab_xyz    y_tab_xyz  z_tab_xyz  \\\n",
      "165              NaN  10151.019530  3701.974609     4824.0   \n",
      "166              NaN   9531.198242  2449.594727     4265.0   \n",
      "167              NaN  10702.283200  3840.954834     4727.0   \n",
      "168              NaN  10761.001950  4288.832031     4727.0   \n",
      "170              NaN  10541.875980  4110.681641     5034.0   \n",
      "202              NaN  10534.982420  4183.531250     4984.0   \n",
      "217              NaN  10521.757810  4256.657715     4889.0   \n",
      "219              NaN  10451.809570  4402.110352     4889.0   \n",
      "220              NaN  10391.497070  4161.165039     4889.0   \n",
      "\n",
      "    Annotated structure_tab_xyz notes_tab_xyz  \n",
      "165                         PAG           NaN  \n",
      "166                        SCiw           NaN  \n",
      "167                          PB           NaN  \n",
      "168                          LC           NaN  \n",
      "170                         LDT           NaN  \n",
      "202                         LDT           NaN  \n",
      "217                         PCG           NaN  \n",
      "219                         PCG           NaN  \n",
      "220                         LDT           NaN  \n",
      "\n",
      "\n",
      "Found 103 inconsistencies between tab_ephys_fx and master tables:\n",
      "          Date                             jem-id_cell_specimen  \\\n",
      "0   2025-02-06                          C57BL6J-785653.03.02.02   \n",
      "1   2025-02-06                          C57BL6J-785653.04.02.02   \n",
      "2   2025-02-06                          C57BL6J-785653.03.02.01   \n",
      "3   2025-02-06                          C57BL6J-785653.04.02.01   \n",
      "4   2025-02-05                          C57BL6J-785652.03.02.02   \n",
      "..         ...                                              ...   \n",
      "187 2023-04-19            Slc17a6-IRES-Cre;Ai14-670829.11.06.02   \n",
      "243 2022-11-17            Slc17a6-IRES-Cre;Ai14-651168.10.06.03   \n",
      "251 2022-11-15  Dbh-Cre_KH212;RCL-Sun1sfGFP-neo-650884.09.06.05   \n",
      "257 2022-11-02              Rbp4-Cre_KL100;Ai14-650443.10.06.02   \n",
      "258 2022-10-27                          C57BL6J-647687.09.06.01   \n",
      "\n",
      "     failed_electrode_0_tab_master  failed_no_seal_tab_master  \\\n",
      "0                              NaN                        NaN   \n",
      "1                              NaN                        NaN   \n",
      "2                              NaN                        NaN   \n",
      "3                              NaN                        NaN   \n",
      "4                              NaN                        NaN   \n",
      "..                             ...                        ...   \n",
      "187                            0.0                        1.0   \n",
      "243                            0.0                        1.0   \n",
      "251                            0.0                        1.0   \n",
      "257                            0.0                        1.0   \n",
      "258                            0.0                        1.0   \n",
      "\n",
      "     failed_bad_rs_tab_master  failed_electrode_0_tab_ephys_fx  \\\n",
      "0                         NaN                              0.0   \n",
      "1                         NaN                              0.0   \n",
      "2                         NaN                              0.0   \n",
      "3                         NaN                              0.0   \n",
      "4                         NaN                              0.0   \n",
      "..                        ...                              ...   \n",
      "187                       0.0                              0.0   \n",
      "243                       0.0                              0.0   \n",
      "251                       0.0                              0.0   \n",
      "257                       0.0                              0.0   \n",
      "258                       0.0                              0.0   \n",
      "\n",
      "     failed_no_seal_tab_ephys_fx  failed_bad_rs_tab_ephys_fx  \n",
      "0                            0.0                         0.0  \n",
      "1                            0.0                         0.0  \n",
      "2                            0.0                         0.0  \n",
      "3                            0.0                         0.0  \n",
      "4                            0.0                         0.0  \n",
      "..                           ...                         ...  \n",
      "187                          0.0                         0.0  \n",
      "243                          0.0                         0.0  \n",
      "251                          0.0                         0.0  \n",
      "257                          0.0                         0.0  \n",
      "258                          0.0                         0.0  \n",
      "\n",
      "[103 rows x 8 columns]\n",
      "\n",
      "\n",
      "Found 15 inconsistencies between lims and master tables:\n",
      "         Date             jem-id_cell_specimen  ephys_roi_id_tab_master  \\\n",
      "0  2025-02-06          C57BL6J-785653.03.02.02               1418804349   \n",
      "1  2025-02-06          C57BL6J-785653.04.02.02               1418799012   \n",
      "2  2025-02-06          C57BL6J-785653.03.02.01               1418797120   \n",
      "3  2025-02-06          C57BL6J-785653.04.02.01               1418784590   \n",
      "4  2025-02-05          C57BL6J-785652.03.02.02               1418553949   \n",
      "5  2025-02-05          C57BL6J-785652.03.02.01               1418549638   \n",
      "6  2025-02-05          C57BL6J-785652.03.01.01               1418547172   \n",
      "7  2025-02-05          C57BL6J-785652.04.02.01               1418555572   \n",
      "8  2025-02-05          C57BL6J-785652.04.02.02               1418561975   \n",
      "9  2025-01-30  Dbh-Cre-KI;Ai65-780952.04.02.01               1417392272   \n",
      "10 2025-01-30  Dbh-Cre-KI;Ai65-780952.03.01.01               1417382638   \n",
      "11 2025-01-30  Dbh-Cre-KI;Ai65-780952.04.01.02               1417380803   \n",
      "12 2025-01-30  Dbh-Cre-KI;Ai65-780952.03.02.01               1417375160   \n",
      "13 2025-01-30  Dbh-Cre-KI;Ai65-780952.04.01.01               1417373093   \n",
      "14 2025-01-29  Dbh-Cre-KI;Ai65-780955.03.01.01               1417138763   \n",
      "\n",
      "   ephys_qc_tab_master storage_directory_tab_master  ephys_roi_id_lims  \\\n",
      "0          auto_passed                          NaN       1.418804e+09   \n",
      "1          auto_passed                          NaN       1.418799e+09   \n",
      "2          auto_passed                          NaN       1.418797e+09   \n",
      "3          auto_passed                          NaN       1.418785e+09   \n",
      "4          auto_passed                          NaN       1.418554e+09   \n",
      "5          auto_passed                          NaN       1.418550e+09   \n",
      "6          auto_passed                          NaN       1.418547e+09   \n",
      "7          auto_passed                          NaN       1.418556e+09   \n",
      "8          auto_passed                          NaN       1.418562e+09   \n",
      "9          auto_passed                          NaN       1.417392e+09   \n",
      "10         auto_failed                          NaN       1.417383e+09   \n",
      "11         auto_passed                          NaN       1.417381e+09   \n",
      "12         auto_passed                          NaN       1.417375e+09   \n",
      "13         auto_passed                          NaN       1.417373e+09   \n",
      "14         auto_passed                          NaN       1.417139e+09   \n",
      "\n",
      "   ephys_qc_lims                             storage_directory_lims  \n",
      "0    auto_passed  /allen/programs/celltypes/production/mousecell...  \n",
      "1    auto_passed  /allen/programs/celltypes/production/mousecell...  \n",
      "2    auto_passed  /allen/programs/celltypes/production/mousecell...  \n",
      "3    auto_passed  /allen/programs/celltypes/production/mousecell...  \n",
      "4    auto_passed  /allen/programs/celltypes/production/mousecell...  \n",
      "5    auto_passed  /allen/programs/celltypes/production/mousecell...  \n",
      "6    auto_passed  /allen/programs/celltypes/production/mousecell...  \n",
      "7    auto_passed  /allen/programs/celltypes/production/mousecell...  \n",
      "8    auto_passed  /allen/programs/celltypes/production/mousecell...  \n",
      "9    auto_passed  /allen/programs/celltypes/production/mousecell...  \n",
      "10   auto_failed  /allen/programs/celltypes/production/mousecell...  \n",
      "11   auto_passed  /allen/programs/celltypes/production/mousecell...  \n",
      "12   auto_passed  /allen/programs/celltypes/production/mousecell...  \n",
      "13   auto_passed  /allen/programs/celltypes/production/mousecell...  \n",
      "14   auto_passed  /allen/programs/celltypes/production/mousecell...  \n",
      "\n",
      "\n"
     ]
    }
   ],
   "source": [
    "dfs = read_brian_spreadsheet()\n",
    "for source in [\"tab_xyz\", \"tab_ephys_fx\", \"lims\"]:\n",
    "    df_inconsistencies = cross_check_metadata(dfs[\"df_all\"], source)\n",
    "    \n",
    "    if len(df_inconsistencies) == 0:\n",
    "        print(\"All good!\")\n",
    "        continue\n",
    "    \n",
    "    print(f\"Found {len(df_inconsistencies)} inconsistencies between {source} and master tables:\")\n",
    "    print(df_inconsistencies)\n",
    "    print(\"\\n\")"
   ]
  },
  {
   "cell_type": "markdown",
   "metadata": {},
   "source": [
    "### ❌ Oh no! These inconsistencies must be caused by manually copying and pasting across the tabs!!!"
   ]
  },
  {
   "cell_type": "markdown",
   "metadata": {},
   "source": [
    "## Quick overview using pygwalker"
   ]
  },
  {
   "cell_type": "code",
   "execution_count": null,
   "metadata": {},
   "outputs": [
    {
     "name": "stdout",
     "output_type": "stream",
     "text": [
      "\u001b[33mWARNING: Running pip as the 'root' user can result in broken permissions and conflicting behaviour with the system package manager. It is recommended to use a virtual environment instead: https://pip.pypa.io/warnings/venv\u001b[0m\n"
     ]
    }
   ],
   "source": [
    "!pip install pygwalker --quiet"
   ]
  },
  {
   "cell_type": "code",
   "execution_count": null,
   "metadata": {},
   "outputs": [],
   "source": [
    "import pygwalker as pyg\n",
    "walker = pyg.walk(df)\n",
    "walker"
   ]
  }
 ],
 "metadata": {
  "kernelspec": {
   "display_name": "patchseq_pipeline",
   "language": "python",
   "name": "python3"
  },
  "language_info": {
   "codemirror_mode": {
    "name": "ipython",
    "version": 3
   },
   "file_extension": ".py",
   "mimetype": "text/x-python",
   "name": "python",
   "nbconvert_exporter": "python",
   "pygments_lexer": "ipython3",
   "version": "3.9.21"
  }
 },
 "nbformat": 4,
 "nbformat_minor": 2
}
