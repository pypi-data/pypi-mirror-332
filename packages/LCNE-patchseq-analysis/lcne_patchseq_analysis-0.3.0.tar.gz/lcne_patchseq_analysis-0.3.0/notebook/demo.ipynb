{
 "cells": [
  {
   "cell_type": "code",
   "execution_count": 11,
   "metadata": {},
   "outputs": [
    {
     "name": "stdout",
     "output_type": "stream",
     "text": [
      "The autoreload extension is already loaded. To reload it, use:\n",
      "  %reload_ext autoreload\n"
     ]
    }
   ],
   "source": [
    "%load_ext autoreload\n",
    "%autoreload 2\n",
    "import logging\n",
    "logging.basicConfig(level=logging.INFO, format='%(levelname)s: %(message)s')"
   ]
  },
  {
   "cell_type": "code",
   "execution_count": 12,
   "metadata": {},
   "outputs": [],
   "source": [
    "from LCNE_patchseq_analysis.data_util.metadata import read_brian_spreadsheet, cross_check_metadata"
   ]
  },
  {
   "cell_type": "markdown",
   "metadata": {},
   "source": [
    "##  Load patchseq metadata and perform cross check"
   ]
  },
  {
   "cell_type": "code",
   "execution_count": 18,
   "metadata": {},
   "outputs": [
    {
     "name": "stderr",
     "output_type": "stream",
     "text": [
      "INFO: Reading metadata from C:\\Users\\han.hou\\Downloads\\IVSCC_LC_summary.xlsx...\n",
      "INFO: Querying and adding LIMS data...\n",
      "INFO: Merged LIMS to spreadsheet, total 390 rows: 146 in both, 125 in spreadsheet only, 119 in LIMS only.\n",
      "\n",
      "INFO: \n",
      "INFO: --------------------------------------------------\n",
      "INFO: Cross-checking metadata between tab_xyz and master tables...\n",
      "INFO: Source columns: ['x_tab_xyz', 'y_tab_xyz', 'z_tab_xyz', 'Annotated structure_tab_xyz', 'notes_tab_xyz']\n",
      "INFO: Master columns: ['x_tab_master', 'y_tab_master', 'z_tab_master', 'Annotated structure_tab_master', 'notes_tab_master']\n",
      "WARNING: Found 7 inconsistencies between x_tab_xyz and x_tab_master:\n",
      "WARNING:       Date                      jem-id_cell_specimen  x_tab_master   x_tab_xyz\n",
      "2023-09-01 Dbh-Cre_KH212;RCL-H2B-GFP-692026.10.10.02  10534.982420 10151.01953\n",
      "2023-08-20 Dbh-Cre_KH212;RCL-H2B-GFP-692023.08.06.01  10541.875980 10702.28320\n",
      "2023-08-20 Dbh-Cre_KH212;RCL-H2B-GFP-692023.08.06.02  10702.283200 10761.00195\n",
      "2023-06-02 Dbh-Cre_KH212;RCL-H2B-GFP-676766.10.06.03  10521.757810 10541.87598\n",
      "2023-03-15                   C57BL6J-665266.11.06.03  10451.809570 10534.98242\n",
      "2023-01-20     Ndnf-IRES2-dgCre;Ai14-659663.11.06.03  10391.497070 10521.75781\n",
      "2023-01-20     Ndnf-IRES2-dgCre;Ai14-659663.11.06.04   9531.198242 10451.80957\n",
      "WARNING: \n",
      "WARNING: Found 7 inconsistencies between y_tab_xyz and y_tab_master:\n",
      "WARNING:       Date                      jem-id_cell_specimen  y_tab_master   y_tab_xyz\n",
      "2023-09-01 Dbh-Cre_KH212;RCL-H2B-GFP-692026.10.10.02   4183.531250 3701.974609\n",
      "2023-08-20 Dbh-Cre_KH212;RCL-H2B-GFP-692023.08.06.01   4110.681641 3840.954834\n",
      "2023-08-20 Dbh-Cre_KH212;RCL-H2B-GFP-692023.08.06.02   3840.954834 4288.832031\n",
      "2023-06-02 Dbh-Cre_KH212;RCL-H2B-GFP-676766.10.06.03   4256.657715 4110.681641\n",
      "2023-03-15                   C57BL6J-665266.11.06.03   4402.110352 4183.531250\n",
      "2023-01-20     Ndnf-IRES2-dgCre;Ai14-659663.11.06.03   4161.165039 4256.657715\n",
      "2023-01-20     Ndnf-IRES2-dgCre;Ai14-659663.11.06.04   2449.594727 4402.110352\n",
      "WARNING: \n",
      "WARNING: Found 5 inconsistencies between z_tab_xyz and z_tab_master:\n",
      "WARNING:       Date                      jem-id_cell_specimen  z_tab_master  z_tab_xyz\n",
      "2023-09-01 Dbh-Cre_KH212;RCL-H2B-GFP-692026.10.10.02        4984.0     4824.0\n",
      "2023-08-20 Dbh-Cre_KH212;RCL-H2B-GFP-692023.08.06.01        5034.0     4727.0\n",
      "2023-06-02 Dbh-Cre_KH212;RCL-H2B-GFP-676766.10.06.03        4889.0     5034.0\n",
      "2023-03-15                   C57BL6J-665266.11.06.03        4889.0     4984.0\n",
      "2023-01-20     Ndnf-IRES2-dgCre;Ai14-659663.11.06.04        4265.0     4889.0\n",
      "WARNING: \n",
      "INFO: All good between Annotated structure_tab_xyz and Annotated structure_tab_master!\n",
      "INFO: All good between notes_tab_xyz and notes_tab_master!\n",
      "INFO: \n",
      "INFO: --------------------------------------------------\n",
      "INFO: Cross-checking metadata between tab_ephys_fx and master tables...\n",
      "INFO: Source columns: ['failed_electrode_0_tab_ephys_fx', 'failed_no_seal_tab_ephys_fx', 'failed_bad_rs_tab_ephys_fx']\n",
      "INFO: Master columns: ['failed_electrode_0_tab_master', 'failed_no_seal_tab_master', 'failed_bad_rs_tab_master']\n",
      "INFO: All good between failed_electrode_0_tab_ephys_fx and failed_electrode_0_tab_master!\n",
      "WARNING: Found 6 inconsistencies between failed_no_seal_tab_ephys_fx and failed_no_seal_tab_master:\n",
      "WARNING:       Date                            jem-id_cell_specimen  failed_no_seal_tab_master  failed_no_seal_tab_ephys_fx\n",
      "2024-04-03       Dbh-Cre_KH212;RCL-H2B-GFP-724916.11.06.02                        1.0                          0.0\n",
      "2023-04-19           Slc17a6-IRES-Cre;Ai14-670829.11.06.02                        1.0                          0.0\n",
      "2022-11-17           Slc17a6-IRES-Cre;Ai14-651168.10.06.03                        1.0                          0.0\n",
      "2022-11-15 Dbh-Cre_KH212;RCL-Sun1sfGFP-neo-650884.09.06.05                        1.0                          0.0\n",
      "2022-11-02             Rbp4-Cre_KL100;Ai14-650443.10.06.02                        1.0                          0.0\n",
      "2022-10-27                         C57BL6J-647687.09.06.01                        1.0                          0.0\n",
      "WARNING: \n",
      "WARNING: Found 2 inconsistencies between failed_bad_rs_tab_ephys_fx and failed_bad_rs_tab_master:\n",
      "WARNING:       Date    jem-id_cell_specimen  failed_bad_rs_tab_master  failed_bad_rs_tab_ephys_fx\n",
      "2024-03-20 C57BL6J-722426.10.06.01                       1.0                         0.0\n",
      "2024-03-20 C57BL6J-722426.10.06.03                       1.0                         0.0\n",
      "WARNING: \n",
      "INFO: \n",
      "INFO: --------------------------------------------------\n",
      "INFO: Cross-checking metadata between lims and master tables...\n",
      "INFO: Source columns: ['cell_specimen_id_lims', 'ephys_roi_id_lims', 'ephys_qc_lims', 'storage_directory_lims']\n",
      "INFO: Master columns: ['cell_specimen_id_tab_master', 'ephys_roi_id_tab_master', 'ephys_qc_tab_master', 'storage_directory_tab_master']\n",
      "INFO: All good between cell_specimen_id_lims and cell_specimen_id_tab_master!\n",
      "INFO: All good between ephys_roi_id_lims and ephys_roi_id_tab_master!\n",
      "INFO: All good between ephys_qc_lims and ephys_qc_tab_master!\n",
      "INFO: All good between storage_directory_lims and storage_directory_tab_master!\n"
     ]
    }
   ],
   "source": [
    "dfs = read_brian_spreadsheet()\n",
    "for source in [\"tab_xyz\", \"tab_ephys_fx\", \"lims\"]:\n",
    "    df_inconsistencies = cross_check_metadata(dfs[\"df_merged\"], source)"
   ]
  },
  {
   "cell_type": "markdown",
   "metadata": {},
   "source": [
    "### ❌ Oh no! These inconsistencies must be caused by manually copying and pasting across the tabs!!!"
   ]
  },
  {
   "cell_type": "markdown",
   "metadata": {},
   "source": [
    "## Quick overview using pygwalker"
   ]
  },
  {
   "cell_type": "code",
   "execution_count": 14,
   "metadata": {},
   "outputs": [],
   "source": [
    "!pip install pygwalker --quiet"
   ]
  },
  {
   "cell_type": "code",
   "execution_count": 15,
   "metadata": {},
   "outputs": [
    {
     "ename": "NameError",
     "evalue": "name 'df' is not defined",
     "output_type": "error",
     "traceback": [
      "\u001b[1;31m---------------------------------------------------------------------------\u001b[0m",
      "\u001b[1;31mNameError\u001b[0m                                 Traceback (most recent call last)",
      "Cell \u001b[1;32mIn[15], line 2\u001b[0m\n\u001b[0;32m      1\u001b[0m \u001b[38;5;28;01mimport\u001b[39;00m\u001b[38;5;250m \u001b[39m\u001b[38;5;21;01mpygwalker\u001b[39;00m\u001b[38;5;250m \u001b[39m\u001b[38;5;28;01mas\u001b[39;00m\u001b[38;5;250m \u001b[39m\u001b[38;5;21;01mpyg\u001b[39;00m\n\u001b[1;32m----> 2\u001b[0m walker \u001b[38;5;241m=\u001b[39m pyg\u001b[38;5;241m.\u001b[39mwalk(\u001b[43mdf\u001b[49m)\n\u001b[0;32m      3\u001b[0m walker\n",
      "\u001b[1;31mNameError\u001b[0m: name 'df' is not defined"
     ]
    }
   ],
   "source": [
    "import pygwalker as pyg\n",
    "walker = pyg.walk(df)\n",
    "walker"
   ]
  }
 ],
 "metadata": {
  "kernelspec": {
   "display_name": "patchseq_pipeline",
   "language": "python",
   "name": "python3"
  },
  "language_info": {
   "codemirror_mode": {
    "name": "ipython",
    "version": 3
   },
   "file_extension": ".py",
   "mimetype": "text/x-python",
   "name": "python",
   "nbconvert_exporter": "python",
   "pygments_lexer": "ipython3",
   "version": "3.9.21"
  }
 },
 "nbformat": 4,
 "nbformat_minor": 2
}
