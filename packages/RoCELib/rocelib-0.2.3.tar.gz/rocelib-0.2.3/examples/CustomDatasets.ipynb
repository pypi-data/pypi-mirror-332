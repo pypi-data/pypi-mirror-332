{
 "cells": [
  {
   "cell_type": "markdown",
   "metadata": {},
   "source": [
    "# CsvDatasetLoader Usage Example\n",
    "This notebook demonstrates how to use the `CsvDatasetLoader` class to load and manipulate a dataset from a CSV file.\n",
    "We will perform the following operations:\n",
    "1. Load a dataset\n",
    "2. Access features and target columns\n",
    "3. Filter negative instances\n",
    "4. Get a random positive instance\n",
    "5. Programmatically set the dataset"
   ]
  },
  {
   "metadata": {},
   "cell_type": "code",
   "source": "!pip install rocelib",
   "outputs": [],
   "execution_count": null
  },
  {
   "cell_type": "code",
   "metadata": {},
   "source": [
    "# Import necessary libraries\n",
    "import pandas as pd\n",
    "from rocelib.datasets.custom_datasets.CsvDatasetLoader import CsvDatasetLoader\n"
   ],
   "outputs": [],
   "execution_count": null
  },
  {
   "cell_type": "markdown",
   "metadata": {},
   "source": [
    "### Step 1: Initialize the CsvDatasetLoader with the path to the CSV and the target column name"
   ]
  },
  {
   "cell_type": "code",
   "metadata": {},
   "source": [
    "# Let's assume the contents of 'test.csv' look like this:\n",
    "# ----------------------------------\n",
    "# feature1,feature2,target\n",
    "# 1.0, 2.0, 0\n",
    "# 3.0, 4.0, 1\n",
    "# 5.0, 6.0, 0\n",
    "# 7.0, 8.0, 1\n",
    "# ----------------------------------\n",
    "\n",
    "csv_path = \"test.csv\"  # Path to the CSV file\n",
    "target_column = \"target\"  # Name of the target column\n",
    "\n",
    "# Create an instance of CsvDatasetLoader\n",
    "loader = CsvDatasetLoader(csv_path, target_column, 0)"
   ],
   "outputs": [],
   "execution_count": null
  },
  {
   "cell_type": "markdown",
   "metadata": {},
   "source": [
    "### Step 2: Access the loaded dataset (whole dataset)"
   ]
  },
  {
   "cell_type": "code",
   "metadata": {},
   "source": [
    "# This will print the full dataset including feature columns and target column\n",
    "print(\"Full Dataset:\")\n",
    "print(loader.data)"
   ],
   "outputs": [],
   "execution_count": null
  },
  {
   "cell_type": "markdown",
   "metadata": {},
   "source": [
    "### Step 3: Access the feature columns (X)"
   ]
  },
  {
   "cell_type": "code",
   "metadata": {},
   "source": [
    "# This returns only the feature columns (without the target column)\n",
    "print(\"\\nFeature Columns (X):\")\n",
    "print(loader.X)"
   ],
   "outputs": [],
   "execution_count": null
  },
  {
   "cell_type": "markdown",
   "metadata": {},
   "source": [
    "### Step 4: Access the target column (y)"
   ]
  },
  {
   "cell_type": "code",
   "metadata": {},
   "source": [
    "# This returns only the target column\n",
    "print(\"\\nTarget Column (y):\")\n",
    "print(loader.y)"
   ],
   "outputs": [],
   "execution_count": null
  },
  {
   "cell_type": "markdown",
   "metadata": {},
   "source": [
    "### Step 5: Filter negative instances (target value == 0)"
   ]
  },
  {
   "cell_type": "code",
   "metadata": {},
   "source": [
    "# Assuming '0' is the negative value in the dataset for the target column\n",
    "negative_instances = loader.get_negative_instances()\n",
    "print(\"\\nNegative Instances (Target == 0):\")\n",
    "print(negative_instances)"
   ],
   "outputs": [],
   "execution_count": null
  },
  {
   "cell_type": "markdown",
   "metadata": {},
   "source": [
    "### Step 6: Retrieve a random positive instance (target value != 0)"
   ]
  },
  {
   "cell_type": "code",
   "metadata": {},
   "source": [
    "# Assuming any value other than '0' is a positive instance\n",
    "positive_instance = loader.get_random_positive_instance()\n",
    "print(\"\\nRandom Positive Instance (Target != 0):\")\n",
    "print(positive_instance)"
   ],
   "outputs": [],
   "execution_count": null
  },
  {
   "cell_type": "markdown",
   "metadata": {},
   "source": [
    "### Step 7: Demonstrating setting the dataset programmatically (optional)"
   ]
  },
  {
   "cell_type": "code",
   "metadata": {},
   "source": [
    "# For demonstration purposes, we'll set the data manually and show that it works as expected\n",
    "new_data = pd.DataFrame({\n",
    "    'feature1': [9.0, 10.0],\n",
    "    'feature2': [11.0, 12.0],\n",
    "    'target': [1, 0]\n",
    "})\n",
    "\n",
    "loader.data = new_data  # Setting the new dataset\n",
    "\n",
    "# Display the newly set dataset\n",
    "print(\"\\nNewly Set Dataset:\")\n",
    "print(loader.data)"
   ],
   "outputs": [],
   "execution_count": null
  },
  {
   "cell_type": "markdown",
   "metadata": {},
   "source": [
    "### Demonstrating functionality with the new dataset"
   ]
  },
  {
   "cell_type": "code",
   "metadata": {},
   "source": [
    "# Now, demonstrate the functionality again with the new dataset\n",
    "print(\"\\nNew Feature Columns (X):\")\n",
    "print(loader.X)\n",
    "\n",
    "print(\"\\nNew Target Column (y):\")\n",
    "print(loader.y)\n",
    "\n",
    "# Negative instances with the new data\n",
    "print(\"\\nNegative Instances (Target == 0) from the new data:\")\n",
    "print(loader.get_negative_instances())\n",
    "\n",
    "# Random positive instance with the new data\n",
    "print(\"\\nRandom Positive Instance (Target != 0) from the new data:\")\n",
    "print(loader.get_random_positive_instance())"
   ],
   "outputs": [],
   "execution_count": null
  },
  {
   "cell_type": "code",
   "metadata": {
    "collapsed": false,
    "jupyter": {
     "outputs_hidden": false
    }
   },
   "source": [],
   "outputs": [],
   "execution_count": null
  }
 ],
 "metadata": {
  "kernelspec": {
   "display_name": "Python 3 (ipykernel)",
   "language": "python",
   "name": "python3"
  },
  "language_info": {
   "codemirror_mode": {
    "name": "ipython",
    "version": 3
   },
   "file_extension": ".py",
   "mimetype": "text/x-python",
   "name": "python",
   "nbconvert_exporter": "python",
   "pygments_lexer": "ipython3",
   "version": "3.10.12"
  }
 },
 "nbformat": 4,
 "nbformat_minor": 4
}
