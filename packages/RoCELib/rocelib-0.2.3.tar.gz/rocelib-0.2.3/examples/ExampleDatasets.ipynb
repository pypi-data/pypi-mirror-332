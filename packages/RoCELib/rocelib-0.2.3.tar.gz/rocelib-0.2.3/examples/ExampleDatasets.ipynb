{
 "cells": [
  {
   "cell_type": "markdown",
   "metadata": {},
   "source": [
    "# Example Usage of ExampleDatasetLoader with IonosphereDatasetLoader"
   ],
   "id": "3981e36eef14bf58"
  },
  {
   "cell_type": "markdown",
   "metadata": {},
   "source": [
    "This notebook demonstrates how to use the ExampleDatasetLoader class and its implementation, specifically the IonosphereDatasetLoader. We will:\n",
    "1. Load the dataset\n",
    "2. Perform default preprocessing\n",
    "3. Use custom preprocessing techniques such as imputing missing values, scaling, and encoding categorical data.\n"
   ],
   "id": "a65a1c4b83f8bf1f"
  },
  {
   "metadata": {},
   "cell_type": "code",
   "source": "!pip install rocelib",
   "id": "596554483e542bee",
   "outputs": [],
   "execution_count": null
  },
  {
   "cell_type": "code",
   "metadata": {},
   "source": [
    "# Importing the required class\n",
    "from rocelib.datasets.ExampleDatasets import get_example_dataset\n",
    "\n",
    "# Instantiate the dataset loader, here we use get_example_dataset\n",
    "# which has options:\n",
    "#                - iris\n",
    "#                - ionosphere\n",
    "#                - adult\n",
    "#                - titanic\n",
    "# Alternatively instantiate DatasetLoader directly, e.g., IonosphereDatasetLoader()\n",
    "ionosphere_loader = get_example_dataset(\"ionosphere\")\n",
    "\n",
    "# Load the dataset\n",
    "ionosphere_loader.load_data()\n",
    "\n",
    "# Display the first 5 rows of the dataset\n",
    "ionosphere_loader.data.head()"
   ],
   "id": "17af198c0cd9cab7",
   "outputs": [],
   "execution_count": null
  },
  {
   "cell_type": "markdown",
   "metadata": {},
   "source": [
    "## Preprocessing the Data Using the Default Method\n",
    "The `default_preprocess` method applies the default pipeline which in this case includes standard scaling."
   ],
   "id": "30d1a3f71666930e"
  },
  {
   "cell_type": "code",
   "metadata": {},
   "source": [
    "# Apply default preprocessing\n",
    "ionosphere_loader.default_preprocess()\n",
    "\n",
    "# Show the preprocessed data\n",
    "ionosphere_loader.data.head()"
   ],
   "id": "d56ef10d945f9ad4",
   "outputs": [],
   "execution_count": null
  },
  {
   "cell_type": "markdown",
   "metadata": {},
   "source": [
    "## Custom Preprocessing\n",
    "We can also customize the preprocessing by defining different imputation strategies, scaling methods, or encoding choices."
   ],
   "id": "afb320d9f8af5895"
  },
  {
   "cell_type": "code",
   "metadata": {},
   "source": [
    "# Custom preprocessing\n",
    "ionosphere_loader.preprocess(\n",
    "    impute_strategy_numeric='mean',  # Impute missing numeric values with mean\n",
    "    scale_method='minmax',           # Apply min-max scaling\n",
    "    encode_categorical=False         # No categorical encoding needed (since no categorical features)\n",
    ")\n",
    "\n",
    "# Show preprocessed data after custom preprocessing\n",
    "ionosphere_loader.data.head()"
   ],
   "id": "5e71446a43f8e450",
   "outputs": [],
   "execution_count": null
  },
  {
   "cell_type": "markdown",
   "source": [
    "If you do not want to alter the state of the DatasetLoader after preprocessing, you can\n",
    "get the preprocessed features directly too using the functions below:"
   ],
   "metadata": {
    "collapsed": false
   },
   "id": "38e1ccff599c1ba0"
  },
  {
   "cell_type": "code",
   "source": [
    "ionosphere_loader = get_example_dataset(\"ionosphere\")\n",
    "\n",
    "default_preprocessed = ionosphere_loader.get_default_preprocessed_features()\n",
    "\n",
    "print(default_preprocessed.head())\n",
    "\n",
    "custom_preprocessed = ionosphere_loader.get_preprocessed_features(\n",
    "    impute_strategy_numeric='mean',  # Impute missing numeric values with mean\n",
    "    scale_method='minmax',           # Apply min-max scaling\n",
    "    encode_categorical=False         # No categorical encoding needed (since no categorical features)\n",
    ")\n",
    "\n",
    "print(custom_preprocessed.head())"
   ],
   "metadata": {
    "collapsed": false
   },
   "id": "20ddae19d9c1e3f9",
   "outputs": [],
   "execution_count": null
  },
  {
   "cell_type": "code",
   "source": [],
   "metadata": {
    "collapsed": false
   },
   "id": "c68b03346c7f6b2c",
   "outputs": [],
   "execution_count": null
  }
 ],
 "metadata": {
  "kernelspec": {
   "display_name": "Python 3",
   "language": "python",
   "name": "python3"
  },
  "language_info": {
   "name": "python",
   "version": "3.8.10"
  }
 },
 "nbformat": 4,
 "nbformat_minor": 5
}
