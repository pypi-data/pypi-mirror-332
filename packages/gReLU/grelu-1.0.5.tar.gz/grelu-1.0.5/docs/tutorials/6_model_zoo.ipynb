{
 "cells": [
  {
   "cell_type": "markdown",
   "id": "78dc9d1d-81ec-4e71-8fb4-a6502ae643bc",
   "metadata": {},
   "source": [
    "# Querying the public gReLU model zoo on Weights and Biases (wandb)"
   ]
  },
  {
   "cell_type": "markdown",
   "id": "f6894061-212e-4e93-b478-f584dd2a8f49",
   "metadata": {
    "execution": {
     "iopub.execute_input": "2023-09-20T16:44:49.871477Z",
     "iopub.status.busy": "2023-09-20T16:44:49.870856Z",
     "iopub.status.idle": "2023-09-20T16:44:49.875259Z",
     "shell.execute_reply": "2023-09-20T16:44:49.874421Z",
     "shell.execute_reply.started": "2023-09-20T16:44:49.871457Z"
    }
   },
   "source": [
    "This tutorial shows how to programmatically query our public model zoo and download models and datasets. You can also visit the model zoo in your browser at https://wandb.ai/grelu/. "
   ]
  },
  {
   "cell_type": "markdown",
   "id": "447b8018-a70d-4f8e-8c82-7dfe39decee5",
   "metadata": {},
   "source": [
    "## Rules\n",
    "\n",
    "- wandb projects are the main storage units for datasets and the models trained on them. The main idea is to always keep the links between the raw dataset, the preprocessed dataset and the models trained on them for reproducibility, documentation and sanity reasons.\n",
    "  \n",
    "- The ideal wandb lineage is shown below. This lineage allows us to query project-model-dataset links via the API.\n",
    "\n",
    "- Each project contains a notebook describing the details of data preprocessing, model training and model testing (e.g. performance metrics on holdout data). For models trained by us, the training logs are also available and can be seen by visiting the model zoo website. "
   ]
  },
  {
   "attachments": {},
   "cell_type": "markdown",
   "id": "18a184da-5515-43ee-b670-1377c4cc9985",
   "metadata": {},
   "source": [
    "![image.png](lineage.png)"
   ]
  },
  {
   "cell_type": "code",
   "execution_count": 1,
   "id": "251d609b-02ba-4b13-ad81-f4fd207931a3",
   "metadata": {
    "tags": []
   },
   "outputs": [
    {
     "name": "stderr",
     "output_type": "stream",
     "text": [
      "/usr/local/lib/python3.11/dist-packages/tqdm/auto.py:21: TqdmWarning: IProgress not found. Please update jupyter and ipywidgets. See https://ipywidgets.readthedocs.io/en/stable/user_install.html\n",
      "  from .autonotebook import tqdm as notebook_tqdm\n"
     ]
    }
   ],
   "source": [
    "import os\n",
    "import anndata\n",
    "import grelu.resources"
   ]
  },
  {
   "cell_type": "markdown",
   "id": "8dd06263-fa50-4012-9914-d402535402fd",
   "metadata": {},
   "source": [
    "## List all available projects in the zoo"
   ]
  },
  {
   "cell_type": "markdown",
   "id": "e35d741f-1809-49d1-af2e-5412be26340c",
   "metadata": {},
   "source": [
    "The `grelu.resources` module contains functions for interacting with the model zoo. First, we can list all available projects in the zoo:"
   ]
  },
  {
   "cell_type": "code",
   "execution_count": 2,
   "id": "7dc55a93-06b9-45dd-8c0d-774c78996537",
   "metadata": {},
   "outputs": [
    {
     "name": "stderr",
     "output_type": "stream",
     "text": [
      "\u001b[34m\u001b[1mwandb\u001b[0m: Currently logged in as: \u001b[33mavantikalal\u001b[0m (\u001b[33mgrelu\u001b[0m). Use \u001b[1m`wandb login --relogin`\u001b[0m to force relogin\n"
     ]
    },
    {
     "data": {
      "text/plain": [
       "['alzheimers-variant-tutorial',\n",
       " 'microglia-scatac-tutorial',\n",
       " 'human-chromhmm-fullstack',\n",
       " 'human-atac-catlas',\n",
       " 'borzoi',\n",
       " 'corces-microglia-scatac',\n",
       " 'yeast-gpra',\n",
       " 'enformer']"
      ]
     },
     "execution_count": 2,
     "metadata": {},
     "output_type": "execute_result"
    }
   ],
   "source": [
    "grelu.resources.projects()"
   ]
  },
  {
   "cell_type": "markdown",
   "id": "7765042a-3dd5-482a-8ab4-e74aa561270f",
   "metadata": {},
   "source": [
    "We choose the 'human-atac-catlas' project to interact with."
   ]
  },
  {
   "cell_type": "markdown",
   "id": "9071711d-4138-4808-bc77-7ab7228f24ba",
   "metadata": {},
   "source": [
    "## List all datasets and models in a project"
   ]
  },
  {
   "cell_type": "code",
   "execution_count": 3,
   "id": "51b6647e-4bf2-4d1f-95e7-faa9655001df",
   "metadata": {},
   "outputs": [],
   "source": [
    "project_name = 'human-atac-catlas'"
   ]
  },
  {
   "cell_type": "markdown",
   "id": "25a20e11-6551-4552-9978-393cefb03884",
   "metadata": {},
   "source": [
    "Individual objects such as datasets and models are stored as 'artifacts' under each project. Artifacts can be of different types, but the ones that we are generally interested in are \"dataset\" (the preprocessed dataset) and \"model\" (the trained model). We can search for these under the project of interest:"
   ]
  },
  {
   "cell_type": "code",
   "execution_count": 4,
   "id": "cc72de0f-b2fa-4deb-8427-c9ce07910f1f",
   "metadata": {
    "tags": []
   },
   "outputs": [
    {
     "data": {
      "text/plain": [
       "['dataset']"
      ]
     },
     "execution_count": 4,
     "metadata": {},
     "output_type": "execute_result"
    }
   ],
   "source": [
    "grelu.resources.artifacts(project_name, type_is=\"dataset\")"
   ]
  },
  {
   "cell_type": "markdown",
   "id": "c63b7069-1dfd-4ec7-b7bb-0a21c5595d13",
   "metadata": {},
   "source": [
    "This tells us that there is an artifact called \"dataset\" which is of the \"dataset\" type."
   ]
  },
  {
   "cell_type": "code",
   "execution_count": 5,
   "id": "b1ef34f0-5736-40c7-b69d-f83a09e47d73",
   "metadata": {},
   "outputs": [
    {
     "data": {
      "text/plain": [
       "['model']"
      ]
     },
     "execution_count": 5,
     "metadata": {},
     "output_type": "execute_result"
    }
   ],
   "source": [
    "grelu.resources.artifacts(project_name, type_is=\"model\")"
   ]
  },
  {
   "cell_type": "markdown",
   "id": "d926e401-34f9-4344-b947-4362b03bf977",
   "metadata": {},
   "source": [
    "This tells us that there is an artifact called \"model\" which is of the \"model\" type."
   ]
  },
  {
   "cell_type": "markdown",
   "id": "5ac16b8f-43c5-4efb-9d3f-831747e033c9",
   "metadata": {},
   "source": [
    "## Download a dataset"
   ]
  },
  {
   "cell_type": "markdown",
   "id": "c4ac768f-1adc-4135-9017-026da397ceca",
   "metadata": {},
   "source": [
    "Let us now select the \"dataset\" artifact."
   ]
  },
  {
   "cell_type": "code",
   "execution_count": 8,
   "id": "d44ce5d7-2fc3-413d-a4bd-4ac4d59424ad",
   "metadata": {},
   "outputs": [
    {
     "data": {
      "text/plain": [
       "<Artifact QXJ0aWZhY3Q6ODUwODcxODM0>"
      ]
     },
     "execution_count": 8,
     "metadata": {},
     "output_type": "execute_result"
    }
   ],
   "source": [
    "artifact = grelu.resources.get_artifact(\n",
    "    name=\"dataset\",\n",
    "    project = project_name,\n",
    ")\n",
    "artifact"
   ]
  },
  {
   "cell_type": "markdown",
   "id": "df9f1a6b-6ea3-4f8b-b045-637db746f1fd",
   "metadata": {},
   "source": [
    "We can download this artifact into a local directory."
   ]
  },
  {
   "cell_type": "code",
   "execution_count": 9,
   "id": "89da86fe-a955-4c11-b04b-7b5785e082f0",
   "metadata": {
    "tags": []
   },
   "outputs": [
    {
     "name": "stderr",
     "output_type": "stream",
     "text": [
      "\u001b[34m\u001b[1mwandb\u001b[0m: Downloading large artifact dataset:latest, 202.72MB. 1 files... \n",
      "\u001b[34m\u001b[1mwandb\u001b[0m:   1 of 1 files downloaded.  \n",
      "Done. 0:0:0.5\n"
     ]
    },
    {
     "data": {
      "text/plain": [
       "'/code/gReLU/docs/tutorials/artifacts/dataset:v1'"
      ]
     },
     "execution_count": 9,
     "metadata": {},
     "output_type": "execute_result"
    }
   ],
   "source": [
    "artifact_dir = artifact.download()\n",
    "artifact_dir"
   ]
  },
  {
   "cell_type": "markdown",
   "id": "11cc3fac-e9d4-45c2-b6e5-a5d45e7b5a5d",
   "metadata": {},
   "source": [
    "We can list the iles in this directory:"
   ]
  },
  {
   "cell_type": "code",
   "execution_count": 10,
   "id": "791027f6-7633-4dcd-900e-f16c30266ce1",
   "metadata": {},
   "outputs": [
    {
     "data": {
      "text/plain": [
       "['preprocessed.h5ad']"
      ]
     },
     "execution_count": 10,
     "metadata": {},
     "output_type": "execute_result"
    }
   ],
   "source": [
    "os.listdir(artifact_dir)"
   ]
  },
  {
   "cell_type": "code",
   "execution_count": 11,
   "id": "edf4b725-fa07-4622-9db8-bce6cb1adcff",
   "metadata": {},
   "outputs": [
    {
     "data": {
      "text/plain": [
       "AnnData object with n_obs × n_vars = 204 × 1121319\n",
       "    obs: 'cell type'\n",
       "    var: 'chrom', 'start', 'end', 'cre_class', 'in_fetal', 'in_adult', 'cre_module', 'width'"
      ]
     },
     "execution_count": 11,
     "metadata": {},
     "output_type": "execute_result"
    }
   ],
   "source": [
    "ad = anndata.read_h5ad(os.path.join(artifact_dir, 'preprocessed.h5ad'))\n",
    "ad"
   ]
  },
  {
   "cell_type": "markdown",
   "id": "28944471-5b0a-40b9-9ebe-b0dae2a075e9",
   "metadata": {},
   "source": [
    "We could download the trained model from the zoo in a similar way. However, we have an additional function to download a model from the zoo and directly load it into memory in one step."
   ]
  },
  {
   "cell_type": "markdown",
   "id": "146c3542-ee40-406f-bd17-0ff31daf149b",
   "metadata": {
    "tags": []
   },
   "source": [
    "## One-step downloading and loading a model"
   ]
  },
  {
   "cell_type": "code",
   "execution_count": 12,
   "id": "30e44d43-cbd1-4c56-b2d7-16691458ded8",
   "metadata": {},
   "outputs": [
    {
     "name": "stderr",
     "output_type": "stream",
     "text": [
      "\u001b[34m\u001b[1mwandb\u001b[0m: Downloading large artifact model:latest, 825.03MB. 1 files... \n",
      "\u001b[34m\u001b[1mwandb\u001b[0m:   1 of 1 files downloaded.  \n",
      "Done. 0:0:2.1\n",
      "\u001b[34m\u001b[1mwandb\u001b[0m: Downloading large artifact human_state_dict:latest, 939.29MB. 1 files... \n",
      "\u001b[34m\u001b[1mwandb\u001b[0m:   1 of 1 files downloaded.  \n",
      "Done. 0:0:2.9\n"
     ]
    }
   ],
   "source": [
    "model = grelu.resources.load_model(\n",
    "    project=project_name,\n",
    "    model_name='model'\n",
    ") # that's it!"
   ]
  },
  {
   "cell_type": "code",
   "execution_count": 13,
   "id": "b5c36bd3-4c28-4a60-aaa3-b772e4de9532",
   "metadata": {},
   "outputs": [
    {
     "data": {
      "text/plain": [
       "grelu.lightning.LightningModel"
      ]
     },
     "execution_count": 13,
     "metadata": {},
     "output_type": "execute_result"
    }
   ],
   "source": [
    "type(model)"
   ]
  },
  {
   "cell_type": "code",
   "execution_count": null,
   "id": "dafee0ab-4177-4d27-a343-995ba44e8eb9",
   "metadata": {},
   "outputs": [],
   "source": []
  }
 ],
 "metadata": {
  "kernelspec": {
   "display_name": "Python 3 (ipykernel)",
   "language": "python",
   "name": "python3"
  },
  "language_info": {
   "codemirror_mode": {
    "name": "ipython",
    "version": 3
   },
   "file_extension": ".py",
   "mimetype": "text/x-python",
   "name": "python",
   "nbconvert_exporter": "python",
   "pygments_lexer": "ipython3",
   "version": "3.11.8"
  }
 },
 "nbformat": 4,
 "nbformat_minor": 5
}
