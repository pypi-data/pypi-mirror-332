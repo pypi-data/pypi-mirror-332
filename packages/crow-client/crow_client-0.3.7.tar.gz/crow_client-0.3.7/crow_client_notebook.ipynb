{
 "cells": [
  {
   "cell_type": "code",
   "execution_count": null,
   "metadata": {},
   "outputs": [],
   "source": [
    "from pathlib import Path\n",
    "\n",
    "from crow_client import CrowClient\n",
    "from crow_client.models import (\n",
    "    AuthType,\n",
    "    CrowDeploymentConfig,\n",
    "    DockerContainerConfiguration,\n",
    "    FramePath,\n",
    "    Stage,\n",
    ")"
   ]
  },
  {
   "cell_type": "code",
   "execution_count": null,
   "metadata": {},
   "outputs": [],
   "source": [
    "client = CrowClient(stage=Stage.DEV, auth_type=AuthType.GOOGLE)"
   ]
  },
  {
   "cell_type": "code",
   "execution_count": null,
   "metadata": {},
   "outputs": [],
   "source": [
    "frame_paths = [\n",
    "    FramePath(path=\"state.pdbs\", type=\"pdb\", is_iterable=True),\n",
    "    FramePath(path=\"state.single_pdb\", type=\"pdb\"),\n",
    "]"
   ]
  },
  {
   "cell_type": "code",
   "execution_count": null,
   "metadata": {},
   "outputs": [],
   "source": [
    "query = \"Crow with top hat\"\n",
    "job_data = {\"name\": \"dummy-env\", \"query\": query}\n",
    "client.create_job(job_data)"
   ]
  },
  {
   "cell_type": "code",
   "execution_count": null,
   "metadata": {},
   "outputs": [],
   "source": [
    "crow = CrowDeploymentConfig(\n",
    "    path=Path(\"../../envs/dummy_env\"),\n",
    "    environment=\"dummy_env.env.DummyEnv\",\n",
    "    requires_aviary_internal=False,\n",
    "    environment_variables={\"SAMPLE_ENV_VAR\": \"sample_val\"},\n",
    "    agent=\"ldp.agent.SimpleAgent\",\n",
    "    container_config=DockerContainerConfiguration(cpu=\"1\", memory=\"2Gi\"),\n",
    "    force=True,\n",
    "    frame_paths=frame_paths,\n",
    "    task_description=\"This is a dummy task\",\n",
    ")"
   ]
  },
  {
   "cell_type": "code",
   "execution_count": null,
   "metadata": {},
   "outputs": [],
   "source": [
    "client.create_crow(crow)"
   ]
  },
  {
   "cell_type": "code",
   "execution_count": null,
   "metadata": {},
   "outputs": [],
   "source": [
    "client.get_build_status()"
   ]
  }
 ],
 "metadata": {
  "kernelspec": {
   "display_name": ".venv",
   "language": "python",
   "name": "python3"
  },
  "language_info": {
   "codemirror_mode": {
    "name": "ipython",
    "version": 3
   },
   "file_extension": ".py",
   "mimetype": "text/x-python",
   "name": "python",
   "nbconvert_exporter": "python",
   "pygments_lexer": "ipython3"
  }
 },
 "nbformat": 4,
 "nbformat_minor": 4
}
