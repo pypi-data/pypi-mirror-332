{
 "cells": [
  {
   "cell_type": "code",
   "execution_count": null,
   "id": "05336da6-c2b8-4653-a476-1a6343246b74",
   "metadata": {},
   "outputs": [],
   "source": [
    "getversion()"
   ]
  },
  {
   "cell_type": "code",
   "execution_count": null,
   "id": "af3e62cd-e9aa-42d3-8fa7-3e271af59cfc",
   "metadata": {},
   "outputs": [],
   "source": []
  }
 ],
 "metadata": {
  "kernelspec": {
   "display_name": "Scilab",
   "language": "scilab",
   "name": "scilab"
  },
  "language_info": {
   "name": ""
  }
 },
 "nbformat": 4,
 "nbformat_minor": 5
}
