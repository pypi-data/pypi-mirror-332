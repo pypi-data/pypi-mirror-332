{
 "cells": [
  {
   "cell_type": "code",
   "execution_count": 1,
   "id": "b3188b16-ffd6-4bf0-aec4-4786fb4a91d9",
   "metadata": {},
   "outputs": [
    {
     "name": "stdout",
     "output_type": "stream",
     "text": [
      "\n",
      " ans  =\n",
      "\n",
      "  \"scilab-2024.0.0\"\n",
      "\n"
     ]
    }
   ],
   "source": [
    "getversion()"
   ]
  }
 ],
 "metadata": {
  "kernelspec": {
   "display_name": "Scilab",
   "language": "scilab",
   "name": "scilab"
  },
  "language_info": {
   "file_extension": ".sci",
   "help_links": [
    {
     "text": "MetaKernel Magics",
     "url": "https://metakernel.readthedocs.io/en/latest/source/README.html"
    }
   ],
   "mimetype": "text/x-scilab",
   "name": "scilab",
   "version": "0.9.10"
  }
 },
 "nbformat": 4,
 "nbformat_minor": 5
}
