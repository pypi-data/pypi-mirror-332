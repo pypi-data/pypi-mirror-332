{
 "cells": [
  {
   "cell_type": "markdown",
   "metadata": {},
   "source": [
    "# Backtesting a simple trend following strategy\n",
    "\n",
    "Saeed Amen - saeed@cuemacro.com\n",
    "\n",
    "Here, we demonstrate how to develop a trading strategy in finmarketpy (https://www.github.com/cuemacro/finmarketpy). In this example, we show how to do a backtest of a simple trend following strategy using the `Backtest` class. The trading strategy involves buying spot, when it is above the 200D simple moving average and selling spot, when it below the 200D simple moving average.\n",
    "\n",
    "First, let's do all the imports."
   ]
  },
  {
   "cell_type": "code",
   "execution_count": 1,
   "metadata": {
    "ExecuteTime": {
     "end_time": "2022-01-26T16:05:44.159267Z",
     "start_time": "2022-01-26T16:05:44.155266Z"
    }
   },
   "outputs": [],
   "source": [
    "import warnings\n",
    "warnings.simplefilter(action='ignore', category=FutureWarning)\n",
    "\n",
    "# for backtest and loading data\n",
    "from finmarketpy.backtest import BacktestRequest, Backtest\n",
    "from findatapy.market import Market, MarketDataRequest, MarketDataGenerator\n",
    "from findatapy.util.fxconv import FXConv\n",
    "\n",
    "# for logging\n",
    "from findatapy.util.loggermanager import LoggerManager\n",
    "\n",
    "# for signal generation\n",
    "from finmarketpy.economics import TechIndicator, TechParams\n",
    "\n",
    "# for plotting\n",
    "from chartpy import Chart, Style"
   ]
  },
  {
   "cell_type": "markdown",
   "metadata": {},
   "source": [
    "Create a logger."
   ]
  },
  {
   "cell_type": "code",
   "execution_count": 2,
   "metadata": {
    "ExecuteTime": {
     "end_time": "2022-01-26T16:05:45.423257Z",
     "start_time": "2022-01-26T16:05:45.410258Z"
    }
   },
   "outputs": [],
   "source": [
    "# housekeeping\n",
    "logger = LoggerManager().getLogger(__name__)\n",
    "\n",
    "import datetime"
   ]
  },
  {
   "cell_type": "markdown",
   "metadata": {},
   "source": [
    "Let's load up market data. Note you will need to type in your FRED API key below (or set it as an environment variable before running this Jupyter notebook). You can get a free API key from FRED, once you sign up for a free account."
   ]
  },
  {
   "cell_type": "code",
   "execution_count": 4,
   "metadata": {
    "ExecuteTime": {
     "end_time": "2022-01-26T16:07:51.747982Z",
     "start_time": "2022-01-26T16:07:43.085619Z"
    }
   },
   "outputs": [
    {
     "name": "stdout",
     "output_type": "stream",
     "text": [
      "2024-11-09 16:52:06,996 - __main__ - INFO - Loading asset data...\n",
      "2024-11-09 16:52:07,531 - findatapy.market.datavendorweb - INFO - Request ALFRED/FRED data\n",
      "2024-11-09 16:52:07,532 - findatapy.market.datavendorweb - INFO - Request ALFRED/FRED data\n",
      "2024-11-09 16:52:07,532 - findatapy.market.datavendorweb - INFO - Request ALFRED/FRED data\n",
      "2024-11-09 16:52:08,509 - findatapy.market.datavendorweb - INFO - Completed request from ALFRED/FRED for ['EURUSD.close']\n",
      "2024-11-09 16:52:08,691 - findatapy.market.datavendorweb - INFO - Request ALFRED/FRED data\n",
      "2024-11-09 16:52:08,782 - findatapy.market.datavendorweb - INFO - Completed request from ALFRED/FRED for ['GBPUSD.close']\n",
      "2024-11-09 16:52:08,785 - findatapy.market.datavendorweb - INFO - Request ALFRED/FRED data\n",
      "2024-11-09 16:52:10,481 - findatapy.market.datavendorweb - INFO - Completed request from ALFRED/FRED for ['USDJPY.close']\n",
      "2024-11-09 16:52:10,484 - findatapy.market.datavendorweb - INFO - Request ALFRED/FRED data\n",
      "2024-11-09 16:52:10,577 - findatapy.market.datavendorweb - INFO - Completed request from ALFRED/FRED for ['AUDUSD.close']\n",
      "2024-11-09 16:52:10,580 - findatapy.market.datavendorweb - INFO - Request ALFRED/FRED data\n",
      "2024-11-09 16:52:10,867 - findatapy.market.datavendorweb - INFO - Completed request from ALFRED/FRED for ['USDCAD.close']\n",
      "2024-11-09 16:52:10,869 - findatapy.market.datavendorweb - INFO - Request ALFRED/FRED data\n",
      "2024-11-09 16:52:10,979 - findatapy.market.datavendorweb - INFO - Completed request from ALFRED/FRED for ['NZDUSD.close']\n",
      "2024-11-09 16:52:12,276 - findatapy.market.datavendorweb - INFO - Completed request from ALFRED/FRED for ['USDCHF.close']\n",
      "2024-11-09 16:52:12,350 - findatapy.market.datavendorweb - INFO - Completed request from ALFRED/FRED for ['USDNOK.close']\n",
      "2024-11-09 16:52:12,435 - findatapy.market.datavendorweb - INFO - Completed request from ALFRED/FRED for ['USDSEK.close']\n",
      "2024-11-09 16:52:12,449 - findatapy.market.ioengine - WARNING - Could not push MarketDataRequest_1190__abstract_curve_key-None__arcticdb_dict-{'prune_previous_versions': False, 'write_style': 'write', 'force_create_library': Fal... to Redis: Error 61 connecting to 127.0.0.1:6379. Connection refused.\n"
     ]
    }
   ],
   "source": [
    "try:\n",
    "    import os\n",
    "    \n",
    "    FRED_API_KEY = os.environ['FRED_API_KEY']\n",
    "except:\n",
    "    FRED_API_KEY = 'TYPE_YOUR_KEY_HERE'\n",
    "\n",
    "# pick USD crosses in G10 FX\n",
    "# note: we are calculating returns from spot (it is much better to use to total return\n",
    "# indices for FX, which include carry)\n",
    "logger.info(\"Loading asset data...\")\n",
    "\n",
    "tickers = ['EURUSD', 'USDJPY', 'GBPUSD', 'AUDUSD', 'USDCAD',\n",
    "        'NZDUSD', 'USDCHF', 'USDNOK', 'USDSEK']\n",
    "\n",
    "vendor_tickers = ['DEXUSEU', 'DEXJPUS', 'DEXUSUK', 'DEXUSAL', 'DEXCAUS',\n",
    "                'DEXUSNZ', 'DEXSZUS', 'DEXNOUS', 'DEXSDUS']\n",
    "\n",
    "md_request = MarketDataRequest(\n",
    "    start_date=\"01 Jan 1989\",  # start date\n",
    "    finish_date=datetime.date.today(),  # finish date\n",
    "    freq='daily',  # daily data\n",
    "    data_source='alfred',  # use FRED as data source\n",
    "    tickers=tickers,  # ticker (findatapy)\n",
    "    fields=['close'],  # which fields to download\n",
    "    vendor_tickers=vendor_tickers,  # ticker\n",
    "    vendor_fields=['close'],  # which Bloomberg fields to download\n",
    "    cache_algo='internet_load_return',\n",
    "    fred_api_key=FRED_API_KEY)  # how to return data\n",
    "\n",
    "market = Market(market_data_generator=MarketDataGenerator())\n",
    "\n",
    "asset_df = market.fetch_market(md_request)\n",
    "spot_df = asset_df"
   ]
  },
  {
   "cell_type": "markdown",
   "metadata": {},
   "source": [
    "Let's define all the parameters for the backtest, start/finish dates, technical indicator we'll use etc."
   ]
  },
  {
   "cell_type": "code",
   "execution_count": 5,
   "metadata": {
    "ExecuteTime": {
     "end_time": "2022-01-26T16:08:31.269917Z",
     "start_time": "2022-01-26T16:08:31.258918Z"
    }
   },
   "outputs": [],
   "source": [
    "backtest = Backtest()\n",
    "br = BacktestRequest()\n",
    "fxconv = FXConv()\n",
    "\n",
    "# get all asset data\n",
    "br.start_date = \"02 Jan 1990\"\n",
    "br.finish_date = datetime.datetime.utcnow()\n",
    "br.spot_tc_bp = 0  # 2.5 bps bid/ask spread\n",
    "br.ann_factor = 252\n",
    "\n",
    "# have vol target for each signal\n",
    "br.signal_vol_adjust = True\n",
    "br.signal_vol_target = 0.05\n",
    "br.signal_vol_max_leverage = 3\n",
    "br.signal_vol_periods = 60\n",
    "br.signal_vol_obs_in_year = 252\n",
    "br.signal_vol_rebalance_freq = 'BM'\n",
    "br.signal_vol_resample_freq = None\n",
    "\n",
    "tech_params = TechParams();\n",
    "tech_params.sma_period = 200;\n",
    "indicator = 'SMA'"
   ]
  },
  {
   "cell_type": "markdown",
   "metadata": {},
   "source": [
    "Calculate the technical indicator and the trading signal."
   ]
  },
  {
   "cell_type": "code",
   "execution_count": 6,
   "metadata": {
    "ExecuteTime": {
     "end_time": "2022-01-26T16:08:46.246634Z",
     "start_time": "2022-01-26T16:08:46.222635Z"
    }
   },
   "outputs": [
    {
     "name": "stdout",
     "output_type": "stream",
     "text": [
      "2024-11-09 16:52:12,461 - __main__ - INFO - Running backtest...\n"
     ]
    }
   ],
   "source": [
    "logger.info(\"Running backtest...\")\n",
    "\n",
    "# use technical indicator to create signals\n",
    "# (we could obviously create whatever function we wanted for generating the signal dataframe)\n",
    "tech_ind = TechIndicator()\n",
    "tech_ind.create_tech_ind(spot_df, indicator, tech_params);\n",
    "signal_df = tech_ind.get_signal()"
   ]
  },
  {
   "cell_type": "markdown",
   "metadata": {},
   "source": [
    "Run the backtest using the market data, signal etc."
   ]
  },
  {
   "cell_type": "code",
   "execution_count": 7,
   "metadata": {
    "ExecuteTime": {
     "end_time": "2022-01-26T16:08:55.953174Z",
     "start_time": "2022-01-26T16:08:55.873175Z"
    }
   },
   "outputs": [
    {
     "name": "stdout",
     "output_type": "stream",
     "text": [
      "2024-11-09 16:52:12,475 - finmarketpy.backtest.backtestengine - INFO - Calculating trading P&L...\n",
      "2024-11-09 16:52:12,500 - finmarketpy.backtest.backtestengine - INFO - Cumulative index calculations\n",
      "2024-11-09 16:52:12,505 - finmarketpy.backtest.backtestengine - INFO - Completed cumulative index calculations\n",
      "            EURUSD.close SMA Signal  USDJPY.close SMA Signal  \\\n",
      "Date                                                           \n",
      "2024-11-01                -0.109763                 0.044111   \n",
      "\n",
      "            GBPUSD.close SMA Signal  AUDUSD.close SMA Signal  \\\n",
      "Date                                                           \n",
      "2024-11-01                 0.095455                -0.074988   \n",
      "\n",
      "            USDCAD.close SMA Signal  NZDUSD.close SMA Signal  \\\n",
      "Date                                                           \n",
      "2024-11-01                 0.149951                -0.062678   \n",
      "\n",
      "            USDCHF.close SMA Signal  USDNOK.close SMA Signal  \\\n",
      "Date                                                           \n",
      "2024-11-01                -0.074267                 0.054605   \n",
      "\n",
      "            USDSEK.close SMA Signal  \n",
      "Date                                 \n",
      "2024-11-01                 0.065421  \n"
     ]
    }
   ],
   "source": [
    "contract_value_df = None\n",
    "\n",
    "# use the same data for generating signals\n",
    "backtest.calculate_trading_PnL(br, asset_df, signal_df, contract_value_df, run_in_parallel=False)\n",
    "port = backtest.portfolio_cum()\n",
    "port.columns = [indicator + ' = ' + str(tech_params.sma_period) + ' ' + str(backtest.portfolio_pnl_desc()[0])]\n",
    "signals = backtest.portfolio_signal()\n",
    "\n",
    "# print the last positions (we could also save as CSV etc.)\n",
    "print(signals.tail(1))"
   ]
  },
  {
   "cell_type": "markdown",
   "metadata": {},
   "source": [
    "Finally display the portfolio cumulative index."
   ]
  },
  {
   "cell_type": "code",
   "execution_count": 8,
   "metadata": {
    "ExecuteTime": {
     "end_time": "2022-01-26T16:09:47.164989Z",
     "start_time": "2022-01-26T16:09:46.928342Z"
    }
   },
   "outputs": [
    {
     "data": {
      "image/png": "[encoded data removed]",
      "text/plain": [
       "<Figure size 600x400 with 1 Axes>"
      ]
     },
     "metadata": {},
     "output_type": "display_data"
    }
   ],
   "source": [
    "style = Style()\n",
    "style.title = \"FX trend strategy\"\n",
    "style.source = 'FRED'\n",
    "style.scale_factor = 1\n",
    "style.file_output = 'fx-trend-example.png'\n",
    "\n",
    "Chart().plot(port, style=style)"
   ]
  }
 ],
 "metadata": {
  "kernelspec": {
   "display_name": "Python 3",
   "language": "python",
   "name": "python3"
  },
  "language_info": {
   "codemirror_mode": {
    "name": "ipython",
    "version": 3
   },
   "file_extension": ".py",
   "mimetype": "text/x-python",
   "name": "python",
   "nbconvert_exporter": "python",
   "pygments_lexer": "ipython3",
   "version": "3.10.15"
  },
  "toc": {
   "base_numbering": 1,
   "nav_menu": {},
   "number_sections": true,
   "sideBar": true,
   "skip_h1_title": false,
   "title_cell": "Table of Contents",
   "title_sidebar": "Contents",
   "toc_cell": false,
   "toc_position": {},
   "toc_section_display": true,
   "toc_window_display": false
  }
 },
 "nbformat": 4,
 "nbformat_minor": 2
}
