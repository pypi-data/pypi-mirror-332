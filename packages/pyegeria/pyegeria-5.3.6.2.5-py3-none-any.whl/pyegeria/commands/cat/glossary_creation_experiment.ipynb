{
 "cells": [
  {
   "cell_type": "markdown",
   "id": "f211c1736f87555",
   "metadata": {},
   "source": [
    "# This notebook contains experimental Freddie commands\n",
    "## Lets see if this is parsed\n",
    "meow"
   ]
  },
  {
   "cell_type": "markdown",
   "id": "3b321563-4977-496a-963b-9b9dd75de968",
   "metadata": {},
   "source": [
    "# Create Glossary\n",
    "## Glossary Name\n",
    "\n",
    "Egeria-Markdown\n",
    "\n",
    "## Language\n",
    "English\n",
    "\n",
    "## Description\n",
    "\n",
    "Glossary to describe the vocabulary of Freddie - an Egeria Markdown language to support the exchange of metadata in a Markdown form.\n",
    "Freddie allows users to input metadata using any text entry system that supports the entry of standard Markdown characters and through post-processing\n",
    "commands, validates the Egeria content and allows the requests to be sent to Egeria.\n",
    "\n",
    "\n",
    "## Usage\n",
    "1) (optional) load an example or template for the type of object from Egeria.\n",
    "2) Create a new document (perhaps from the template) and edit it, adding in the content with the Freddie controlled Markdown language.\n",
    "3) Process the document to validate and display it before you submit it, Validation may annotate your document with recommendations and potential issues.\n",
    "4) Submit the document to Egeria using the Freddie_sings command.\n",
    "\n",
    "## <Qualified Name>\n",
    "\n",
    "## <GUID>\n",
    "\n"
   ]
  },
  {
   "cell_type": "code",
   "execution_count": null,
   "id": "a7295df2-5afb-46ba-889a-94881d883678",
   "metadata": {
    "execution": {
     "iopub.execute_input": "2025-02-27T15:23:58.820592Z",
     "iopub.status.busy": "2025-02-27T15:23:58.820416Z",
     "iopub.status.idle": "2025-02-27T15:24:00.802861Z",
     "shell.execute_reply": "2025-02-27T15:24:00.802425Z",
     "shell.execute_reply.started": "2025-02-27T15:23:58.820583Z"
    }
   },
   "outputs": [],
   "source": [
    "%pip install jupyter-notebook-parser\n",
    "%pip install marko"
   ]
  },
  {
   "cell_type": "code",
   "execution_count": null,
   "id": "d02383df-f617-48f7-be54-e930b6275a7e",
   "metadata": {
    "execution": {
     "iopub.execute_input": "2025-02-27T15:25:33.155175Z",
     "iopub.status.busy": "2025-02-27T15:25:33.154695Z",
     "iopub.status.idle": "2025-02-27T15:25:33.162801Z",
     "shell.execute_reply": "2025-02-27T15:25:33.162362Z",
     "shell.execute_reply.started": "2025-02-27T15:25:33.155158Z"
    }
   },
   "outputs": [],
   "source": [
    "import json\n",
    "import marko\n",
    "from jupyter_notebook_parser import JupyterNotebookParser"
   ]
  },
  {
   "cell_type": "code",
   "execution_count": null,
   "id": "b5560fcd-afe4-4133-8204-8f2535feb9b6",
   "metadata": {
    "execution": {
     "iopub.execute_input": "2025-02-27T15:25:34.354443Z",
     "iopub.status.busy": "2025-02-27T15:25:34.354300Z",
     "iopub.status.idle": "2025-02-27T15:25:34.358702Z",
     "shell.execute_reply": "2025-02-27T15:25:34.358236Z",
     "shell.execute_reply.started": "2025-02-27T15:25:34.354435Z"
    }
   },
   "outputs": [],
   "source": [
    "parsed = JupyterNotebookParser('glossary_creation_experiment.ipynb')\n",
    "\n",
    "parsed.get_all_cells()  # returns List[Dict], each Dict is a notebook cell\n",
    "\n",
    "cells = parsed.get_markdown_cells()  # returns List[Dict], each Dict is a markdown cel\n",
    "indices = parsed.get_markdown_cell_indices()  # returns List[int], each is a markdown cell's index\n",
    "cell_sources = parsed.get_markdown_cell_sources()  # returns List[str], each is a markdown cell's text\n",
    "print(json.dumps(cell_sources, indent = 4))"
   ]
  },
  {
   "cell_type": "code",
   "execution_count": null,
   "id": "79dffa96-7e2a-40e3-a0d7-ba363d87b70c",
   "metadata": {
    "execution": {
     "iopub.execute_input": "2025-02-27T15:42:47.354237Z",
     "iopub.status.busy": "2025-02-27T15:42:47.353238Z",
     "iopub.status.idle": "2025-02-27T15:42:47.360634Z",
     "shell.execute_reply": "2025-02-27T15:42:47.360090Z",
     "shell.execute_reply.started": "2025-02-27T15:42:47.354193Z"
    }
   },
   "outputs": [],
   "source": [
    "parsed_markdown = marko.parse(cell_sources[0])\n",
    "print(type(parsed_markdown))"
   ]
  },
  {
   "cell_type": "code",
   "execution_count": null,
   "id": "f3d66578-cf02-4e95-a102-f84fbe3aae95",
   "metadata": {
    "execution": {
     "iopub.execute_input": "2025-02-27T15:44:51.000320Z",
     "iopub.status.busy": "2025-02-27T15:44:51.000168Z",
     "iopub.status.idle": "2025-02-27T15:44:51.007790Z",
     "shell.execute_reply": "2025-02-27T15:44:51.007211Z",
     "shell.execute_reply.started": "2025-02-27T15:44:51.000309Z"
    }
   },
   "outputs": [],
   "source": [
    "parsed_source = marko.parse_source(cell_sources[0])"
   ]
  },
  {
   "cell_type": "code",
   "execution_count": null,
   "id": "7cc1a99c-46b3-42c9-8b38-77fb721586a7",
   "metadata": {
    "execution": {
     "iopub.execute_input": "2025-02-27T15:45:28.853162Z",
     "iopub.status.busy": "2025-02-27T15:45:28.852948Z",
     "iopub.status.idle": "2025-02-27T15:45:28.856556Z",
     "shell.execute_reply": "2025-02-27T15:45:28.856159Z",
     "shell.execute_reply.started": "2025-02-27T15:45:28.853153Z"
    }
   },
   "outputs": [],
   "source": [
    "? marko"
   ]
  },
  {
   "cell_type": "code",
   "execution_count": null,
   "id": "ca5f9660-1f56-4de9-8127-5e7e4a922b5f",
   "metadata": {},
   "outputs": [],
   "source": []
  },
  {
   "cell_type": "code",
   "execution_count": null,
   "id": "e967897d83588f86",
   "metadata": {},
   "outputs": [],
   "source": []
  },
  {
   "cell_type": "markdown",
   "id": "ed29f0e5d46a7c20",
   "metadata": {},
   "source": [
    "# Create Glossary\n",
    "## Glossary Name\n",
    "\n",
    "Another Test\n",
    "\n",
    "## Language\n",
    "English\n",
    "\n",
    "## Description\n",
    "\n",
    "Another quick test\n",
    "\n",
    "## Usage\n",
    "Alternate sundays\n",
    "\n",
    "## <Qualified Name>\n",
    "\n",
    "## <GUID>"
   ]
  },
  {
   "cell_type": "code",
   "execution_count": null,
   "id": "e36a5074b9a94c1a",
   "metadata": {},
   "outputs": [],
   "source": []
  }
 ],
 "metadata": {
  "kernelspec": {
   "display_name": "Python 3 (ipykernel)",
   "language": "python",
   "name": "python3"
  },
  "language_info": {
   "codemirror_mode": {
    "name": "ipython",
    "version": 3
   },
   "file_extension": ".py",
   "mimetype": "text/x-python",
   "name": "python",
   "nbconvert_exporter": "python",
   "pygments_lexer": "ipython3",
   "version": "3.12.9"
  }
 },
 "nbformat": 4,
 "nbformat_minor": 5
}
