{
  "cells": [
    {
      "cell_type": "markdown",
      "metadata": {},
      "source": [
        "\n# Complete Ensemble Sift\nThis tutorial introduces the complete ensemble sift. This is a noise-assisted approach\nto sifting which overcomes some of the problems in the original sift and ensemble sift.\n\nThis tutorial is a stub! more details coming soon.\n"
      ]
    },
    {
      "cell_type": "markdown",
      "metadata": {},
      "source": [
        "Lets make a simulated signal to get started. Here we generate two bursts of\noscillations and some dynamic noise.\n\n"
      ]
    },
    {
      "cell_type": "code",
      "execution_count": null,
      "metadata": {
        "collapsed": false
      },
      "outputs": [],
      "source": [
        "import emd\nimport numpy as np\nimport matplotlib.pyplot as plt\n\n\nx = np.zeros(1025)\nx[512] = 1\n\nplt.figure(figsize=(9, 3))\nplt.plot(x, 'k')"
      ]
    },
    {
      "cell_type": "markdown",
      "metadata": {},
      "source": [
        "We can compare the ensemble sift and complete ensemble sift on this signal.\n\n"
      ]
    },
    {
      "cell_type": "code",
      "execution_count": null,
      "metadata": {
        "collapsed": false
      },
      "outputs": [],
      "source": [
        "imf1 = emd.sift.ensemble_sift(x, nensembles=24)\nimf2 = emd.sift.complete_ensemble_sift(x, nensembles=24)\n\n\n\n\nplt.figure()\nax = plt.subplot(121)\nemd.plotting.plot_imfs(imf1, ax=ax)\nax = plt.subplot(122)\nemd.plotting.plot_imfs(imf2, ax=ax)"
      ]
    }
  ],
  "metadata": {
    "kernelspec": {
      "display_name": "Python 3",
      "language": "python",
      "name": "python3"
    },
    "language_info": {
      "codemirror_mode": {
        "name": "ipython",
        "version": 3
      },
      "file_extension": ".py",
      "mimetype": "text/x-python",
      "name": "python",
      "nbconvert_exporter": "python",
      "pygments_lexer": "ipython3",
      "version": "3.12.2"
    }
  },
  "nbformat": 4,
  "nbformat_minor": 0
}