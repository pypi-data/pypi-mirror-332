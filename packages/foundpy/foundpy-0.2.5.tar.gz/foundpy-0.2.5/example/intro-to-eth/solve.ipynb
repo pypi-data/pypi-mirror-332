{
 "cells": [
  {
   "cell_type": "code",
   "execution_count": 1,
   "metadata": {},
   "outputs": [],
   "source": [
    "from foundpy import *"
   ]
  },
  {
   "cell_type": "code",
   "execution_count": 2,
   "metadata": {},
   "outputs": [],
   "source": [
    "config.setup(\n",
    "    rpc_url=\"http://152.42.183.87:59117/5398d5bf-e929-4196-975d-01b3ca72f34c\",\n",
    "    privkey=\"0x8f960f290369ac3e0554f8a7d96557d81171bb7a0f067eac6e2d6ad9790c5355\"\n",
    ")"
   ]
  },
  {
   "cell_type": "code",
   "execution_count": 3,
   "metadata": {},
   "outputs": [],
   "source": [
    "setup_addr = \"0xE162F3696944255cc2850eb73418D34023884D1E\""
   ]
  },
  {
   "cell_type": "code",
   "execution_count": 4,
   "metadata": {},
   "outputs": [
    {
     "data": {
      "text/plain": [
       "HexBytes('0xaddf31dd9e094796d022d1b509b6388c7dab064f388ba166b6ca56552eb5aee2')"
      ]
     },
     "execution_count": 4,
     "metadata": {},
     "output_type": "execute_result"
    }
   ],
   "source": [
    "cast.send(setup_addr, \"solve(bytes)\", b\"CJ_INTERNATIONAL_2024-CHOVID99\")"
   ]
  },
  {
   "cell_type": "code",
   "execution_count": 5,
   "metadata": {},
   "outputs": [
    {
     "data": {
      "text/plain": [
       "HexBytes('0x0000000000000000000000000000000000000000000000000000000000000001')"
      ]
     },
     "execution_count": 5,
     "metadata": {},
     "output_type": "execute_result"
    }
   ],
   "source": [
    "cast.call(setup_addr, \"isSolved()\")"
   ]
  }
 ],
 "metadata": {
  "kernelspec": {
   "display_name": ".venv",
   "language": "python",
   "name": "python3"
  },
  "language_info": {
   "name": "python",
   "version": "3.12.6"
  }
 },
 "nbformat": 4,
 "nbformat_minor": 2
}
