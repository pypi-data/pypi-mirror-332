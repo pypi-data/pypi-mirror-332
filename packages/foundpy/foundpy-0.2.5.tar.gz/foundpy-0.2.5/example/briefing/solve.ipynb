{
 "cells": [
  {
   "cell_type": "code",
   "execution_count": 1,
   "metadata": {},
   "outputs": [],
   "source": [
    "from foundpy import *"
   ]
  },
  {
   "cell_type": "code",
   "execution_count": 2,
   "metadata": {},
   "outputs": [
    {
     "name": "stdout",
     "output_type": "stream",
     "text": [
      "solving PoW: s.AAAnEA==.0faunN16p07bsgCMkb1cQA==\n"
     ]
    },
    {
     "name": "stderr",
     "output_type": "stream",
     "text": [
      "  0%|          | 0/10000 [00:00<?, ?it/s]"
     ]
    },
    {
     "name": "stderr",
     "output_type": "stream",
     "text": [
      "100%|██████████| 10000/10000 [00:43<00:00, 230.25it/s]\n"
     ]
    },
    {
     "name": "stdout",
     "output_type": "stream",
     "text": [
      "PoW done\n",
      "UUID: ba15cc84-2ae1-4463-b328-1a0d8341ec39\n",
      "RPC Endpoint: http://103.178.153.113:30001/ba15cc84-2ae1-4463-b328-1a0d8341ec39\n",
      "Private Key: 0xecd0ac15a25910400a7cc6eb139ea74c6b11bbcf501c3b8ace2a50b1ce74ea0d\n",
      "Setup Contract: 0x31dc8c018eAe84333B28237D8f51498D515A4Df6\n",
      "Wallet: 0x77D2F68b0F5A77B484bC2BF172415C723bFb6c38\n",
      "Message: your private blockchain has been deployed, it will automatically terminate in 30 minutes\n"
     ]
    }
   ],
   "source": [
    "result = config.from_tcp1p(\"http://103.178.153.113:30001\")"
   ]
  },
  {
   "cell_type": "code",
   "execution_count": 3,
   "metadata": {},
   "outputs": [],
   "source": [
    "config.change_solc_version(\"0.8.25\")"
   ]
  },
  {
   "cell_type": "code",
   "execution_count": 4,
   "metadata": {},
   "outputs": [],
   "source": [
    "setup = Contract(result[\"setup_contract\"], \"Setup.sol\")"
   ]
  },
  {
   "cell_type": "code",
   "execution_count": 5,
   "metadata": {},
   "outputs": [
    {
     "data": {
      "text/plain": [
       "False"
      ]
     },
     "execution_count": 5,
     "metadata": {},
     "output_type": "execute_result"
    }
   ],
   "source": [
    "setup.call(\"isSolved\")"
   ]
  },
  {
   "cell_type": "code",
   "execution_count": 6,
   "metadata": {},
   "outputs": [],
   "source": [
    "briefing = Contract(setup.call(\"brief\"), \"Briefing.sol\")"
   ]
  },
  {
   "cell_type": "code",
   "execution_count": 7,
   "metadata": {},
   "outputs": [
    {
     "data": {
      "text/plain": [
       "HexBytes('0x0fd8fcd9f46d96a990270a160b0de4bdbc7b89f038983577ef0b496885cd4d50')"
      ]
     },
     "execution_count": 7,
     "metadata": {},
     "output_type": "execute_result"
    }
   ],
   "source": [
    "briefing.send(\"verifyCall\")"
   ]
  },
  {
   "cell_type": "code",
   "execution_count": 8,
   "metadata": {},
   "outputs": [
    {
     "data": {
      "text/plain": [
       "HexBytes('0x98c6e4be9f7aee8dbbd74256775b3848f2e3b2fa54d8be00788f4ea0ab2cff2f')"
      ]
     },
     "execution_count": 8,
     "metadata": {},
     "output_type": "execute_result"
    }
   ],
   "source": [
    "briefing.send(\"firstDeposit\", value=ether(5))"
   ]
  },
  {
   "cell_type": "code",
   "execution_count": 9,
   "metadata": {},
   "outputs": [
    {
     "data": {
      "text/plain": [
       "HexBytes('0xdd7f0fffbf80ea802b10f6a675c30239c4195c6467b57c7c7baa992147dfb1df')"
      ]
     },
     "execution_count": 9,
     "metadata": {},
     "output_type": "execute_result"
    }
   ],
   "source": [
    "briefing.send(\"putSomething\", 1337, \"Casino Heist Player\", config.wallet.address)"
   ]
  },
  {
   "cell_type": "code",
   "execution_count": 10,
   "metadata": {},
   "outputs": [
    {
     "data": {
      "text/plain": [
       "'0x04817BAF5F210279D02b84bEF06640E6c25338F2'"
      ]
     },
     "execution_count": 10,
     "metadata": {},
     "output_type": "execute_result"
    }
   ],
   "source": [
    "briefing.address"
   ]
  },
  {
   "cell_type": "code",
   "execution_count": 11,
   "metadata": {},
   "outputs": [
    {
     "name": "stdout",
     "output_type": "stream",
     "text": [
      "b'NowYouKnowStorageIsNotThatSafe..'\n"
     ]
    }
   ],
   "source": [
    "# secret = bytes.fromhex(\"4e6f77596f754b6e6f7753746f7261676549734e6f7454686174536166652e2e\")\n",
    "secret = briefing.storage(0)\n",
    "print(secret)"
   ]
  },
  {
   "cell_type": "code",
   "execution_count": 12,
   "metadata": {},
   "outputs": [
    {
     "name": "stdout",
     "output_type": "stream",
     "text": [
      "1922116785079289491\n"
     ]
    }
   ],
   "source": [
    "print(config.wallet.get_balance())"
   ]
  },
  {
   "cell_type": "code",
   "execution_count": 13,
   "metadata": {},
   "outputs": [
    {
     "data": {
      "text/plain": [
       "HexBytes('0x19bbf732249b0bc12e8fb79698840759a45decbf9f466f10d1b4e5890558da95')"
      ]
     },
     "execution_count": 13,
     "metadata": {},
     "output_type": "execute_result"
    }
   ],
   "source": [
    "# config.wallet.send(briefing.address,int(1 * 10**18))\n",
    "# cast.send(briefing.address, \"\", value=ether(1))\n",
    "briefing.send(\"\", value=ether(1))"
   ]
  },
  {
   "cell_type": "code",
   "execution_count": 14,
   "metadata": {},
   "outputs": [
    {
     "data": {
      "text/plain": [
       "HexBytes('0xc684c4a57e604430572d8fa9324b090e4e01d3290c866c362941c2c49d75470e')"
      ]
     },
     "execution_count": 14,
     "metadata": {},
     "output_type": "execute_result"
    }
   ],
   "source": [
    "briefing.send(\"Finalize\", secret)"
   ]
  },
  {
   "cell_type": "code",
   "execution_count": 15,
   "metadata": {},
   "outputs": [
    {
     "data": {
      "text/plain": [
       "True"
      ]
     },
     "execution_count": 15,
     "metadata": {},
     "output_type": "execute_result"
    }
   ],
   "source": [
    "setup.call(\"isSolved\")"
   ]
  },
  {
   "cell_type": "code",
   "execution_count": 16,
   "metadata": {},
   "outputs": [
    {
     "data": {
      "text/plain": [
       "'ENUMA{Briefing_completed!_Now_Gearing_up!}'"
      ]
     },
     "execution_count": 16,
     "metadata": {},
     "output_type": "execute_result"
    }
   ],
   "source": [
    "config.flag()"
   ]
  }
 ],
 "metadata": {
  "kernelspec": {
   "display_name": ".venv",
   "language": "python",
   "name": "python3"
  },
  "language_info": {
   "codemirror_mode": {
    "name": "ipython",
    "version": 3
   },
   "file_extension": ".py",
   "mimetype": "text/x-python",
   "name": "python",
   "nbconvert_exporter": "python",
   "pygments_lexer": "ipython3",
   "version": "3.12.6"
  }
 },
 "nbformat": 4,
 "nbformat_minor": 2
}
