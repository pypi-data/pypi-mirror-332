{
 "cells": [
  {
   "cell_type": "markdown",
   "metadata": {},
   "source": [
    "# MSAID output preparation"
   ]
  },
  {
   "cell_type": "markdown",
   "metadata": {},
   "source": [
    "This Jupyter Notebook serves to add protein information from proteingroups.tsv to precursors.tsv, for Proteobench upload"
   ]
  },
  {
   "cell_type": "code",
   "execution_count": 16,
   "metadata": {},
   "outputs": [],
   "source": [
    "import pandas as pd"
   ]
  },
  {
   "cell_type": "code",
   "execution_count": 17,
   "metadata": {},
   "outputs": [],
   "source": [
    "# Change paths to your local paths\n",
    "input_path = \"/mnt/d/Proteobench_manuscript_data/run_output/MSAID_default/\"\n",
    "output_path = \"/mnt/d/Proteobench_manuscript_data/run_output/MSAID_default/\""
   ]
  },
  {
   "cell_type": "code",
   "execution_count": 18,
   "metadata": {},
   "outputs": [],
   "source": [
    "# Change the path to your proteingroups.tsv and precursors.tsv files\n",
    "protein_file = pd.read_csv(input_path + 'proteingroups.tsv', sep='\\t')\n",
    "precursor_file = pd.read_csv(input_path + 'precursors.tsv', sep='\\t')"
   ]
  },
  {
   "cell_type": "code",
   "execution_count": 19,
   "metadata": {},
   "outputs": [],
   "source": [
    "# Map the proteins to the precursors using the \"PROTEIN_IDS\" column in the precursor file\n",
    "def add_fasta_headers(prec_df, protein_df):\n",
    "    # Create a dictionary from the second DataFrame for fast look-up\n",
    "    protein_to_header = dict(zip(protein_df['PROTEIN_IDS'], protein_df['FASTA_HEADERS']))\n",
    "\n",
    "    # Function to find and join headers for each PROTEIN_IDS entry\n",
    "    def get_fasta_headers(protein_ids):\n",
    "        ids = protein_ids.split(';')  # Split the IDs by the separator\n",
    "        headers = [protein_to_header.get(protein_id.strip(), '') for protein_id in ids]\n",
    "        headers = [header for header in headers if header]  # Remove empty headers\n",
    "        return '; '.join(headers) if headers else None\n",
    "\n",
    "    # Apply the function to the PROTEIN_IDS column and create a new FASTA_HEADERS column\n",
    "    prec_df['FASTA_HEADERS'] = prec_df['PROTEIN_IDS'].apply(get_fasta_headers)\n",
    "\n",
    "    return prec_df"
   ]
  },
  {
   "cell_type": "code",
   "execution_count": 20,
   "metadata": {},
   "outputs": [],
   "source": [
    "prec_df_with_headers = add_fasta_headers(precursor_file, protein_file)"
   ]
  },
  {
   "cell_type": "code",
   "execution_count": 21,
   "metadata": {},
   "outputs": [],
   "source": [
    "# Change the path to the output file\n",
    "prec_df_with_headers.to_csv(output_path + 'precursors_with_headers.tsv', sep='\\t', index=False)"
   ]
  }
 ],
 "metadata": {
  "kernelspec": {
   "display_name": "proteobench",
   "language": "python",
   "name": "python3"
  },
  "language_info": {
   "codemirror_mode": {
    "name": "ipython",
    "version": 3
   },
   "file_extension": ".py",
   "mimetype": "text/x-python",
   "name": "python",
   "nbconvert_exporter": "python",
   "pygments_lexer": "ipython3",
   "version": "3.11.9"
  }
 },
 "nbformat": 4,
 "nbformat_minor": 2
}
