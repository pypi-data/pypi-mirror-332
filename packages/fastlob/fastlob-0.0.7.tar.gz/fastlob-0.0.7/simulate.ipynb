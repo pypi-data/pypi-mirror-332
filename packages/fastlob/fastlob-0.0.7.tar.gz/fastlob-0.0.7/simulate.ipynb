{
 "cells": [
  {
   "cell_type": "code",
   "execution_count": 1,
   "id": "eadfbd02",
   "metadata": {},
   "outputs": [],
   "source": [
    "import random\n",
    "import time\n",
    "import matplotlib.pyplot as plt\n",
    "from scipy import stats\n",
    "from IPython.display import clear_output\n",
    "\n",
    "import fastlob as lob"
   ]
  },
  {
   "cell_type": "code",
   "execution_count": 2,
   "id": "68e566bb",
   "metadata": {},
   "outputs": [],
   "source": [
    "def generate_orders(n: int):\n",
    "    result = list()\n",
    "    \n",
    "    for _ in range(n):\n",
    "    \n",
    "        midprice = 110_000\n",
    "    \n",
    "        n_ask_limits = stats.poisson.rvs(1000)\n",
    "        n_bid_limits = stats.poisson.rvs(1000)\n",
    "    \n",
    "        ask_limits_price = stats.expon.rvs(loc=midprice, scale=1, size=n_ask_limits)\n",
    "        bid_limits_price = -stats.expon.rvs(loc=midprice, scale=1, size=n_bid_limits) + 2*midprice\n",
    "    \n",
    "        ask_limits_quantities = stats.uniform.rvs(loc=1, scale=100, size=n_ask_limits)\n",
    "        bid_limits_quantities = stats.uniform.rvs(loc=1, scale=100, size=n_bid_limits)\n",
    "    \n",
    "        ask_limits_params = [lob.OrderParams(lob.OrderSide.ASK, p, q) for (p, q) in zip(ask_limits_price, ask_limits_quantities)]\n",
    "        bid_limits_params = [lob.OrderParams(lob.OrderSide.BID, p, q) for (p, q) in zip(bid_limits_price, bid_limits_quantities)]\n",
    "    \n",
    "        n_markets = stats.poisson.rvs(100)\n",
    "    \n",
    "        markets_price = stats.norm.rvs(loc=midprice, scale=2, size=n_markets)\n",
    "        markets_quantities = stats.uniform.rvs(loc=1, scale=100, size=n_markets)\n",
    "        markets_bid_or_ask = [random.choice((lob.OrderSide.BID, lob.OrderSide.ASK)) for _ in range(n_markets)]\n",
    "    \n",
    "        markets_params = [lob.OrderParams(s, p, q) for (s, p, q) in zip(markets_bid_or_ask, markets_price, markets_quantities)]\n",
    "    \n",
    "        orders = ask_limits_params + bid_limits_params + markets_params\n",
    "        random.shuffle(orders)\n",
    "        \n",
    "        result.append(orders)\n",
    "        \n",
    "    return result"
   ]
  },
  {
   "cell_type": "code",
   "execution_count": 6,
   "id": "3a672864",
   "metadata": {},
   "outputs": [],
   "source": [
    "def simulate(orders):\n",
    "    ob = lob.Orderbook('Simulation')\n",
    "    ob.start()\n",
    "\n",
    "    for o in orders:\n",
    "        ob.process_many(o)\n",
    "        ob.render()\n",
    "        time.sleep(0.1)\n",
    "        clear_output(wait=True)\n",
    "        \n",
    "    ob.stop()"
   ]
  },
  {
   "cell_type": "code",
   "execution_count": 7,
   "id": "561b31ef",
   "metadata": {},
   "outputs": [
    {
     "name": "stdout",
     "output_type": "stream",
     "text": [
      "   [ORDER-BOOK Simulation]\n",
      "\n",
      "\u001b[31m   ...(724 more asks)\n",
      " - 110000.09 | 920 | 46485.51 | 5113410283.6959\n",
      " - 110000.08 | 1000 | 51850.57 | 5703566848.0456\n",
      " - 110000.07 | 930 | 47492.21 | 5224146424.4547\n",
      " - 110000.06 | 926 | 47706.77 | 5247747562.4062\n",
      " - 110000.05 | 952 | 48788.70 | 5366759439.4350\n",
      " - 110000.04 | 908 | 45304.02 | 4983444012.1608\n",
      " - 110000.03 | 844 | 44243.16 | 4866748927.2948\n",
      " - 110000.02 | 011 | 00672.44 | 73968413.4488\n",
      " - 110000.01 | 001 | 00085.78 | 9435800.8578\n",
      " - 110000.00 | 002 | 00034.65 | 3811500.0000\n",
      "\u001b[0m ~~~~~~~~~~~~~~~~~~~~~~~~~~~~~~~~~~~~~~~~~~~~\n",
      "\u001b[32m - 109999.98 | 007 | 00375.04 | 41254392.4992\n",
      " - 109999.97 | 776 | 39764.51 | 4374094907.0647\n",
      " - 109999.96 | 958 | 49556.91 | 5451258117.7236\n",
      " - 109999.95 | 944 | 48684.21 | 5355260665.7895\n",
      " - 109999.94 | 979 | 48058.67 | 5286450816.4798\n",
      " - 109999.93 | 956 | 49280.40 | 5420840550.3720\n",
      " - 109999.92 | 946 | 48990.02 | 5388898280.7984\n",
      " - 109999.91 | 890 | 45545.68 | 5010020700.8888\n",
      " - 109999.90 | 872 | 45153.92 | 4966926684.6080\n",
      " - 109999.89 | 876 | 45064.47 | 4957086742.9083\n",
      "   ...(739 more bids)\n",
      "\u001b[0m\u001b[34m\n",
      "    Spread = 0.02\u001b[0m\u001b[34m, Mid-price = 109999.990\u001b[0m\n"
     ]
    }
   ],
   "source": [
    "orders = generate_orders(100)\n",
    "simulate(orders)"
   ]
  }
 ],
 "metadata": {
  "kernelspec": {
   "display_name": "venv",
   "language": "python",
   "name": "venv"
  },
  "language_info": {
   "codemirror_mode": {
    "name": "ipython",
    "version": 3
   },
   "file_extension": ".py",
   "mimetype": "text/x-python",
   "name": "python",
   "nbconvert_exporter": "python",
   "pygments_lexer": "ipython3",
   "version": "3.12.3"
  }
 },
 "nbformat": 4,
 "nbformat_minor": 5
}
