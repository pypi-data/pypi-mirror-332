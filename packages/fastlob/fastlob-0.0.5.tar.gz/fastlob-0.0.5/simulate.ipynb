{
 "cells": [
  {
   "cell_type": "code",
   "execution_count": null,
   "id": "eadfbd02",
   "metadata": {},
   "outputs": [],
   "source": [
    "import random\n",
    "import time\n",
    "import matplotlib.pyplot as plt\n",
    "from scipy import stats\n",
    "from IPython.display import clear_output\n",
    "\n",
    "import fastlob as lob"
   ]
  },
  {
   "cell_type": "code",
   "execution_count": 2,
   "id": "68e566bb",
   "metadata": {},
   "outputs": [],
   "source": [
    "def generate_orders(n: int):\n",
    "    result = list()\n",
    "    \n",
    "    for _ in range(n):\n",
    "    \n",
    "        midprice = 110_000\n",
    "    \n",
    "        n_ask_limits = stats.poisson.rvs(1000)\n",
    "        n_bid_limits = stats.poisson.rvs(1000)\n",
    "    \n",
    "        ask_limits_price = stats.expon.rvs(loc=midprice, scale=1, size=n_ask_limits)\n",
    "        bid_limits_price = -stats.expon.rvs(loc=midprice, scale=1, size=n_bid_limits) + 2*midprice\n",
    "    \n",
    "        ask_limits_quantities = stats.uniform.rvs(loc=1, scale=100, size=n_ask_limits)\n",
    "        bid_limits_quantities = stats.uniform.rvs(loc=1, scale=100, size=n_bid_limits)\n",
    "    \n",
    "        ask_limits_params = [lob.OrderParams(lob.OrderSide.ASK, p, q) for (p, q) in zip(ask_limits_price, ask_limits_quantities)]\n",
    "        bid_limits_params = [lob.OrderParams(lob.OrderSide.BID, p, q) for (p, q) in zip(bid_limits_price, bid_limits_quantities)]\n",
    "    \n",
    "        n_markets = stats.poisson.rvs(100)\n",
    "    \n",
    "        markets_price = stats.norm.rvs(loc=midprice, scale=2, size=n_markets)\n",
    "        markets_quantities = stats.uniform.rvs(loc=1, scale=100, size=n_markets)\n",
    "        markets_bid_or_ask = [random.choice((lob.OrderSide.BID, lob.OrderSide.ASK)) for _ in range(n_markets)]\n",
    "    \n",
    "        markets_params = [lob.OrderParams(s, p, q) for (s, p, q) in zip(markets_bid_or_ask, markets_price, markets_quantities)]\n",
    "    \n",
    "        orders = ask_limits_params + bid_limits_params + markets_params\n",
    "        random.shuffle(orders)\n",
    "        \n",
    "        result.append(orders)\n",
    "        \n",
    "    return result"
   ]
  },
  {
   "cell_type": "code",
   "execution_count": null,
   "id": "3a672864",
   "metadata": {},
   "outputs": [],
   "source": [
    "def simulate(orders):\n",
    "    ob = lob.Orderbook('Simulation')\n",
    "    ob.start()\n",
    "\n",
    "    for o in orders:\n",
    "        ob.process_many(o)\n",
    "        print(ob.view())\n",
    "        time.sleep(0.7)\n",
    "        clear_output(wait=True)\n",
    "        \n",
    "    ob.stop()"
   ]
  },
  {
   "cell_type": "code",
   "execution_count": 4,
   "id": "561b31ef",
   "metadata": {},
   "outputs": [
    {
     "name": "stdout",
     "output_type": "stream",
     "text": [
      "   [ORDER-BOOK Simulation]\n",
      "\n",
      "\u001b[31m   ...(488 more asks)\n",
      " - 110000.11 | 104 | 05278.82 | 580670780.6702\n",
      " - 110000.10 | 109 | 05426.20 | 596882542.6200\n",
      " - 110000.09 | 097 | 05241.55 | 576570971.7395\n",
      " - 110000.08 | 106 | 05427.99 | 597079334.2392\n",
      " - 110000.07 | 096 | 04329.72 | 476269503.0804\n",
      " - 110000.06 | 106 | 05294.86 | 582434917.6916\n",
      " - 110000.05 | 105 | 05426.34 | 596897671.3170\n",
      " - 110000.04 | 105 | 05714.87 | 628635928.5948\n",
      " - 110000.03 | 085 | 04230.66 | 465372726.9198\n",
      " - 110000.02 | 001 | 00028.14 | 3095400.5628\n",
      "\u001b[0m ~~~~~~~~~~~~~~~~~~~~~~~~~~~~~~~~~~~~~~~~~~~\n",
      "\u001b[32m - 110000.00 | 001 | 00010.95 | 1204500.0000\n",
      " - 109999.99 | 001 | 00043.70 | 4806999.5630\n",
      " - 109999.98 | 033 | 01758.88 | 193476764.8224\n",
      " - 109999.97 | 079 | 04365.45 | 480199369.0365\n",
      " - 109999.96 | 086 | 04326.25 | 475887326.9500\n",
      " - 109999.95 | 074 | 03996.71 | 439637900.1645\n",
      " - 109999.94 | 107 | 05547.12 | 610182867.1728\n",
      " - 109999.93 | 109 | 05437.18 | 598089419.3974\n",
      " - 109999.92 | 090 | 04751.18 | 522629419.9056\n",
      " - 109999.91 | 102 | 05104.10 | 561450540.6310\n",
      "   ...(491 more bids)\n",
      "\u001b[0m\u001b[34m\n",
      "    Spread = 0.02\u001b[0m\u001b[34m, Mid-price = 110000.010\u001b[0m\n"
     ]
    }
   ],
   "source": [
    "orders = generate_orders(10)\n",
    "simulate(orders)"
   ]
  }
 ],
 "metadata": {
  "kernelspec": {
   "display_name": "venv",
   "language": "python",
   "name": "venv"
  },
  "language_info": {
   "codemirror_mode": {
    "name": "ipython",
    "version": 3
   },
   "file_extension": ".py",
   "mimetype": "text/x-python",
   "name": "python",
   "nbconvert_exporter": "python",
   "pygments_lexer": "ipython3",
   "version": "3.12.3"
  }
 },
 "nbformat": 4,
 "nbformat_minor": 5
}
