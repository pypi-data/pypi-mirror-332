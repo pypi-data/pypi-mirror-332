{
 "cells": [
  {
   "cell_type": "code",
   "execution_count": 1,
   "id": "ede27428-5453-431e-a6f0-81fe095f2119",
   "metadata": {},
   "outputs": [],
   "source": [
    "import wasm_test_widget"
   ]
  },
  {
   "cell_type": "code",
   "execution_count": 2,
   "id": "90303b74-2f7f-4701-8099-78cd19636614",
   "metadata": {},
   "outputs": [
    {
     "name": "stdout",
     "output_type": "stream",
     "text": [
      "constructing widget\n"
     ]
    }
   ],
   "source": [
    "w = wasm_test_widget.WasmTestWidget()"
   ]
  },
  {
   "cell_type": "code",
   "execution_count": 3,
   "id": "82b28e12-7d05-46f3-8aae-15b1162cdd65",
   "metadata": {},
   "outputs": [
    {
     "data": {
      "application/vnd.jupyter.widget-view+json": {
       "model_id": "01afa6d1fc46494981222c25ef1da14b",
       "version_major": 2,
       "version_minor": 0
      },
      "text/plain": [
       "WasmTestWidget()"
      ]
     },
     "execution_count": 3,
     "metadata": {},
     "output_type": "execute_result"
    }
   ],
   "source": [
    "w"
   ]
  }
 ],
 "metadata": {
  "kernelspec": {
   "display_name": "Python [conda env:lcvis-widget-dev] *",
   "language": "python",
   "name": "conda-env-lcvis-widget-dev-py"
  },
  "language_info": {
   "codemirror_mode": {
    "name": "ipython",
    "version": 3
   },
   "file_extension": ".py",
   "mimetype": "text/x-python",
   "name": "python",
   "nbconvert_exporter": "python",
   "pygments_lexer": "ipython3",
   "version": "3.13.2"
  }
 },
 "nbformat": 4,
 "nbformat_minor": 5
}
