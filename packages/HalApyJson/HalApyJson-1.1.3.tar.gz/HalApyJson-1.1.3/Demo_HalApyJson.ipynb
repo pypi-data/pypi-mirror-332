{
 "cells": [
  {
   "cell_type": "markdown",
   "metadata": {},
   "source": [
    "# DEMO of HalApyJson\n",
    "The request to the HAL API is built out on the fields defined in the file ~\\Appdata\\Roaming\\HalApyJson\\hal_config.json"
   ]
  },
  {
   "cell_type": "code",
   "execution_count": null,
   "metadata": {},
   "outputs": [],
   "source": [
    "# Get the content of the json file  ~\\Appdata\\Roaming\\HalApyJson\\hal_config.json\n",
    "\n",
    "# Local library imports\n",
    "import HalApyJson as haj\n",
    "\n",
    "haj.GLOBAL"
   ]
  },
  {
   "cell_type": "code",
   "execution_count": null,
   "metadata": {},
   "outputs": [],
   "source": [
    "# Exemple of a query built using the json file ~\\Appdata\\Roaming\\HalApyJson\\hal_config.json\n",
    "\n",
    "# Internal library imports\n",
    "from HalApyJson.api_manager import _set_hal_api\n",
    "\n",
    "year = \"2023\"\n",
    "institute = 'esrf'\n",
    "_set_hal_api(year,institute)"
   ]
  },
  {
   "cell_type": "code",
   "execution_count": null,
   "metadata": {},
   "outputs": [],
   "source": [
    "# Exemple of a response to the HAL API using `get_response_from_api` function\n",
    "\n",
    "# Local library imports\n",
    "import HalApyJson as haj\n",
    "\n",
    "year = \"2023\"\n",
    "institute = 'esrf'\n",
    "response = haj.get_response_from_api(year, institute)\n",
    "dic = response.json() # mute the requests.model.Response to a hierarchical dict\n",
    "dic['response']['docs'][0].keys() # Example of content of the first item \n"
   ]
  },
  {
   "cell_type": "code",
   "execution_count": null,
   "metadata": {},
   "outputs": [],
   "source": []
  }
 ],
 "metadata": {
  "kernelspec": {
   "display_name": "HalApyJson_ker",
   "language": "python",
   "name": "halapyjson_ker"
  },
  "language_info": {
   "codemirror_mode": {
    "name": "ipython",
    "version": 3
   },
   "file_extension": ".py",
   "mimetype": "text/x-python",
   "name": "python",
   "nbconvert_exporter": "python",
   "pygments_lexer": "ipython3",
   "version": "3.9.7"
  }
 },
 "nbformat": 4,
 "nbformat_minor": 4
}
