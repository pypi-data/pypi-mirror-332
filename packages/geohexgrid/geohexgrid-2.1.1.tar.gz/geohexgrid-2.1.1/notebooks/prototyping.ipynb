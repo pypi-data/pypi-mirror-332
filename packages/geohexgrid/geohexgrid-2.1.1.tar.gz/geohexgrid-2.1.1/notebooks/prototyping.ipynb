{
 "cells": [
  {
   "cell_type": "code",
   "execution_count": null,
   "id": "0",
   "metadata": {},
   "outputs": [],
   "source": [
    "import sys\n",
    "import pathlib as pl\n",
    "import math\n",
    "\n",
    "import numpy as np\n",
    "import geopandas as gpd\n",
    "import shapely.geometry as sg\n",
    "import matplotlib.pyplot as plt\n",
    "from loguru import logger\n",
    "\n",
    "sys.path.append(\"../\")\n",
    "\n",
    "import geohexgrid as ghg\n",
    "\n",
    "\n",
    "%load_ext autoreload\n",
    "%autoreload 2\n",
    "\n",
    "DATA_DIR = pl.Path(\"../tests/data\")\n",
    "NZTM = \"epsg:2193\"  # New Zealand Transverse Mercator CRS\n",
    "WGS84 = \"epsg:4326\""
   ]
  },
  {
   "cell_type": "code",
   "execution_count": null,
   "id": "1",
   "metadata": {},
   "outputs": [],
   "source": [
    "nrows, ncols, R = 1000, 1000, 1 \n",
    "a0, b0 = -2, -2\n",
    "x0, y0 = ghg.double_to_cartesian(a0, b0, R)\n",
    "%time grid = ghg.make_grid(nrows, ncols, R, x0, y0, a0=a0, b0=b0)\n"
   ]
  },
  {
   "cell_type": "code",
   "execution_count": null,
   "id": "2",
   "metadata": {},
   "outputs": [],
   "source": [
    "# make_grid_points and make_grid\n",
    "\n",
    "nrows, ncols, R = 3, 4, 1 \n",
    "a0, b0 = -2, -2\n",
    "x0, y0 = ghg.double_to_cartesian(a0, b0, R)\n",
    "X, Y = ghg.make_grid_points(nrows, ncols, R, x0, y0)\n",
    "grid = ghg.make_grid(nrows, ncols, R, x0, y0, a0=a0, b0=b0)\n",
    "display(grid.head())\n",
    "print(grid[\"cell_id\"].tolist())\n",
    "\n",
    "fig, ax = plt.subplots()\n",
    "ax.scatter(X, Y, color=\"black\", alpha=0.9)\n",
    "grid.plot(ax=ax, color=\"white\", edgecolor=\"red\", alpha=0.9, aspect=\"equal\")\n",
    "# Plot labelling from https://stackoverflow.com/a/38902492\n",
    "grid.apply(\n",
    "    lambda x: ax.annotate(\n",
    "        text=x['cell_id'], \n",
    "        xy=x.geometry.centroid.coords[0], \n",
    "        ha='center', \n",
    "        color=\"red\"\n",
    "    ), \n",
    "    axis=1\n",
    ");\n",
    "\n",
    "# Areas should be correct\n",
    "assert np.allclose(grid.area, 3 * np.sqrt(3) * R**2 / 2)"
   ]
  },
  {
   "cell_type": "code",
   "execution_count": null,
   "id": "3",
   "metadata": {},
   "outputs": [],
   "source": [
    "grid = ghg.make_grid(2, 3, R=1, x0=2, y0=1)\n",
    "display(grid)\n",
    "grid[\"cell_id\"].tolist()\n",
    "\n",
    "p = grid.union_all().boundary\n",
    "display(p, p.is_ring)\n",
    "\n",
    "p1 = grid[\"geometry\"].iat[0].buffer(-0.001)\n",
    "p2 = grid[\"geometry\"].iat[1]\n",
    "q = p1.union(p2).boundary\n",
    "\n",
    "display(q, q.is_ring)\n"
   ]
  },
  {
   "cell_type": "code",
   "execution_count": null,
   "id": "4",
   "metadata": {},
   "outputs": [],
   "source": [
    "# make_grid_from_bounds\n",
    "\n",
    "R = 1\n",
    "r = ghg.K * R\n",
    "rect = gpd.GeoDataFrame(geometry=[sg.Polygon([(-0.6*R, -0.1), (2.2*R, -0.1), (2.2*R, 3.2*r), (-0.6*R, 3.2*r)])])\n",
    "grid = ghg.make_grid_from_bounds(*rect.total_bounds, R=R) #, ox=-2*R/3, oy=-2*R/3)\n",
    "display(grid.head())\n",
    "print(grid[\"cell_id\"].tolist())\n",
    "\n",
    "base = rect.plot(color='gray', aspect=\"equal\")\n",
    "grid.plot(ax=base, color=\"white\", edgecolor=\"red\", alpha=0.5)"
   ]
  },
  {
   "cell_type": "code",
   "execution_count": null,
   "id": "5",
   "metadata": {},
   "outputs": [],
   "source": [
    "# make_grid_from_bounds\n",
    "\n",
    "R = 1\n",
    "r = ghg.K * R\n",
    "rect = gpd.GeoDataFrame(geometry=[sg.Polygon([(-R/2, -r), (R/2, -r), (R/2, r), (-R/2, r)])])\n",
    "grid = ghg.make_grid_from_bounds(*rect.total_bounds, R=R, ox=-3*R/2, oy=-r)\n",
    "display(grid.head())\n",
    "print(grid[\"cell_id\"].tolist())\n",
    "\n",
    "base = rect.plot(color='gray', aspect=\"equal\")\n",
    "grid.plot(ax=base, color=\"white\", edgecolor=\"red\", alpha=0.5)"
   ]
  },
  {
   "cell_type": "code",
   "execution_count": null,
   "id": "6",
   "metadata": {},
   "outputs": [],
   "source": [
    "rect = gpd.GeoDataFrame(geometry=[sg.Polygon([(0, 0), (1, 0), (1, 1), (0, 1)])])\n",
    "for grid in [\n",
    "    ghg.make_grid_from_bounds(*rect.total_bounds, R=0.27, ox=0, oy=0),\n",
    "    ghg.make_grid_from_bounds(*rect.total_bounds, R=0.2, ox=0, oy=0),\n",
    "    ghg.make_grid_from_bounds(*rect.total_bounds, R=0.5, ox=0, oy=0.1),\n",
    "    ghg.make_grid_from_bounds(*rect.total_bounds, R=1, ox=0.6, oy=0),\n",
    "]:\n",
    "    fig, ax = plt.subplots()\n",
    "    rect.plot(ax=ax, color=\"red\")\n",
    "    grid.plot(ax=ax, color=\"blue\", alpha=0.5)\n",
    "    plt.show()\n"
   ]
  },
  {
   "cell_type": "code",
   "execution_count": null,
   "id": "7",
   "metadata": {},
   "outputs": [],
   "source": [
    "g = gpd.GeoDataFrame({\"geometry\": [sg.LineString([(0, 0), (1, 0), (1, 1), (0, 1)])]})\n",
    "for i in range(0, 20):\n",
    "    R = (i + 1)/10 \n",
    "    r = ghg.K*R\n",
    "    grid = ghg.make_grid_from_gdf(g, R=R, ox=-3*R/2 - 0.1, oy=-r - 0.1)\n",
    "    assert grid.union_all().contains(g.union_all())\n",
    "\n",
    "    fig, ax = plt.subplots()\n",
    "    g.plot(ax=ax, color=\"red\")\n",
    "    grid.plot(ax=ax, color=\"blue\", alpha=0.5)\n",
    "    plt.show()"
   ]
  },
  {
   "cell_type": "code",
   "execution_count": null,
   "id": "8",
   "metadata": {},
   "outputs": [],
   "source": [
    "shape = gpd.GeoDataFrame(geometry=[sg.Polygon([(1, -1), (3, 1), (0, 3)])])\n",
    "grid = ghg.make_grid_from_gdf(shape, R=1)\n",
    "\n",
    "display(grid.head())\n",
    "print(grid[\"cell_id\"].tolist())\n",
    "\n",
    "base = shape.plot(color='gray', aspect=\"equal\")\n",
    "grid.plot(ax=base, color=\"white\", edgecolor=\"red\", alpha=0.5)"
   ]
  },
  {
   "cell_type": "code",
   "execution_count": null,
   "id": "9",
   "metadata": {},
   "outputs": [],
   "source": [
    "# make_grid_from_gdf\n",
    "\n",
    "shapes = gpd.read_file(DATA_DIR / \"shapes.geojson\").to_crs(NZTM)\n",
    "R = 900\n",
    "grid = ghg.make_grid_from_gdf(shapes, R=R)\n",
    "display(grid.head())\n",
    "\n",
    "assert grid.union_all().contains(shapes.union_all())\n",
    "\n",
    "base = shapes.plot(color='gray', aspect=\"equal\")\n",
    "grid.plot(ax=base, color=\"white\", edgecolor=\"red\", alpha=0.5)\n"
   ]
  },
  {
   "cell_type": "code",
   "execution_count": null,
   "id": "10",
   "metadata": {},
   "outputs": [],
   "source": [
    "# Prettier test\n",
    "\n",
    "shapes = gpd.read_file(DATA_DIR / \"nz_tas.gpkg\")\n",
    "display(nz.crs)\n",
    "%time grid = ghg.make_grid_from_gdf(shapes, R=10_000) # 10 km circumradius\n",
    "\n",
    "assert grid.union_all().contains(shapes.union_all())\n",
    "\n",
    "base = shapes.plot(color='black', aspect=\"equal\", figsize=(10, 10))\n",
    "grid.plot(ax=base, color='white', edgecolor=\"red\", alpha=0.5)\n",
    "\n",
    "plt.axis('off')\n",
    "plt.savefig('../nz_10000m.png', bbox_inches='tight')"
   ]
  },
  {
   "cell_type": "code",
   "execution_count": null,
   "id": "11",
   "metadata": {},
   "outputs": [],
   "source": [
    "# Speed test. Takes about 15 seconds on my computer.\n",
    "\n",
    "nz = gpd.read_file(DATA_DIR / \"nz_tas.gpkg\")\n",
    "akl = nz.loc[lambda x: x[\"ta2021_name\"] == \"Auckland\"]\n",
    "%time grid = ghg.make_grid_from_gdf(akl, R=250) \n",
    "\n",
    "base = akl.plot(color='black', figsize=(20, 20), aspect=\"equal\")\n",
    "grid.plot(ax=base, color='white', edgecolor=\"red\", alpha=0.5)\n",
    "\n",
    "assert grid.union_all().contains(akl.union_all())\n",
    "\n"
   ]
  },
  {
   "cell_type": "code",
   "execution_count": null,
   "id": "12",
   "metadata": {},
   "outputs": [],
   "source": []
  }
 ],
 "metadata": {
  "kernelspec": {
   "display_name": "Python 3 (ipykernel)",
   "language": "python",
   "name": "python3"
  },
  "language_info": {
   "codemirror_mode": {
    "name": "ipython",
    "version": 3
   },
   "file_extension": ".py",
   "mimetype": "text/x-python",
   "name": "python",
   "nbconvert_exporter": "python",
   "pygments_lexer": "ipython3",
   "version": "3.11.10"
  }
 },
 "nbformat": 4,
 "nbformat_minor": 5
}
