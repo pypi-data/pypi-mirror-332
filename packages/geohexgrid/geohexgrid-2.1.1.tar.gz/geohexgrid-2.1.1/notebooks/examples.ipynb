{
 "cells": [
  {
   "cell_type": "code",
   "execution_count": null,
   "id": "17592634",
   "metadata": {},
   "outputs": [],
   "source": [
    "import sys\n",
    "import pathlib as pl\n",
    "import math\n",
    "\n",
    "import numpy as np\n",
    "import geopandas as gpd\n",
    "import shapely.geometry as sg\n",
    "import matplotlib.pyplot as plt\n",
    "\n",
    "sys.path.append(\"../\")\n",
    "\n",
    "import geohexgrid as ghg\n",
    "\n",
    "%load_ext autoreload\n",
    "%autoreload 2\n",
    "\n",
    "DATA_DIR = pl.Path(\"../tests/data\")\n",
    "NZTM = \"epsg:2193\"  # New Zealand Transverse Mercator CRS\n",
    "WGS84 = \"epsg:4326\""
   ]
  },
  {
   "cell_type": "markdown",
   "id": "d1e76ff6-e5df-4790-ab81-c418c50779a7",
   "metadata": {},
   "source": [
    "# Using `make_grid_points` and `make_grid`\n",
    "\n",
    "Hexagons are named (via the `cell_id` column) by their *double coordinates* as shown here \n",
    "and [described in more detail by Red Blob Games](https://www.redblobgames.com/grids/hexagons/#coordinates-doubled) ."
   ]
  },
  {
   "cell_type": "code",
   "execution_count": null,
   "id": "953d28a5",
   "metadata": {},
   "outputs": [],
   "source": [
    "# Make a 3 x 4 hex grid centered at (0, 0) and starting with (southwest) cell -2,-2.\n",
    "nrows, ncols, R = 3, 4, 1 \n",
    "a0, b0 = -2, -2  \n",
    "x0, y0 = ghg.double_to_cartesian(a0, b0, R)\n",
    "X, Y = ghg.make_grid_points(nrows, ncols, R, x0, y0)\n",
    "grid = ghg.make_grid(nrows, ncols, R, x0, y0, a0=a0, b0=b0)\n",
    "display(grid.head())\n",
    "print(grid[\"cell_id\"].tolist())\n",
    "\n",
    "# Plot\n",
    "fig, ax = plt.subplots()\n",
    "ax.scatter(X, Y, color=\"black\", alpha=0.9)\n",
    "grid.plot(ax=ax, color=\"white\", edgecolor=\"red\", alpha=0.9, aspect=\"equal\")\n",
    "# Plot labels taken from https://stackoverflow.com/a/38902492\n",
    "grid.apply(\n",
    "    lambda x: ax.annotate(\n",
    "        text=x['cell_id'], \n",
    "        xy=x.geometry.centroid.coords[0], \n",
    "        ha='center', \n",
    "        color=\"red\"\n",
    "    ), \n",
    "    axis=1\n",
    ");\n",
    "\n",
    "# Areas should be correct\n",
    "assert np.allclose(grid.area, 3 * np.sqrt(3) * R**2 / 2)"
   ]
  },
  {
   "cell_type": "code",
   "execution_count": null,
   "id": "140e9b52-3ea1-4d9e-be2f-32bfefbdf852",
   "metadata": {},
   "outputs": [],
   "source": [
    "# The grid should be gapless\n",
    "p = grid.unary_union.boundary\n",
    "display(p, p.is_ring)\n",
    "\n",
    "# Here's a non-gapless collection of hexagons\n",
    "p1 = grid[\"geometry\"].iat[0].buffer(-0.001)\n",
    "p2 = grid[\"geometry\"].iat[1]\n",
    "q = p1.union(p2).boundary\n",
    "\n",
    "display(q, q.is_ring)\n"
   ]
  },
  {
   "cell_type": "markdown",
   "id": "74209e0a-fb17-4b11-b743-87bb6ec258fa",
   "metadata": {},
   "source": [
    "# Using `make_grid_from_bounds`"
   ]
  },
  {
   "cell_type": "code",
   "execution_count": null,
   "id": "58c45b5c-32e7-42ec-930f-37a5f7c67a0c",
   "metadata": {},
   "outputs": [],
   "source": [
    "# Define a rectangle that illustrates an interesting edge case\n",
    "rect = gpd.GeoDataFrame(geometry=[sg.Polygon([(2.1, -1), (4.9, -1), (4.9, 1.9), (2.1, 1.9)])])\n",
    "R = 1\n",
    "grid = ghg.make_grid_from_bounds(*rect.total_bounds, R=R)\n",
    "display(grid.head())\n",
    "print(grid[\"cell_id\"].tolist())\n",
    "\n",
    "base = rect.plot(color='gray', aspect=\"equal\")\n",
    "grid.plot(ax=base, color=\"white\", edgecolor=\"red\", alpha=0.5)"
   ]
  },
  {
   "cell_type": "code",
   "execution_count": null,
   "id": "076a564a-30d4-44c6-85d1-1e4f572f0017",
   "metadata": {},
   "outputs": [],
   "source": [
    "# Two grids with the same origin should have identical\n",
    "# cells where they overlap\n",
    "\n",
    "rect1 = gpd.GeoDataFrame(geometry=[sg.Polygon([(-2, 1), (3, 1), (3, 5), (-2, 5)])])\n",
    "base = rect1.plot(alpha=0.5)\n",
    "rect2 = rect1.translate(-1, 1)\n",
    "rect2.plot(ax=base, color=\"orange\", alpha=0.5)\n",
    "\n",
    "R = 1\n",
    "grid1 = ghg.make_grid_from_bounds(*rect1.total_bounds, R=R)\n",
    "grid2 = ghg.make_grid_from_bounds(*rect2.total_bounds, R=R)\n",
    "base = grid1.plot(alpha=0.5)\n",
    "grid2.plot(ax=base, alpha=0.5, color=\"orange\")\n",
    "\n",
    "cell_ids = set(grid1[\"cell_id\"]) & set(grid2[\"cell_id\"])\n",
    "g1 = (\n",
    "    grid1\n",
    "    .loc[lambda x: x[\"cell_id\"].isin(cell_ids)]\n",
    "    .sort_values(\"cell_id\", ignore_index=True)\n",
    ")\n",
    "g2 = (\n",
    "    grid2\n",
    "    .loc[lambda x: x[\"cell_id\"].isin(cell_ids)]\n",
    "    .sort_values(\"cell_id\", ignore_index=True)\n",
    ")\n",
    "g1.geom_equals_exact(g2, tolerance=10e-12).all()\n"
   ]
  },
  {
   "cell_type": "markdown",
   "id": "77cdc3c5-6147-4217-aba3-ce85544a26af",
   "metadata": {},
   "source": [
    "# Using `make_grid_from_gdf`"
   ]
  },
  {
   "cell_type": "code",
   "execution_count": null,
   "id": "0f22ee6d-2d37-4985-b4ca-f2aa33154112",
   "metadata": {},
   "outputs": [],
   "source": [
    "shape = gpd.GeoDataFrame(geometry=[sg.Polygon([(1, -1), (3, 1), (0, 3)])])\n",
    "grid = ghg.make_grid_from_gdf(shape, R=1)\n",
    "display(grid)\n",
    "\n",
    "base = shape.plot(color='gray', aspect=\"equal\")\n",
    "grid.plot(ax=base, color=\"white\", edgecolor=\"red\", alpha=0.5)\n",
    "\n",
    "# With clipping this time\n",
    "grid2 = ghg.make_grid_from_gdf(shape, R=1, clip=True)\n",
    "display(grid2)\n",
    "\n",
    "base2 = shape.plot(color='gray', aspect=\"equal\")\n",
    "grid2.plot(ax=base2, color=\"white\", edgecolor=\"red\", alpha=0.5)"
   ]
  },
  {
   "cell_type": "code",
   "execution_count": null,
   "id": "a6ef824d-55f0-41b1-976d-a82860dad62b",
   "metadata": {},
   "outputs": [],
   "source": [
    "shapes = gpd.read_file(DATA_DIR / \"shapes.geojson\").to_crs(NZTM)\n",
    "R = 900\n",
    "grid = ghg.make_grid_from_gdf(shapes, R=R)\n",
    "display(grid.head())\n",
    "\n",
    "base = shapes.plot(color='gray', aspect=\"equal\")\n",
    "grid.plot(ax=base, color=\"white\", edgecolor=\"red\", alpha=0.5)\n",
    "\n",
    "# With clipping this time\n",
    "base2 = shapes.plot(color='gray', aspect=\"equal\")\n",
    "grid2 = ghg.make_grid_from_gdf(shapes, R=R, clip=True)\n",
    "grid2.plot(ax=base2, color=\"white\", edgecolor=\"red\", alpha=0.5)\n",
    "\n",
    "grid.shape[0] == grid2.shape[0]"
   ]
  },
  {
   "cell_type": "code",
   "execution_count": null,
   "id": "129803f4",
   "metadata": {},
   "outputs": [],
   "source": [
    "# Cover New Zealand!\n",
    "nz = gpd.read_file(DATA_DIR / \"nz_tas.gpkg\")\n",
    "display(nz.crs)\n",
    "%time grid = ghg.make_grid_from_gdf(nz, R=10_000) # 10 km circumradius\n",
    "\n",
    "base = nz.plot(color='black', aspect=\"equal\", figsize=(10, 10))\n",
    "grid.plot(ax=base, color='white', edgecolor=\"red\", alpha=0.5)\n",
    "\n",
    "# plt.axis('off')\n",
    "# plt.savefig('../nz_10000m.png', bbox_inches='tight')\n",
    "\n",
    "# With clipping this time\n",
    "%time grid2 = ghg.make_grid_from_gdf(nz, R=10_000, clip=True)\n",
    "\n",
    "base2 = nz.plot(color='black', aspect=\"equal\", figsize=(10, 10))\n",
    "grid2.plot(ax=base2, color='white', edgecolor=\"red\", alpha=0.5)\n"
   ]
  },
  {
   "cell_type": "code",
   "execution_count": null,
   "id": "ea36f48a",
   "metadata": {},
   "outputs": [],
   "source": [
    "# # Speed test\n",
    "\n",
    "# nz = gpd.read_file(DATA_DIR / \"nz_tas.gpkg\")\n",
    "# akl = nz.loc[lambda x: x[\"ta2021_name\"] == \"Auckland\"]\n",
    "# %time grid = ghg.make_grid_from_gdf(akl, R=250) \n",
    "\n",
    "# base = akl.plot(color='black', figsize=(10, 10), aspect=\"equal\")\n",
    "# grid.plot(ax=base, color='white', edgecolor=\"red\", alpha=0.5)"
   ]
  },
  {
   "cell_type": "code",
   "execution_count": null,
   "id": "6d512337-23fc-4034-8146-7ce4d84a4f3f",
   "metadata": {},
   "outputs": [],
   "source": []
  }
 ],
 "metadata": {
  "kernelspec": {
   "display_name": "Python 3 (ipykernel)",
   "language": "python",
   "name": "python3"
  },
  "language_info": {
   "codemirror_mode": {
    "name": "ipython",
    "version": 3
   },
   "file_extension": ".py",
   "mimetype": "text/x-python",
   "name": "python",
   "nbconvert_exporter": "python",
   "pygments_lexer": "ipython3",
   "version": "3.10.12"
  }
 },
 "nbformat": 4,
 "nbformat_minor": 5
}
