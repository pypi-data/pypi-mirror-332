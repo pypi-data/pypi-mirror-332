{
 "cells": [
  {
   "cell_type": "markdown",
   "id": "800ecc59-bfcd-4c18-ba22-a89301f89272",
   "metadata": {},
   "source": [
    "# Appendix A: Citation"
   ]
  },
  {
   "cell_type": "markdown",
   "id": "e6662dcd-e91a-46b6-aff2-fc5b55a38247",
   "metadata": {},
   "source": [
    "If you use `DustPy`, please cite [Stammler & Birnstiel (2022)](https://doi.org/10.3847/1538-4357/ac7d58).\n",
    "\n",
    "```\n",
    "@ARTICLE{2022ApJ...935...35S,\n",
    "       author = {{Stammler}, Sebastian M. and {Birnstiel}, Tilman},\n",
    "        title = \"{DustPy: A Python Package for Dust Evolution in Protoplanetary Disks}\",\n",
    "      journal = {\\apj},\n",
    "     keywords = {Protoplanetary disks, Astronomy software, Astronomical simulations, Circumstellar dust, Planet formation, Planetesimals, 1300, 1855, 1857, 236, 1241, 1259, Astrophysics - Earth and Planetary Astrophysics, Astrophysics - Instrumentation and Methods for Astrophysics},\n",
    "         year = 2022,\n",
    "        month = aug,\n",
    "       volume = {935},\n",
    "       number = {1},\n",
    "          eid = {35},\n",
    "        pages = {35},\n",
    "          doi = {10.3847/1538-4357/ac7d58},\n",
    "archivePrefix = {arXiv},\n",
    "       eprint = {2207.00322},\n",
    " primaryClass = {astro-ph.EP},\n",
    "       adsurl = {https://ui.adsabs.harvard.edu/abs/2022ApJ...935...35S},\n",
    "      adsnote = {Provided by the SAO/NASA Astrophysics Data System}\n",
    "}\n",
    "```"
   ]
  }
 ],
 "metadata": {
  "kernelspec": {
   "display_name": "Python 3 (ipykernel)",
   "language": "python",
   "name": "python3"
  },
  "language_info": {
   "codemirror_mode": {
    "name": "ipython",
    "version": 3
   },
   "file_extension": ".py",
   "mimetype": "text/x-python",
   "name": "python",
   "nbconvert_exporter": "python",
   "pygments_lexer": "ipython3",
   "version": "3.11.9"
  }
 },
 "nbformat": 4,
 "nbformat_minor": 5
}
