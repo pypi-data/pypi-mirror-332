{
 "cells": [
  {
   "cell_type": "markdown",
   "id": "f27956db-6cdf-4626-b579-994d77de321f",
   "metadata": {},
   "source": [
    "# Library: dustpylib"
   ]
  },
  {
   "cell_type": "markdown",
   "id": "d643d767-30b1-4ddc-a919-9637bb4924bd",
   "metadata": {},
   "source": [
    "`dustpylib` is a library with auxiliary tools and extensions for `DustPy`, containing for example interfaces to radiative transfer tools. It is a community project, to which everyone can upload their own `DustPy` customizations.\n",
    "\n",
    "For more details, please have a look at the [dustpylib documentation](https://dustpylib.rtfd.io/)."
   ]
  }
 ],
 "metadata": {
  "kernelspec": {
   "display_name": "Python 3 (ipykernel)",
   "language": "python",
   "name": "python3"
  },
  "language_info": {
   "codemirror_mode": {
    "name": "ipython",
    "version": 3
   },
   "file_extension": ".py",
   "mimetype": "text/x-python",
   "name": "python",
   "nbconvert_exporter": "python",
   "pygments_lexer": "ipython3",
   "version": "3.11.9"
  }
 },
 "nbformat": 4,
 "nbformat_minor": 5
}
