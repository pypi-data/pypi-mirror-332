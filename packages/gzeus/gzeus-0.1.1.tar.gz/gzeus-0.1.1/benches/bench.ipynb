{
 "cells": [
  {
   "cell_type": "code",
   "execution_count": 1,
   "metadata": {},
   "outputs": [],
   "source": [
    "from gzeus import Chunker, stream_polars_csv_gz\n",
    "import polars as pl\n",
    "import pandas as pd"
   ]
  },
  {
   "cell_type": "code",
   "execution_count": 2,
   "metadata": {},
   "outputs": [],
   "source": [
    "# The dataset is available at:\n",
    "# https://catalog.data.gov/dataset/insurance-complaints-all-data"
   ]
  },
  {
   "cell_type": "code",
   "execution_count": 3,
   "metadata": {},
   "outputs": [],
   "source": [
    "def chunk_load_data_pandas(path:str, chunk_size:int = 10_000) -> pd.DataFrame:\n",
    "    frames = [\n",
    "        df_chunk\n",
    "        for df_chunk in pd.read_csv(\"../data/insurance.csv.gz\", iterator = True, chunksize=chunk_size, engine=\"c\")   \n",
    "    ]\n",
    "    return pd.concat(frames)\n",
    "\n",
    "def chunk_load_data_gzeus2(path:str, max_bytes:int = 1_000_000) -> pl.DataFrame:\n",
    "    # Turn portion of the produced bytes into a DataFrame. Only possible with Polars, \n",
    "    # or dataframe packages with \"lazy\" capabilities. Lazy read + filters ensure \n",
    "    # only necessary bytes are copied into our dataframe \n",
    "    def get_necessary_data(df:pl.LazyFrame) -> pl.DataFrame:\n",
    "        return df.filter(\n",
    "            (pl.col(\"Confirmed complaint\") != 'No')\n",
    "            & (pl.col(\"Keywords\").is_not_null())\n",
    "        ).select(\n",
    "            'Complaint number',\n",
    "            'Complaint filed against',\n",
    "            'Complaint filed by',\n",
    "            'Reason complaint filed',\n",
    "            'Confirmed complaint',\n",
    "            'Received date',\n",
    "            'Closed date',\n",
    "            'Complaint type',\n",
    "            'Coverage level',\n",
    "        ).collect()\n",
    "\n",
    "    return pl.concat(stream_polars_csv_gz(path, buffer_size=max_bytes, func = get_necessary_data))\n",
    "\n",
    "def chunk_load_data_pandas2(path:str, chunk_size:int = 10_000) -> pd.DataFrame:\n",
    "    def get_necessary_data(df:pd.DataFrame) -> pd.DataFrame:\n",
    "        return df.loc[\n",
    "            (df['Confirmed complaint'] != 'No') & (~df['Keywords'].isna())\n",
    "            , :\n",
    "        ][[\n",
    "            'Complaint number',\n",
    "            'Complaint filed against',\n",
    "            'Complaint filed by',\n",
    "            'Reason complaint filed',\n",
    "            'Confirmed complaint',\n",
    "            'Received date',\n",
    "            'Closed date',\n",
    "            'Complaint type',\n",
    "            'Coverage level',\n",
    "        ]]\n",
    "\n",
    "    frames = [\n",
    "        get_necessary_data(df_chunk)\n",
    "        for df_chunk in pd.read_csv(\"../data/insurance.csv.gz\", iterator = True, chunksize=chunk_size, engine=\"c\")   \n",
    "    ]\n",
    "    return pd.concat(frames)"
   ]
  },
  {
   "cell_type": "code",
   "execution_count": 4,
   "metadata": {},
   "outputs": [
    {
     "data": {
      "text/html": [
       "<div><style>\n",
       ".dataframe > thead > tr,\n",
       ".dataframe > tbody > tr {\n",
       "  text-align: right;\n",
       "  white-space: pre-wrap;\n",
       "}\n",
       "</style>\n",
       "<small>shape: (5, 17)</small><table border=\"1\" class=\"dataframe\"><thead><tr><th>Complaint number</th><th>Complaint filed against</th><th>Complaint filed by</th><th>Reason complaint filed</th><th>Confirmed complaint</th><th>How resolved</th><th>Received date</th><th>Closed date</th><th>Complaint type</th><th>Coverage type</th><th>Coverage level</th><th>Others involved</th><th>Respondent ID</th><th>Respondent Role</th><th>Respondent type</th><th>Complainant type</th><th>Keywords</th></tr><tr><td>i64</td><td>str</td><td>str</td><td>str</td><td>str</td><td>str</td><td>str</td><td>str</td><td>str</td><td>str</td><td>str</td><td>str</td><td>i64</td><td>str</td><td>str</td><td>str</td><td>str</td></tr></thead><tbody><tr><td>1</td><td>&quot;METROPOLITAN LIFE INSURANCE CO…</td><td>&quot;Relative&quot;</td><td>&quot;Cust Service Claim Handling&quot;</td><td>&quot;No&quot;</td><td>&quot;Other&quot;</td><td>&quot;06/12/2012&quot;</td><td>&quot;07/25/2012&quot;</td><td>&quot;Life, Accident and Health&quot;</td><td>&quot;Life &amp; Annuity&quot;</td><td>&quot;Individual Life&quot;</td><td>null</td><td>13191</td><td>&quot;Ins Co - Licensed/Active&quot;</td><td>&quot;Organization&quot;</td><td>&quot;INDV&quot;</td><td>null</td></tr><tr><td>2</td><td>&quot;AETNA LIFE INSURANCE COMPANY&quot;</td><td>&quot;Provider&quot;</td><td>&quot;Delays (Claims Handling)&quot;</td><td>&quot;No&quot;</td><td>&quot;Information Furnished&quot;</td><td>&quot;06/21/2012&quot;</td><td>&quot;08/01/2012&quot;</td><td>&quot;Life, Accident and Health&quot;</td><td>&quot;Accident and Health&quot;</td><td>&quot;Group A&amp;H&quot;</td><td>&quot;Insured&quot;</td><td>245</td><td>&quot;Ins Co - Licensed/Active&quot;</td><td>&quot;Organization&quot;</td><td>&quot;ORG&quot;</td><td>null</td></tr><tr><td>3</td><td>&quot;BLUE CROSS AND BLUE SHIELD OF …</td><td>&quot;Provider&quot;</td><td>&quot;Denial Of Claim&quot;</td><td>&quot;No&quot;</td><td>&quot;Other&quot;</td><td>&quot;06/11/2012&quot;</td><td>&quot;07/30/2012&quot;</td><td>&quot;Life, Accident and Health&quot;</td><td>&quot;Accident and Health&quot;</td><td>&quot;Group A&amp;H&quot;</td><td>null</td><td>10047</td><td>&quot;Ins Co - Licensed/Active&quot;</td><td>&quot;Organization&quot;</td><td>&quot;ORG&quot;</td><td>null</td></tr><tr><td>4</td><td>&quot;BLUE CROSS AND BLUE SHIELD OF …</td><td>&quot;Provider&quot;</td><td>&quot;Denial Of Claim&quot;</td><td>&quot;No&quot;</td><td>&quot;Other&quot;</td><td>&quot;06/28/2012&quot;</td><td>&quot;07/30/2012&quot;</td><td>&quot;Life, Accident and Health&quot;</td><td>&quot;Accident and Health&quot;</td><td>&quot;Group A&amp;H&quot;</td><td>null</td><td>10047</td><td>&quot;Ins Co - Licensed/Active&quot;</td><td>&quot;Organization&quot;</td><td>&quot;ORG&quot;</td><td>null</td></tr><tr><td>5</td><td>&quot;CHARTER OAK FIRE INSURANCE COM…</td><td>&quot;Insured&quot;</td><td>&quot;Unsatisfactory Settle/Offer&quot;</td><td>&quot;No&quot;</td><td>&quot;Question of Fact; Contract Lan…</td><td>&quot;06/13/2012&quot;</td><td>&quot;07/17/2012&quot;</td><td>&quot;Property and Casualty&quot;</td><td>&quot;Automobile&quot;</td><td>&quot;Individual Private Pass&quot;</td><td>null</td><td>2918</td><td>&quot;Ins Co - Licensed/Active&quot;</td><td>&quot;Organization&quot;</td><td>&quot;INDV&quot;</td><td>&quot;2012 NORTH TEXAS TORNADOES; AD…</td></tr></tbody></table></div>"
      ],
      "text/plain": [
       "shape: (5, 17)\n",
       "┌───────────┬───────────┬───────────┬───────────┬───┬───────────┬───────────┬───────────┬──────────┐\n",
       "│ Complaint ┆ Complaint ┆ Complaint ┆ Reason    ┆ … ┆ Responden ┆ Responden ┆ Complaina ┆ Keywords │\n",
       "│ number    ┆ filed     ┆ filed by  ┆ complaint ┆   ┆ t Role    ┆ t type    ┆ nt type   ┆ ---      │\n",
       "│ ---       ┆ against   ┆ ---       ┆ filed     ┆   ┆ ---       ┆ ---       ┆ ---       ┆ str      │\n",
       "│ i64       ┆ ---       ┆ str       ┆ ---       ┆   ┆ str       ┆ str       ┆ str       ┆          │\n",
       "│           ┆ str       ┆           ┆ str       ┆   ┆           ┆           ┆           ┆          │\n",
       "╞═══════════╪═══════════╪═══════════╪═══════════╪═══╪═══════════╪═══════════╪═══════════╪══════════╡\n",
       "│ 1         ┆ METROPOLI ┆ Relative  ┆ Cust      ┆ … ┆ Ins Co -  ┆ Organizat ┆ INDV      ┆ null     │\n",
       "│           ┆ TAN LIFE  ┆           ┆ Service   ┆   ┆ Licensed/ ┆ ion       ┆           ┆          │\n",
       "│           ┆ INSURANCE ┆           ┆ Claim     ┆   ┆ Active    ┆           ┆           ┆          │\n",
       "│           ┆ CO…       ┆           ┆ Handling  ┆   ┆           ┆           ┆           ┆          │\n",
       "│ 2         ┆ AETNA     ┆ Provider  ┆ Delays    ┆ … ┆ Ins Co -  ┆ Organizat ┆ ORG       ┆ null     │\n",
       "│           ┆ LIFE      ┆           ┆ (Claims   ┆   ┆ Licensed/ ┆ ion       ┆           ┆          │\n",
       "│           ┆ INSURANCE ┆           ┆ Handling) ┆   ┆ Active    ┆           ┆           ┆          │\n",
       "│           ┆ COMPANY   ┆           ┆           ┆   ┆           ┆           ┆           ┆          │\n",
       "│ 3         ┆ BLUE      ┆ Provider  ┆ Denial Of ┆ … ┆ Ins Co -  ┆ Organizat ┆ ORG       ┆ null     │\n",
       "│           ┆ CROSS AND ┆           ┆ Claim     ┆   ┆ Licensed/ ┆ ion       ┆           ┆          │\n",
       "│           ┆ BLUE      ┆           ┆           ┆   ┆ Active    ┆           ┆           ┆          │\n",
       "│           ┆ SHIELD OF ┆           ┆           ┆   ┆           ┆           ┆           ┆          │\n",
       "│           ┆ …         ┆           ┆           ┆   ┆           ┆           ┆           ┆          │\n",
       "│ 4         ┆ BLUE      ┆ Provider  ┆ Denial Of ┆ … ┆ Ins Co -  ┆ Organizat ┆ ORG       ┆ null     │\n",
       "│           ┆ CROSS AND ┆           ┆ Claim     ┆   ┆ Licensed/ ┆ ion       ┆           ┆          │\n",
       "│           ┆ BLUE      ┆           ┆           ┆   ┆ Active    ┆           ┆           ┆          │\n",
       "│           ┆ SHIELD OF ┆           ┆           ┆   ┆           ┆           ┆           ┆          │\n",
       "│           ┆ …         ┆           ┆           ┆   ┆           ┆           ┆           ┆          │\n",
       "│ 5         ┆ CHARTER   ┆ Insured   ┆ Unsatisfa ┆ … ┆ Ins Co -  ┆ Organizat ┆ INDV      ┆ 2012     │\n",
       "│           ┆ OAK FIRE  ┆           ┆ ctory Set ┆   ┆ Licensed/ ┆ ion       ┆           ┆ NORTH    │\n",
       "│           ┆ INSURANCE ┆           ┆ tle/Offer ┆   ┆ Active    ┆           ┆           ┆ TEXAS    │\n",
       "│           ┆ COM…      ┆           ┆           ┆   ┆           ┆           ┆           ┆ TORNADOE │\n",
       "│           ┆           ┆           ┆           ┆   ┆           ┆           ┆           ┆ S; AD…   │\n",
       "└───────────┴───────────┴───────────┴───────────┴───┴───────────┴───────────┴───────────┴──────────┘"
      ]
     },
     "execution_count": 4,
     "metadata": {},
     "output_type": "execute_result"
    }
   ],
   "source": [
    "df = pl.concat(stream_polars_csv_gz(\"../data/insurance.csv.gz\"))\n",
    "df.head()"
   ]
  },
  {
   "cell_type": "code",
   "execution_count": 5,
   "metadata": {},
   "outputs": [
    {
     "data": {
      "text/html": [
       "<div>\n",
       "<style scoped>\n",
       "    .dataframe tbody tr th:only-of-type {\n",
       "        vertical-align: middle;\n",
       "    }\n",
       "\n",
       "    .dataframe tbody tr th {\n",
       "        vertical-align: top;\n",
       "    }\n",
       "\n",
       "    .dataframe thead th {\n",
       "        text-align: right;\n",
       "    }\n",
       "</style>\n",
       "<table border=\"1\" class=\"dataframe\">\n",
       "  <thead>\n",
       "    <tr style=\"text-align: right;\">\n",
       "      <th></th>\n",
       "      <th>Complaint number</th>\n",
       "      <th>Complaint filed against</th>\n",
       "      <th>Complaint filed by</th>\n",
       "      <th>Reason complaint filed</th>\n",
       "      <th>Confirmed complaint</th>\n",
       "      <th>How resolved</th>\n",
       "      <th>Received date</th>\n",
       "      <th>Closed date</th>\n",
       "      <th>Complaint type</th>\n",
       "      <th>Coverage type</th>\n",
       "      <th>Coverage level</th>\n",
       "      <th>Others involved</th>\n",
       "      <th>Respondent ID</th>\n",
       "      <th>Respondent Role</th>\n",
       "      <th>Respondent type</th>\n",
       "      <th>Complainant type</th>\n",
       "      <th>Keywords</th>\n",
       "    </tr>\n",
       "  </thead>\n",
       "  <tbody>\n",
       "    <tr>\n",
       "      <th>0</th>\n",
       "      <td>1</td>\n",
       "      <td>METROPOLITAN LIFE INSURANCE COMPANY</td>\n",
       "      <td>Relative</td>\n",
       "      <td>Cust Service Claim Handling</td>\n",
       "      <td>No</td>\n",
       "      <td>Other</td>\n",
       "      <td>06/12/2012</td>\n",
       "      <td>07/25/2012</td>\n",
       "      <td>Life, Accident and Health</td>\n",
       "      <td>Life &amp; Annuity</td>\n",
       "      <td>Individual Life</td>\n",
       "      <td>NaN</td>\n",
       "      <td>13191</td>\n",
       "      <td>Ins Co - Licensed/Active</td>\n",
       "      <td>Organization</td>\n",
       "      <td>INDV</td>\n",
       "      <td>NaN</td>\n",
       "    </tr>\n",
       "    <tr>\n",
       "      <th>1</th>\n",
       "      <td>2</td>\n",
       "      <td>AETNA LIFE INSURANCE COMPANY</td>\n",
       "      <td>Provider</td>\n",
       "      <td>Delays (Claims Handling)</td>\n",
       "      <td>No</td>\n",
       "      <td>Information Furnished</td>\n",
       "      <td>06/21/2012</td>\n",
       "      <td>08/01/2012</td>\n",
       "      <td>Life, Accident and Health</td>\n",
       "      <td>Accident and Health</td>\n",
       "      <td>Group A&amp;H</td>\n",
       "      <td>Insured</td>\n",
       "      <td>245</td>\n",
       "      <td>Ins Co - Licensed/Active</td>\n",
       "      <td>Organization</td>\n",
       "      <td>ORG</td>\n",
       "      <td>NaN</td>\n",
       "    </tr>\n",
       "    <tr>\n",
       "      <th>2</th>\n",
       "      <td>3</td>\n",
       "      <td>BLUE CROSS AND BLUE SHIELD OF TEXAS, A DIVISIO...</td>\n",
       "      <td>Provider</td>\n",
       "      <td>Denial Of Claim</td>\n",
       "      <td>No</td>\n",
       "      <td>Other</td>\n",
       "      <td>06/11/2012</td>\n",
       "      <td>07/30/2012</td>\n",
       "      <td>Life, Accident and Health</td>\n",
       "      <td>Accident and Health</td>\n",
       "      <td>Group A&amp;H</td>\n",
       "      <td>NaN</td>\n",
       "      <td>10047</td>\n",
       "      <td>Ins Co - Licensed/Active</td>\n",
       "      <td>Organization</td>\n",
       "      <td>ORG</td>\n",
       "      <td>NaN</td>\n",
       "    </tr>\n",
       "    <tr>\n",
       "      <th>3</th>\n",
       "      <td>4</td>\n",
       "      <td>BLUE CROSS AND BLUE SHIELD OF TEXAS, A DIVISIO...</td>\n",
       "      <td>Provider</td>\n",
       "      <td>Denial Of Claim</td>\n",
       "      <td>No</td>\n",
       "      <td>Other</td>\n",
       "      <td>06/28/2012</td>\n",
       "      <td>07/30/2012</td>\n",
       "      <td>Life, Accident and Health</td>\n",
       "      <td>Accident and Health</td>\n",
       "      <td>Group A&amp;H</td>\n",
       "      <td>NaN</td>\n",
       "      <td>10047</td>\n",
       "      <td>Ins Co - Licensed/Active</td>\n",
       "      <td>Organization</td>\n",
       "      <td>ORG</td>\n",
       "      <td>NaN</td>\n",
       "    </tr>\n",
       "    <tr>\n",
       "      <th>4</th>\n",
       "      <td>5</td>\n",
       "      <td>CHARTER OAK FIRE INSURANCE COMPANY, THE</td>\n",
       "      <td>Insured</td>\n",
       "      <td>Unsatisfactory Settle/Offer</td>\n",
       "      <td>No</td>\n",
       "      <td>Question of Fact; Contract Language/Legal Issue</td>\n",
       "      <td>06/13/2012</td>\n",
       "      <td>07/17/2012</td>\n",
       "      <td>Property and Casualty</td>\n",
       "      <td>Automobile</td>\n",
       "      <td>Individual Private Pass</td>\n",
       "      <td>NaN</td>\n",
       "      <td>2918</td>\n",
       "      <td>Ins Co - Licensed/Active</td>\n",
       "      <td>Organization</td>\n",
       "      <td>INDV</td>\n",
       "      <td>2012 NORTH TEXAS TORNADOES; ADJUSTER'S HANDLIN...</td>\n",
       "    </tr>\n",
       "  </tbody>\n",
       "</table>\n",
       "</div>"
      ],
      "text/plain": [
       "   Complaint number                            Complaint filed against  \\\n",
       "0                 1                METROPOLITAN LIFE INSURANCE COMPANY   \n",
       "1                 2                       AETNA LIFE INSURANCE COMPANY   \n",
       "2                 3  BLUE CROSS AND BLUE SHIELD OF TEXAS, A DIVISIO...   \n",
       "3                 4  BLUE CROSS AND BLUE SHIELD OF TEXAS, A DIVISIO...   \n",
       "4                 5            CHARTER OAK FIRE INSURANCE COMPANY, THE   \n",
       "\n",
       "  Complaint filed by       Reason complaint filed Confirmed complaint  \\\n",
       "0           Relative  Cust Service Claim Handling                  No   \n",
       "1           Provider     Delays (Claims Handling)                  No   \n",
       "2           Provider              Denial Of Claim                  No   \n",
       "3           Provider              Denial Of Claim                  No   \n",
       "4            Insured  Unsatisfactory Settle/Offer                  No   \n",
       "\n",
       "                                      How resolved Received date Closed date  \\\n",
       "0                                            Other    06/12/2012  07/25/2012   \n",
       "1                            Information Furnished    06/21/2012  08/01/2012   \n",
       "2                                            Other    06/11/2012  07/30/2012   \n",
       "3                                            Other    06/28/2012  07/30/2012   \n",
       "4  Question of Fact; Contract Language/Legal Issue    06/13/2012  07/17/2012   \n",
       "\n",
       "              Complaint type        Coverage type           Coverage level  \\\n",
       "0  Life, Accident and Health       Life & Annuity          Individual Life   \n",
       "1  Life, Accident and Health  Accident and Health                Group A&H   \n",
       "2  Life, Accident and Health  Accident and Health                Group A&H   \n",
       "3  Life, Accident and Health  Accident and Health                Group A&H   \n",
       "4      Property and Casualty           Automobile  Individual Private Pass   \n",
       "\n",
       "  Others involved  Respondent ID           Respondent Role Respondent type  \\\n",
       "0             NaN          13191  Ins Co - Licensed/Active    Organization   \n",
       "1         Insured            245  Ins Co - Licensed/Active    Organization   \n",
       "2             NaN          10047  Ins Co - Licensed/Active    Organization   \n",
       "3             NaN          10047  Ins Co - Licensed/Active    Organization   \n",
       "4             NaN           2918  Ins Co - Licensed/Active    Organization   \n",
       "\n",
       "  Complainant type                                           Keywords  \n",
       "0             INDV                                                NaN  \n",
       "1              ORG                                                NaN  \n",
       "2              ORG                                                NaN  \n",
       "3              ORG                                                NaN  \n",
       "4             INDV  2012 NORTH TEXAS TORNADOES; ADJUSTER'S HANDLIN...  "
      ]
     },
     "execution_count": 5,
     "metadata": {},
     "output_type": "execute_result"
    }
   ],
   "source": [
    "df_pd = chunk_load_data_pandas(\"../data/insurance.csv.gz\")\n",
    "df_pd.head()"
   ]
  },
  {
   "cell_type": "markdown",
   "metadata": {},
   "source": [
    "# Benchmark 1 - (GZeus + Polars) vs. Pandas \n",
    "\n",
    "No work per chunk.\n",
    "\n",
    "Tuning pandas chunksize doesn't really help with performance at all."
   ]
  },
  {
   "cell_type": "code",
   "execution_count": 6,
   "metadata": {},
   "outputs": [
    {
     "name": "stdout",
     "output_type": "stream",
     "text": [
      "217 ms ± 9.1 ms per loop (mean ± std. dev. of 7 runs, 1 loop each)\n"
     ]
    }
   ],
   "source": [
    "%%timeit\n",
    "df = pl.concat(stream_polars_csv_gz(\"../data/insurance.csv.gz\"))"
   ]
  },
  {
   "cell_type": "code",
   "execution_count": 7,
   "metadata": {},
   "outputs": [
    {
     "name": "stdout",
     "output_type": "stream",
     "text": [
      "434 ms ± 3.02 ms per loop (mean ± std. dev. of 7 runs, 1 loop each)\n"
     ]
    }
   ],
   "source": [
    "%%timeit\n",
    "df = chunk_load_data_pandas(\"../data/insurance.csv.gz\")"
   ]
  },
  {
   "cell_type": "code",
   "execution_count": 8,
   "metadata": {},
   "outputs": [
    {
     "name": "stdout",
     "output_type": "stream",
     "text": [
      "91.9 ms ± 1.21 ms per loop (mean ± std. dev. of 7 runs, 10 loops each)\n"
     ]
    }
   ],
   "source": [
    "%%timeit\n",
    "df = pl.concat(stream_polars_csv_gz(\"../data/insurance.csv.gz\", buffer_size=5_000_000)) # bigger chunks, 5mb per chunk"
   ]
  },
  {
   "cell_type": "code",
   "execution_count": 9,
   "metadata": {},
   "outputs": [
    {
     "name": "stdout",
     "output_type": "stream",
     "text": [
      "427 ms ± 4.92 ms per loop (mean ± std. dev. of 7 runs, 1 loop each)\n"
     ]
    }
   ],
   "source": [
    "%%timeit\n",
    "df = chunk_load_data_pandas(\"../data/insurance.csv.gz\", chunk_size=50_000)"
   ]
  },
  {
   "cell_type": "code",
   "execution_count": 10,
   "metadata": {},
   "outputs": [
    {
     "name": "stdout",
     "output_type": "stream",
     "text": [
      "426 ms ± 6.26 ms per loop (mean ± std. dev. of 7 runs, 1 loop each)\n"
     ]
    }
   ],
   "source": [
    "%%timeit\n",
    "df = chunk_load_data_pandas(\"../data/insurance.csv.gz\", chunk_size=100_000) # the whole df is 260k rows"
   ]
  },
  {
   "cell_type": "markdown",
   "metadata": {},
   "source": [
    "# Benchmark 2 - (GZeus + Polars) vs. Pandas \n",
    "\n",
    "Some work per chunk.\n",
    "\n",
    "GZeus + Polars runs faster because the workload can be optimized by Polars and further speeds up the process. On the other hand, pandas shows no speed improvement because it will read the full chunk regardless of any work you do on the chunk."
   ]
  },
  {
   "cell_type": "code",
   "execution_count": 11,
   "metadata": {},
   "outputs": [
    {
     "name": "stdout",
     "output_type": "stream",
     "text": [
      "191 ms ± 1.72 ms per loop (mean ± std. dev. of 7 runs, 10 loops each)\n"
     ]
    }
   ],
   "source": [
    "%%timeit\n",
    "df = chunk_load_data_gzeus2(\"../data/insurance.csv.gz\")\n"
   ]
  },
  {
   "cell_type": "code",
   "execution_count": 12,
   "metadata": {},
   "outputs": [
    {
     "name": "stdout",
     "output_type": "stream",
     "text": [
      "443 ms ± 4.06 ms per loop (mean ± std. dev. of 7 runs, 1 loop each)\n"
     ]
    }
   ],
   "source": [
    "%%timeit\n",
    "df = chunk_load_data_pandas2(\"../data/insurance.csv.gz\")"
   ]
  },
  {
   "cell_type": "code",
   "execution_count": 13,
   "metadata": {},
   "outputs": [
    {
     "name": "stdout",
     "output_type": "stream",
     "text": [
      "76.4 ms ± 362 μs per loop (mean ± std. dev. of 7 runs, 10 loops each)\n"
     ]
    }
   ],
   "source": [
    "%%timeit\n",
    "df = chunk_load_data_gzeus2(\"../data/insurance.csv.gz\", max_bytes=5_000_000) # bigger chunks"
   ]
  },
  {
   "cell_type": "code",
   "execution_count": 14,
   "metadata": {},
   "outputs": [
    {
     "name": "stdout",
     "output_type": "stream",
     "text": [
      "439 ms ± 2.66 ms per loop (mean ± std. dev. of 7 runs, 1 loop each)\n"
     ]
    }
   ],
   "source": [
    "%%timeit\n",
    "df = chunk_load_data_pandas2(\"../data/insurance.csv.gz\", chunk_size=50_000)"
   ]
  },
  {
   "cell_type": "code",
   "execution_count": 15,
   "metadata": {},
   "outputs": [
    {
     "name": "stdout",
     "output_type": "stream",
     "text": [
      "439 ms ± 10.2 ms per loop (mean ± std. dev. of 7 runs, 1 loop each)\n"
     ]
    }
   ],
   "source": [
    "%%timeit\n",
    "df = chunk_load_data_pandas2(\"../data/insurance.csv.gz\", chunk_size=100_000)"
   ]
  }
 ],
 "metadata": {
  "kernelspec": {
   "display_name": ".venv",
   "language": "python",
   "name": "python3"
  },
  "language_info": {
   "codemirror_mode": {
    "name": "ipython",
    "version": 3
   },
   "file_extension": ".py",
   "mimetype": "text/x-python",
   "name": "python",
   "nbconvert_exporter": "python",
   "pygments_lexer": "ipython3",
   "version": "3.13.1"
  }
 },
 "nbformat": 4,
 "nbformat_minor": 2
}
