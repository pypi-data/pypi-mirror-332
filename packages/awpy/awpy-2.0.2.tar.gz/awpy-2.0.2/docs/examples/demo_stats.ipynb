{
 "cells": [
  {
   "cell_type": "markdown",
   "metadata": {},
   "source": [
    "# Calculating Counter-Strike 2 Stats\n",
    "\n",
    "Awpy can also help calculate basic Counter-Strike statistics, such as average damage per round (ADR), kill-assist-survival-trade (KAST%) or Rating."
   ]
  },
  {
   "cell_type": "code",
   "execution_count": 3,
   "metadata": {},
   "outputs": [],
   "source": [
    "from awpy import Demo\n",
    "\n",
    "# Demo: https://www.hltv.org/matches/2372746/spirit-vs-natus-vincere-blast-premier-spring-final-2024 (de_dust2, Map 2)\n",
    "dem = Demo(\"spirit-vs-natus-vincere-m2-dust2.dem\")\n",
    "dem.parse()"
   ]
  },
  {
   "cell_type": "markdown",
   "metadata": {},
   "source": [
    "### Average Damage per Round (ADR)\n",
    "\n",
    "Average Damage per Round (ADR) is a common metric to evaluate Counter-Strike players. It is simply the total damage divided by the number of rounds. We can can calculate ADR in Awpy as follows:"
   ]
  },
  {
   "cell_type": "code",
   "execution_count": 4,
   "metadata": {},
   "outputs": [
    {
     "data": {
      "text/html": [
       "<div><style>\n",
       ".dataframe > thead > tr,\n",
       ".dataframe > tbody > tr {\n",
       "  text-align: right;\n",
       "  white-space: pre-wrap;\n",
       "}\n",
       "</style>\n",
       "<small>shape: (30, 6)</small><table border=\"1\" class=\"dataframe\"><thead><tr><th>name</th><th>steamid</th><th>side</th><th>n_rounds</th><th>dmg</th><th>adr</th></tr><tr><td>str</td><td>u64</td><td>str</td><td>u32</td><td>i32</td><td>f64</td></tr></thead><tbody><tr><td>&quot;w0nderful&quot;</td><td>76561199063068840</td><td>&quot;t&quot;</td><td>12</td><td>671</td><td>55.916667</td></tr><tr><td>&quot;sh1ro&quot;</td><td>76561198081484775</td><td>&quot;ct&quot;</td><td>12</td><td>1186</td><td>98.833333</td></tr><tr><td>&quot;jL&quot;</td><td>76561198176878303</td><td>&quot;ct&quot;</td><td>10</td><td>801</td><td>80.1</td></tr><tr><td>&quot;donk&quot;</td><td>76561198386265483</td><td>&quot;t&quot;</td><td>10</td><td>946</td><td>94.6</td></tr><tr><td>&quot;sh1ro&quot;</td><td>76561198081484775</td><td>&quot;t&quot;</td><td>10</td><td>1059</td><td>105.9</td></tr><tr><td>&hellip;</td><td>&hellip;</td><td>&hellip;</td><td>&hellip;</td><td>&hellip;</td><td>&hellip;</td></tr><tr><td>&quot;jL&quot;</td><td>76561198176878303</td><td>&quot;all&quot;</td><td>22</td><td>1885</td><td>85.681818</td></tr><tr><td>&quot;Aleksib&quot;</td><td>76561198013243326</td><td>&quot;all&quot;</td><td>22</td><td>2232</td><td>101.454545</td></tr><tr><td>&quot;donk&quot;</td><td>76561198386265483</td><td>&quot;all&quot;</td><td>22</td><td>2647</td><td>120.318182</td></tr><tr><td>&quot;chopper&quot;</td><td>76561198045898864</td><td>&quot;all&quot;</td><td>22</td><td>1208</td><td>54.909091</td></tr><tr><td>&quot;zont1x&quot;</td><td>76561198995880877</td><td>&quot;all&quot;</td><td>22</td><td>1714</td><td>77.909091</td></tr></tbody></table></div>"
      ],
      "text/plain": [
       "shape: (30, 6)\n",
       "┌───────────┬───────────────────┬──────┬──────────┬──────┬────────────┐\n",
       "│ name      ┆ steamid           ┆ side ┆ n_rounds ┆ dmg  ┆ adr        │\n",
       "│ ---       ┆ ---               ┆ ---  ┆ ---      ┆ ---  ┆ ---        │\n",
       "│ str       ┆ u64               ┆ str  ┆ u32      ┆ i32  ┆ f64        │\n",
       "╞═══════════╪═══════════════════╪══════╪══════════╪══════╪════════════╡\n",
       "│ w0nderful ┆ 76561199063068840 ┆ t    ┆ 12       ┆ 671  ┆ 55.916667  │\n",
       "│ sh1ro     ┆ 76561198081484775 ┆ ct   ┆ 12       ┆ 1186 ┆ 98.833333  │\n",
       "│ jL        ┆ 76561198176878303 ┆ ct   ┆ 10       ┆ 801  ┆ 80.1       │\n",
       "│ donk      ┆ 76561198386265483 ┆ t    ┆ 10       ┆ 946  ┆ 94.6       │\n",
       "│ sh1ro     ┆ 76561198081484775 ┆ t    ┆ 10       ┆ 1059 ┆ 105.9      │\n",
       "│ …         ┆ …                 ┆ …    ┆ …        ┆ …    ┆ …          │\n",
       "│ jL        ┆ 76561198176878303 ┆ all  ┆ 22       ┆ 1885 ┆ 85.681818  │\n",
       "│ Aleksib   ┆ 76561198013243326 ┆ all  ┆ 22       ┆ 2232 ┆ 101.454545 │\n",
       "│ donk      ┆ 76561198386265483 ┆ all  ┆ 22       ┆ 2647 ┆ 120.318182 │\n",
       "│ chopper   ┆ 76561198045898864 ┆ all  ┆ 22       ┆ 1208 ┆ 54.909091  │\n",
       "│ zont1x    ┆ 76561198995880877 ┆ all  ┆ 22       ┆ 1714 ┆ 77.909091  │\n",
       "└───────────┴───────────────────┴──────┴──────────┴──────┴────────────┘"
      ]
     },
     "execution_count": 4,
     "metadata": {},
     "output_type": "execute_result"
    }
   ],
   "source": [
    "from awpy.stats import adr\n",
    "\n",
    "adr(dem)"
   ]
  },
  {
   "cell_type": "markdown",
   "metadata": {},
   "source": [
    "ADR takes two optional arguments, `team_dmg` (default `False`), which removes team damage from the overall damage calculation, and `self_dmg` (default `True`), which removes any damage the player did to themselves. It is advised to leave these defaults as is in order to match most websites."
   ]
  },
  {
   "cell_type": "markdown",
   "metadata": {},
   "source": [
    "### Kill, Assist, Survival and Trade % (KAST%)\n",
    "Another common Counter-Strike statistic is KAST%, or the % of rounds where a player achieves a kill, assist, survives or trades. We can calculate KAST% in Awpy as follows:"
   ]
  },
  {
   "cell_type": "code",
   "execution_count": 5,
   "metadata": {},
   "outputs": [
    {
     "data": {
      "text/html": [
       "<div><style>\n",
       ".dataframe > thead > tr,\n",
       ".dataframe > tbody > tr {\n",
       "  text-align: right;\n",
       "  white-space: pre-wrap;\n",
       "}\n",
       "</style>\n",
       "<small>shape: (30, 6)</small><table border=\"1\" class=\"dataframe\"><thead><tr><th>name</th><th>steamid</th><th>side</th><th>kast_rounds</th><th>n_rounds</th><th>kast</th></tr><tr><td>str</td><td>u64</td><td>str</td><td>u32</td><td>u32</td><td>f64</td></tr></thead><tbody><tr><td>&quot;chopper&quot;</td><td>76561198045898864</td><td>&quot;all&quot;</td><td>14</td><td>22</td><td>63.636364</td></tr><tr><td>&quot;donk&quot;</td><td>76561198386265483</td><td>&quot;all&quot;</td><td>18</td><td>22</td><td>81.818182</td></tr><tr><td>&quot;w0nderful&quot;</td><td>76561199063068840</td><td>&quot;all&quot;</td><td>18</td><td>22</td><td>81.818182</td></tr><tr><td>&quot;sh1ro&quot;</td><td>76561198081484775</td><td>&quot;all&quot;</td><td>17</td><td>22</td><td>77.272727</td></tr><tr><td>&quot;jL&quot;</td><td>76561198176878303</td><td>&quot;all&quot;</td><td>15</td><td>22</td><td>68.181818</td></tr><tr><td>&hellip;</td><td>&hellip;</td><td>&hellip;</td><td>&hellip;</td><td>&hellip;</td><td>&hellip;</td></tr><tr><td>&quot;magixx&quot;</td><td>76561199063238565</td><td>&quot;t&quot;</td><td>8</td><td>10</td><td>80.0</td></tr><tr><td>&quot;w0nderful&quot;</td><td>76561199063068840</td><td>&quot;t&quot;</td><td>11</td><td>12</td><td>91.666667</td></tr><tr><td>&quot;jL&quot;</td><td>76561198176878303</td><td>&quot;t&quot;</td><td>9</td><td>12</td><td>75.0</td></tr><tr><td>&quot;zont1x&quot;</td><td>76561198995880877</td><td>&quot;t&quot;</td><td>6</td><td>10</td><td>60.0</td></tr><tr><td>&quot;chopper&quot;</td><td>76561198045898864</td><td>&quot;t&quot;</td><td>6</td><td>10</td><td>60.0</td></tr></tbody></table></div>"
      ],
      "text/plain": [
       "shape: (30, 6)\n",
       "┌───────────┬───────────────────┬──────┬─────────────┬──────────┬───────────┐\n",
       "│ name      ┆ steamid           ┆ side ┆ kast_rounds ┆ n_rounds ┆ kast      │\n",
       "│ ---       ┆ ---               ┆ ---  ┆ ---         ┆ ---      ┆ ---       │\n",
       "│ str       ┆ u64               ┆ str  ┆ u32         ┆ u32      ┆ f64       │\n",
       "╞═══════════╪═══════════════════╪══════╪═════════════╪══════════╪═══════════╡\n",
       "│ chopper   ┆ 76561198045898864 ┆ all  ┆ 14          ┆ 22       ┆ 63.636364 │\n",
       "│ donk      ┆ 76561198386265483 ┆ all  ┆ 18          ┆ 22       ┆ 81.818182 │\n",
       "│ w0nderful ┆ 76561199063068840 ┆ all  ┆ 18          ┆ 22       ┆ 81.818182 │\n",
       "│ sh1ro     ┆ 76561198081484775 ┆ all  ┆ 17          ┆ 22       ┆ 77.272727 │\n",
       "│ jL        ┆ 76561198176878303 ┆ all  ┆ 15          ┆ 22       ┆ 68.181818 │\n",
       "│ …         ┆ …                 ┆ …    ┆ …           ┆ …        ┆ …         │\n",
       "│ magixx    ┆ 76561199063238565 ┆ t    ┆ 8           ┆ 10       ┆ 80.0      │\n",
       "│ w0nderful ┆ 76561199063068840 ┆ t    ┆ 11          ┆ 12       ┆ 91.666667 │\n",
       "│ jL        ┆ 76561198176878303 ┆ t    ┆ 9           ┆ 12       ┆ 75.0      │\n",
       "│ zont1x    ┆ 76561198995880877 ┆ t    ┆ 6           ┆ 10       ┆ 60.0      │\n",
       "│ chopper   ┆ 76561198045898864 ┆ t    ┆ 6           ┆ 10       ┆ 60.0      │\n",
       "└───────────┴───────────────────┴──────┴─────────────┴──────────┴───────────┘"
      ]
     },
     "execution_count": 5,
     "metadata": {},
     "output_type": "execute_result"
    }
   ],
   "source": [
    "from awpy.stats import kast\n",
    "\n",
    "kast(dem, trade_length_in_seconds=5)"
   ]
  },
  {
   "cell_type": "markdown",
   "metadata": {},
   "source": [
    "KAST takes one argument, `trade_length_in_seconds`, which specifies the length of a trade time in seconds. The default is 5 seconds."
   ]
  },
  {
   "cell_type": "markdown",
   "metadata": {},
   "source": [
    "### Rating\n",
    "\n",
    "HLTV developed Rating and [Rating 2.0](https://www.hltv.org/news/20695/introducing-rating-20), which are well-described [here](https://www.youtube.com/watch?v=4rs1E4eKZcg) and an example is reverse-engineered [here](https://flashed.gg/posts/reverse-engineering-hltv-rating/). We provide a rating-esque statistic in `awpy.stats.rating`. You can calculate rating in Awpy as follows:"
   ]
  },
  {
   "cell_type": "code",
   "execution_count": 6,
   "metadata": {},
   "outputs": [
    {
     "data": {
      "text/html": [
       "<div><style>\n",
       ".dataframe > thead > tr,\n",
       ".dataframe > tbody > tr {\n",
       "  text-align: right;\n",
       "  white-space: pre-wrap;\n",
       "}\n",
       "</style>\n",
       "<small>shape: (30, 6)</small><table border=\"1\" class=\"dataframe\"><thead><tr><th>name</th><th>steamid</th><th>side</th><th>n_rounds</th><th>impact</th><th>rating</th></tr><tr><td>str</td><td>u64</td><td>str</td><td>u32</td><td>f64</td><td>f64</td></tr></thead><tbody><tr><td>&quot;chopper&quot;</td><td>76561198045898864</td><td>&quot;all&quot;</td><td>22</td><td>0.556818</td><td>0.66615</td></tr><tr><td>&quot;donk&quot;</td><td>76561198386265483</td><td>&quot;all&quot;</td><td>22</td><td>1.931364</td><td>1.562747</td></tr><tr><td>&quot;jL&quot;</td><td>76561198176878303</td><td>&quot;all&quot;</td><td>22</td><td>1.526364</td><td>1.231553</td></tr><tr><td>&quot;magixx&quot;</td><td>76561199063238565</td><td>&quot;all&quot;</td><td>22</td><td>1.001364</td><td>1.185146</td></tr><tr><td>&quot;sh1ro&quot;</td><td>76561198081484775</td><td>&quot;all&quot;</td><td>22</td><td>1.912273</td><td>1.587677</td></tr><tr><td>&hellip;</td><td>&hellip;</td><td>&hellip;</td><td>&hellip;</td><td>&hellip;</td><td>&hellip;</td></tr><tr><td>&quot;chopper&quot;</td><td>76561198045898864</td><td>&quot;t&quot;</td><td>10</td><td>0.568</td><td>0.7551796</td></tr><tr><td>&quot;jL&quot;</td><td>76561198176878303</td><td>&quot;t&quot;</td><td>12</td><td>1.72</td><td>1.273859</td></tr><tr><td>&quot;iM&quot;</td><td>76561198050250233</td><td>&quot;t&quot;</td><td>12</td><td>0.51</td><td>0.51913</td></tr><tr><td>&quot;zont1x&quot;</td><td>76561198995880877</td><td>&quot;t&quot;</td><td>10</td><td>0.397</td><td>0.5996484</td></tr><tr><td>&quot;w0nderful&quot;</td><td>76561199063068840</td><td>&quot;t&quot;</td><td>12</td><td>0.5475</td><td>0.7978</td></tr></tbody></table></div>"
      ],
      "text/plain": [
       "shape: (30, 6)\n",
       "┌───────────┬───────────────────┬──────┬──────────┬──────────┬───────────┐\n",
       "│ name      ┆ steamid           ┆ side ┆ n_rounds ┆ impact   ┆ rating    │\n",
       "│ ---       ┆ ---               ┆ ---  ┆ ---      ┆ ---      ┆ ---       │\n",
       "│ str       ┆ u64               ┆ str  ┆ u32      ┆ f64      ┆ f64       │\n",
       "╞═══════════╪═══════════════════╪══════╪══════════╪══════════╪═══════════╡\n",
       "│ chopper   ┆ 76561198045898864 ┆ all  ┆ 22       ┆ 0.556818 ┆ 0.66615   │\n",
       "│ donk      ┆ 76561198386265483 ┆ all  ┆ 22       ┆ 1.931364 ┆ 1.562747  │\n",
       "│ jL        ┆ 76561198176878303 ┆ all  ┆ 22       ┆ 1.526364 ┆ 1.231553  │\n",
       "│ magixx    ┆ 76561199063238565 ┆ all  ┆ 22       ┆ 1.001364 ┆ 1.185146  │\n",
       "│ sh1ro     ┆ 76561198081484775 ┆ all  ┆ 22       ┆ 1.912273 ┆ 1.587677  │\n",
       "│ …         ┆ …                 ┆ …    ┆ …        ┆ …        ┆ …         │\n",
       "│ chopper   ┆ 76561198045898864 ┆ t    ┆ 10       ┆ 0.568    ┆ 0.7551796 │\n",
       "│ jL        ┆ 76561198176878303 ┆ t    ┆ 12       ┆ 1.72     ┆ 1.273859  │\n",
       "│ iM        ┆ 76561198050250233 ┆ t    ┆ 12       ┆ 0.51     ┆ 0.51913   │\n",
       "│ zont1x    ┆ 76561198995880877 ┆ t    ┆ 10       ┆ 0.397    ┆ 0.5996484 │\n",
       "│ w0nderful ┆ 76561199063068840 ┆ t    ┆ 12       ┆ 0.5475   ┆ 0.7978    │\n",
       "└───────────┴───────────────────┴──────┴──────────┴──────────┴───────────┘"
      ]
     },
     "execution_count": 6,
     "metadata": {},
     "output_type": "execute_result"
    }
   ],
   "source": [
    "from awpy.stats import rating\n",
    "\n",
    "rating(dem)"
   ]
  },
  {
   "cell_type": "markdown",
   "metadata": {},
   "source": [
    "You can control the individual coefficients as arguments, via `kast_coef=...`, `kills_coef=...` and so on."
   ]
  }
 ],
 "metadata": {
  "kernelspec": {
   "display_name": ".venv",
   "language": "python",
   "name": "python3"
  },
  "language_info": {
   "codemirror_mode": {
    "name": "ipython",
    "version": 3
   },
   "file_extension": ".py",
   "mimetype": "text/x-python",
   "name": "python",
   "nbconvert_exporter": "python",
   "pygments_lexer": "ipython3",
   "version": "3.11.8"
  }
 },
 "nbformat": 4,
 "nbformat_minor": 2
}
